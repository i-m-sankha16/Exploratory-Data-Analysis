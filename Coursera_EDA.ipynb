{
  "nbformat": 4,
  "nbformat_minor": 0,
  "metadata": {
    "colab": {
      "name": "Coursera_EDA",
      "provenance": [],
      "collapsed_sections": [],
      "authorship_tag": "ABX9TyNLKrh3ILNZ3egRFinPC5Bn",
      "include_colab_link": true
    },
    "kernelspec": {
      "name": "python3",
      "display_name": "Python 3"
    },
    "accelerator": "GPU"
  },
  "cells": [
    {
      "cell_type": "markdown",
      "metadata": {
        "id": "view-in-github",
        "colab_type": "text"
      },
      "source": [
        "<a href=\"https://colab.research.google.com/github/i-m-sankha16/Exploratory-Data-Analysis/blob/master/Coursera_EDA.ipynb\" target=\"_parent\"><img src=\"https://colab.research.google.com/assets/colab-badge.svg\" alt=\"Open In Colab\"/></a>"
      ]
    },
    {
      "cell_type": "code",
      "metadata": {
        "id": "bc_IxV3snnmD",
        "colab_type": "code",
        "colab": {
          "base_uri": "https://localhost:8080/",
          "height": 122
        },
        "outputId": "1dedf7c3-552b-4975-b3a6-c1d47a465860"
      },
      "source": [
        "from google.colab import drive\n",
        "drive.mount('/content/drive/')"
      ],
      "execution_count": 1,
      "outputs": [
        {
          "output_type": "stream",
          "text": [
            "Go to this URL in a browser: https://accounts.google.com/o/oauth2/auth?client_id=947318989803-6bn6qk8qdgf4n4g3pfee6491hc0brc4i.apps.googleusercontent.com&redirect_uri=urn%3aietf%3awg%3aoauth%3a2.0%3aoob&response_type=code&scope=email%20https%3a%2f%2fwww.googleapis.com%2fauth%2fdocs.test%20https%3a%2f%2fwww.googleapis.com%2fauth%2fdrive%20https%3a%2f%2fwww.googleapis.com%2fauth%2fdrive.photos.readonly%20https%3a%2f%2fwww.googleapis.com%2fauth%2fpeopleapi.readonly\n",
            "\n",
            "Enter your authorization code:\n",
            "··········\n",
            "Mounted at /content/drive/\n"
          ],
          "name": "stdout"
        }
      ]
    },
    {
      "cell_type": "code",
      "metadata": {
        "id": "6m3Qfm-1YUGd",
        "colab_type": "code",
        "colab": {}
      },
      "source": [
        "import pandas as pd\n",
        "import numpy as np\n",
        "#import matplotlib.pyplot as plt\n",
        "#import seaborn as sns"
      ],
      "execution_count": 2,
      "outputs": []
    },
    {
      "cell_type": "code",
      "metadata": {
        "id": "Exa3OPFJYya4",
        "colab_type": "code",
        "colab": {}
      },
      "source": [
        "df=pd.read_csv(\"/content/drive/My Drive/Coursera Dataset.csv\")"
      ],
      "execution_count": 3,
      "outputs": []
    },
    {
      "cell_type": "code",
      "metadata": {
        "id": "GIG4kKLJY9Pc",
        "colab_type": "code",
        "colab": {
          "base_uri": "https://localhost:8080/",
          "height": 221
        },
        "outputId": "9f745f6a-c6bb-4de2-cdab-de76c9e61169"
      },
      "source": [
        "df.head()"
      ],
      "execution_count": 4,
      "outputs": [
        {
          "output_type": "execute_result",
          "data": {
            "text/html": [
              "<div>\n",
              "<style scoped>\n",
              "    .dataframe tbody tr th:only-of-type {\n",
              "        vertical-align: middle;\n",
              "    }\n",
              "\n",
              "    .dataframe tbody tr th {\n",
              "        vertical-align: top;\n",
              "    }\n",
              "\n",
              "    .dataframe thead th {\n",
              "        text-align: right;\n",
              "    }\n",
              "</style>\n",
              "<table border=\"1\" class=\"dataframe\">\n",
              "  <thead>\n",
              "    <tr style=\"text-align: right;\">\n",
              "      <th></th>\n",
              "      <th>Unnamed: 0</th>\n",
              "      <th>course_title</th>\n",
              "      <th>course_organization</th>\n",
              "      <th>course_Certificate_type</th>\n",
              "      <th>course_rating</th>\n",
              "      <th>course_difficulty</th>\n",
              "      <th>course_students_enrolled</th>\n",
              "    </tr>\n",
              "  </thead>\n",
              "  <tbody>\n",
              "    <tr>\n",
              "      <th>0</th>\n",
              "      <td>134</td>\n",
              "      <td>(ISC)² Systems Security Certified Practitioner...</td>\n",
              "      <td>(ISC)²</td>\n",
              "      <td>SPECIALIZATION</td>\n",
              "      <td>4.7</td>\n",
              "      <td>Beginner</td>\n",
              "      <td>5.3k</td>\n",
              "    </tr>\n",
              "    <tr>\n",
              "      <th>1</th>\n",
              "      <td>743</td>\n",
              "      <td>A Crash Course in Causality:  Inferring Causal...</td>\n",
              "      <td>University of Pennsylvania</td>\n",
              "      <td>COURSE</td>\n",
              "      <td>4.7</td>\n",
              "      <td>Intermediate</td>\n",
              "      <td>17k</td>\n",
              "    </tr>\n",
              "    <tr>\n",
              "      <th>2</th>\n",
              "      <td>874</td>\n",
              "      <td>A Crash Course in Data Science</td>\n",
              "      <td>Johns Hopkins University</td>\n",
              "      <td>COURSE</td>\n",
              "      <td>4.5</td>\n",
              "      <td>Mixed</td>\n",
              "      <td>130k</td>\n",
              "    </tr>\n",
              "    <tr>\n",
              "      <th>3</th>\n",
              "      <td>413</td>\n",
              "      <td>A Law Student's Toolkit</td>\n",
              "      <td>Yale University</td>\n",
              "      <td>COURSE</td>\n",
              "      <td>4.7</td>\n",
              "      <td>Mixed</td>\n",
              "      <td>91k</td>\n",
              "    </tr>\n",
              "    <tr>\n",
              "      <th>4</th>\n",
              "      <td>635</td>\n",
              "      <td>A Life of Happiness and Fulfillment</td>\n",
              "      <td>Indian School of Business</td>\n",
              "      <td>COURSE</td>\n",
              "      <td>4.8</td>\n",
              "      <td>Mixed</td>\n",
              "      <td>320k</td>\n",
              "    </tr>\n",
              "  </tbody>\n",
              "</table>\n",
              "</div>"
            ],
            "text/plain": [
              "   Unnamed: 0  ... course_students_enrolled\n",
              "0         134  ...                     5.3k\n",
              "1         743  ...                      17k\n",
              "2         874  ...                     130k\n",
              "3         413  ...                      91k\n",
              "4         635  ...                     320k\n",
              "\n",
              "[5 rows x 7 columns]"
            ]
          },
          "metadata": {
            "tags": []
          },
          "execution_count": 4
        }
      ]
    },
    {
      "cell_type": "markdown",
      "metadata": {
        "id": "_xxwTVErrfqx",
        "colab_type": "text"
      },
      "source": [
        "**Checking if there are any missing values or not**"
      ]
    },
    {
      "cell_type": "code",
      "metadata": {
        "id": "kOLgNy9bpwsz",
        "colab_type": "code",
        "colab": {
          "base_uri": "https://localhost:8080/",
          "height": 153
        },
        "outputId": "33342a4c-5e4c-4f31-cf7e-1e91480a10a2"
      },
      "source": [
        "df.isnull().sum()"
      ],
      "execution_count": 5,
      "outputs": [
        {
          "output_type": "execute_result",
          "data": {
            "text/plain": [
              "Unnamed: 0                  0\n",
              "course_title                0\n",
              "course_organization         0\n",
              "course_Certificate_type     0\n",
              "course_rating               0\n",
              "course_difficulty           0\n",
              "course_students_enrolled    0\n",
              "dtype: int64"
            ]
          },
          "metadata": {
            "tags": []
          },
          "execution_count": 5
        }
      ]
    },
    {
      "cell_type": "code",
      "metadata": {
        "id": "40BahTtPZKz0",
        "colab_type": "code",
        "colab": {
          "base_uri": "https://localhost:8080/",
          "height": 297
        },
        "outputId": "ea3c20e6-42e4-4b65-b836-19eb97c85096"
      },
      "source": [
        "df.describe()"
      ],
      "execution_count": 6,
      "outputs": [
        {
          "output_type": "execute_result",
          "data": {
            "text/html": [
              "<div>\n",
              "<style scoped>\n",
              "    .dataframe tbody tr th:only-of-type {\n",
              "        vertical-align: middle;\n",
              "    }\n",
              "\n",
              "    .dataframe tbody tr th {\n",
              "        vertical-align: top;\n",
              "    }\n",
              "\n",
              "    .dataframe thead th {\n",
              "        text-align: right;\n",
              "    }\n",
              "</style>\n",
              "<table border=\"1\" class=\"dataframe\">\n",
              "  <thead>\n",
              "    <tr style=\"text-align: right;\">\n",
              "      <th></th>\n",
              "      <th>Unnamed: 0</th>\n",
              "      <th>course_rating</th>\n",
              "    </tr>\n",
              "  </thead>\n",
              "  <tbody>\n",
              "    <tr>\n",
              "      <th>count</th>\n",
              "      <td>891.000000</td>\n",
              "      <td>891.000000</td>\n",
              "    </tr>\n",
              "    <tr>\n",
              "      <th>mean</th>\n",
              "      <td>445.000000</td>\n",
              "      <td>4.677329</td>\n",
              "    </tr>\n",
              "    <tr>\n",
              "      <th>std</th>\n",
              "      <td>257.353842</td>\n",
              "      <td>0.162225</td>\n",
              "    </tr>\n",
              "    <tr>\n",
              "      <th>min</th>\n",
              "      <td>0.000000</td>\n",
              "      <td>3.300000</td>\n",
              "    </tr>\n",
              "    <tr>\n",
              "      <th>25%</th>\n",
              "      <td>222.500000</td>\n",
              "      <td>4.600000</td>\n",
              "    </tr>\n",
              "    <tr>\n",
              "      <th>50%</th>\n",
              "      <td>445.000000</td>\n",
              "      <td>4.700000</td>\n",
              "    </tr>\n",
              "    <tr>\n",
              "      <th>75%</th>\n",
              "      <td>667.500000</td>\n",
              "      <td>4.800000</td>\n",
              "    </tr>\n",
              "    <tr>\n",
              "      <th>max</th>\n",
              "      <td>890.000000</td>\n",
              "      <td>5.000000</td>\n",
              "    </tr>\n",
              "  </tbody>\n",
              "</table>\n",
              "</div>"
            ],
            "text/plain": [
              "       Unnamed: 0  course_rating\n",
              "count  891.000000     891.000000\n",
              "mean   445.000000       4.677329\n",
              "std    257.353842       0.162225\n",
              "min      0.000000       3.300000\n",
              "25%    222.500000       4.600000\n",
              "50%    445.000000       4.700000\n",
              "75%    667.500000       4.800000\n",
              "max    890.000000       5.000000"
            ]
          },
          "metadata": {
            "tags": []
          },
          "execution_count": 6
        }
      ]
    },
    {
      "cell_type": "markdown",
      "metadata": {
        "id": "0qa6fjc5aGqn",
        "colab_type": "text"
      },
      "source": [
        "**Using langdetect library to see what are available languages for courses**"
      ]
    },
    {
      "cell_type": "code",
      "metadata": {
        "id": "yK8GVc6OaU_m",
        "colab_type": "code",
        "colab": {
          "base_uri": "https://localhost:8080/",
          "height": 204
        },
        "outputId": "0c7b98e9-c0c6-4b2f-a626-c6ce6dee10f1"
      },
      "source": [
        "pip install langdetect"
      ],
      "execution_count": 7,
      "outputs": [
        {
          "output_type": "stream",
          "text": [
            "Collecting langdetect\n",
            "\u001b[?25l  Downloading https://files.pythonhosted.org/packages/56/a3/8407c1e62d5980188b4acc45ef3d94b933d14a2ebc9ef3505f22cf772570/langdetect-1.0.8.tar.gz (981kB)\n",
            "\u001b[K     |████████████████████████████████| 983kB 3.4MB/s \n",
            "\u001b[?25hRequirement already satisfied: six in /usr/local/lib/python3.6/dist-packages (from langdetect) (1.15.0)\n",
            "Building wheels for collected packages: langdetect\n",
            "  Building wheel for langdetect (setup.py) ... \u001b[?25l\u001b[?25hdone\n",
            "  Created wheel for langdetect: filename=langdetect-1.0.8-cp36-none-any.whl size=993193 sha256=42109bed07ef56218945d07b3b01ad5721d4424887358d1386a4fd3a538a3d04\n",
            "  Stored in directory: /root/.cache/pip/wheels/8d/b3/aa/6d99de9f3841d7d3d40a60ea06e6d669e8e5012e6c8b947a57\n",
            "Successfully built langdetect\n",
            "Installing collected packages: langdetect\n",
            "Successfully installed langdetect-1.0.8\n"
          ],
          "name": "stdout"
        }
      ]
    },
    {
      "cell_type": "code",
      "metadata": {
        "id": "4fRCI4dlahL3",
        "colab_type": "code",
        "colab": {
          "base_uri": "https://localhost:8080/",
          "height": 391
        },
        "outputId": "6fedd100-ef84-48fc-e38d-881043e49f45"
      },
      "source": [
        "import langdetect\n",
        "df['Language']=df['course_title'].apply(lambda x: langdetect.detect(x))\n",
        "df['Language'].value_counts()"
      ],
      "execution_count": 8,
      "outputs": [
        {
          "output_type": "execute_result",
          "data": {
            "text/plain": [
              "en    718\n",
              "es     46\n",
              "fr     18\n",
              "it     18\n",
              "de     16\n",
              "ru     14\n",
              "ca      9\n",
              "nl      8\n",
              "da      7\n",
              "ro      7\n",
              "no      6\n",
              "pt      6\n",
              "tl      5\n",
              "id      4\n",
              "pl      2\n",
              "af      2\n",
              "bg      1\n",
              "lt      1\n",
              "hr      1\n",
              "cy      1\n",
              "hu      1\n",
              "Name: Language, dtype: int64"
            ]
          },
          "metadata": {
            "tags": []
          },
          "execution_count": 8
        }
      ]
    },
    {
      "cell_type": "code",
      "metadata": {
        "id": "XokrA4UTbPyJ",
        "colab_type": "code",
        "colab": {
          "base_uri": "https://localhost:8080/",
          "height": 34
        },
        "outputId": "0086e4a6-5118-4789-9ccf-4ce203523294"
      },
      "source": [
        "df['Language'].value_counts().sum()"
      ],
      "execution_count": 9,
      "outputs": [
        {
          "output_type": "execute_result",
          "data": {
            "text/plain": [
              "891"
            ]
          },
          "metadata": {
            "tags": []
          },
          "execution_count": 9
        }
      ]
    },
    {
      "cell_type": "markdown",
      "metadata": {
        "id": "8fxKVQqks4Y0",
        "colab_type": "text"
      },
      "source": [
        "**Following steps are done for ease of analysis and aggregation**"
      ]
    },
    {
      "cell_type": "code",
      "metadata": {
        "id": "TtclFGj1gFNv",
        "colab_type": "code",
        "colab": {}
      },
      "source": [
        "df['Enrolled']=df['course_students_enrolled'].map(lambda x: str(x)[:-1])"
      ],
      "execution_count": 10,
      "outputs": []
    },
    {
      "cell_type": "code",
      "metadata": {
        "id": "8wKnfY0XhPn8",
        "colab_type": "code",
        "colab": {}
      },
      "source": [
        "df['Enrolled']=pd.to_numeric(df['Enrolled'])"
      ],
      "execution_count": 11,
      "outputs": []
    },
    {
      "cell_type": "code",
      "metadata": {
        "id": "BNxV3G1uhz7q",
        "colab_type": "code",
        "colab": {}
      },
      "source": [
        "df['Enrolled']=df['Enrolled']*1000"
      ],
      "execution_count": 12,
      "outputs": []
    },
    {
      "cell_type": "code",
      "metadata": {
        "id": "iJ9oRKNjiAB1",
        "colab_type": "code",
        "colab": {
          "base_uri": "https://localhost:8080/",
          "height": 170
        },
        "outputId": "d4bfe806-a10f-4203-8a50-454a0a302532"
      },
      "source": [
        "df[\"Enrolled\"].describe()"
      ],
      "execution_count": 13,
      "outputs": [
        {
          "output_type": "execute_result",
          "data": {
            "text/plain": [
              "count       891.000000\n",
              "mean      81021.773288\n",
              "std      108548.735793\n",
              "min        1300.000000\n",
              "25%       17000.000000\n",
              "50%       42000.000000\n",
              "75%       97500.000000\n",
              "max      830000.000000\n",
              "Name: Enrolled, dtype: float64"
            ]
          },
          "metadata": {
            "tags": []
          },
          "execution_count": 13
        }
      ]
    },
    {
      "cell_type": "markdown",
      "metadata": {
        "id": "S8GjAaNhiKoI",
        "colab_type": "text"
      },
      "source": [
        "Pie Chart for various parameter Visualisation with importing plotly"
      ]
    },
    {
      "cell_type": "code",
      "metadata": {
        "id": "tgBevl4iiEbh",
        "colab_type": "code",
        "colab": {}
      },
      "source": [
        "import plotly.express as px"
      ],
      "execution_count": 14,
      "outputs": []
    },
    {
      "cell_type": "code",
      "metadata": {
        "id": "SUpqHIW1iaGo",
        "colab_type": "code",
        "colab": {}
      },
      "source": [
        "##import plotly.graph_objects as go"
      ],
      "execution_count": 15,
      "outputs": []
    },
    {
      "cell_type": "code",
      "metadata": {
        "id": "QM5k3q7-3jip",
        "colab_type": "code",
        "colab": {}
      },
      "source": [
        "fig = px.pie(df,values='Enrolled',names='course_difficulty')"
      ],
      "execution_count": 16,
      "outputs": []
    },
    {
      "cell_type": "code",
      "metadata": {
        "id": "nA19zLhB5Fi4",
        "colab_type": "code",
        "colab": {
          "base_uri": "https://localhost:8080/",
          "height": 542
        },
        "outputId": "d0d9333e-55d3-4c39-ee7d-6a89dbebd5e6"
      },
      "source": [
        "fig.show()"
      ],
      "execution_count": 17,
      "outputs": [
        {
          "output_type": "display_data",
          "data": {
            "text/html": [
              "<html>\n",
              "<head><meta charset=\"utf-8\" /></head>\n",
              "<body>\n",
              "    <div>\n",
              "            <script src=\"https://cdnjs.cloudflare.com/ajax/libs/mathjax/2.7.5/MathJax.js?config=TeX-AMS-MML_SVG\"></script><script type=\"text/javascript\">if (window.MathJax) {MathJax.Hub.Config({SVG: {font: \"STIX-Web\"}});}</script>\n",
              "                <script type=\"text/javascript\">window.PlotlyConfig = {MathJaxConfig: 'local'};</script>\n",
              "        <script src=\"https://cdn.plot.ly/plotly-latest.min.js\"></script>    \n",
              "            <div id=\"4703906f-d9a5-4ba5-9c52-be854382c4b4\" class=\"plotly-graph-div\" style=\"height:525px; width:100%;\"></div>\n",
              "            <script type=\"text/javascript\">\n",
              "                \n",
              "                    window.PLOTLYENV=window.PLOTLYENV || {};\n",
              "                    \n",
              "                if (document.getElementById(\"4703906f-d9a5-4ba5-9c52-be854382c4b4\")) {\n",
              "                    Plotly.newPlot(\n",
              "                        '4703906f-d9a5-4ba5-9c52-be854382c4b4',\n",
              "                        [{\"domain\": {\"x\": [0.0, 1.0], \"y\": [0.0, 1.0]}, \"hoverlabel\": {\"namelength\": 0}, \"hovertemplate\": \"course_difficulty=%{label}<br>Enrolled=%{value}\", \"labels\": [\"Beginner\", \"Intermediate\", \"Mixed\", \"Mixed\", \"Mixed\", \"Beginner\", \"Beginner\", \"Intermediate\", \"Beginner\", \"Intermediate\", \"Intermediate\", \"Intermediate\", \"Beginner\", \"Beginner\", \"Beginner\", \"Beginner\", \"Intermediate\", \"Mixed\", \"Beginner\", \"Intermediate\", \"Beginner\", \"Mixed\", \"Intermediate\", \"Beginner\", \"Mixed\", \"Beginner\", \"Intermediate\", \"Advanced\", \"Advanced\", \"Advanced\", \"Advanced\", \"Mixed\", \"Beginner\", \"Beginner\", \"Beginner\", \"Beginner\", \"Beginner\", \"Intermediate\", \"Intermediate\", \"Intermediate\", \"Beginner\", \"Beginner\", \"Beginner\", \"Beginner\", \"Beginner\", \"Beginner\", \"Intermediate\", \"Beginner\", \"Mixed\", \"Beginner\", \"Mixed\", \"Advanced\", \"Beginner\", \"Intermediate\", \"Beginner\", \"Intermediate\", \"Intermediate\", \"Intermediate\", \"Intermediate\", \"Beginner\", \"Mixed\", \"Beginner\", \"Intermediate\", \"Intermediate\", \"Beginner\", \"Beginner\", \"Mixed\", \"Mixed\", \"Mixed\", \"Mixed\", \"Beginner\", \"Mixed\", \"Intermediate\", \"Mixed\", \"Intermediate\", \"Intermediate\", \"Advanced\", \"Advanced\", \"Beginner\", \"Beginner\", \"Intermediate\", \"Intermediate\", \"Mixed\", \"Beginner\", \"Intermediate\", \"Beginner\", \"Beginner\", \"Mixed\", \"Mixed\", \"Beginner\", \"Beginner\", \"Beginner\", \"Beginner\", \"Intermediate\", \"Intermediate\", \"Beginner\", \"Beginner\", \"Beginner\", \"Beginner\", \"Beginner\", \"Beginner\", \"Mixed\", \"Beginner\", \"Mixed\", \"Intermediate\", \"Beginner\", \"Intermediate\", \"Intermediate\", \"Mixed\", \"Beginner\", \"Intermediate\", \"Intermediate\", \"Intermediate\", \"Beginner\", \"Mixed\", \"Beginner\", \"Beginner\", \"Beginner\", \"Beginner\", \"Beginner\", \"Beginner\", \"Beginner\", \"Beginner\", \"Beginner\", \"Beginner\", \"Beginner\", \"Mixed\", \"Beginner\", \"Mixed\", \"Beginner\", \"Beginner\", \"Beginner\", \"Mixed\", \"Beginner\", \"Beginner\", \"Beginner\", \"Mixed\", \"Beginner\", \"Beginner\", \"Beginner\", \"Intermediate\", \"Beginner\", \"Intermediate\", \"Intermediate\", \"Beginner\", \"Beginner\", \"Beginner\", \"Beginner\", \"Beginner\", \"Intermediate\", \"Beginner\", \"Beginner\", \"Beginner\", \"Beginner\", \"Beginner\", \"Beginner\", \"Beginner\", \"Beginner\", \"Beginner\", \"Beginner\", \"Beginner\", \"Mixed\", \"Intermediate\", \"Intermediate\", \"Intermediate\", \"Mixed\", \"Beginner\", \"Mixed\", \"Beginner\", \"Beginner\", \"Intermediate\", \"Beginner\", \"Mixed\", \"Beginner\", \"Mixed\", \"Beginner\", \"Intermediate\", \"Intermediate\", \"Beginner\", \"Beginner\", \"Beginner\", \"Intermediate\", \"Beginner\", \"Beginner\", \"Beginner\", \"Mixed\", \"Beginner\", \"Beginner\", \"Beginner\", \"Beginner\", \"Intermediate\", \"Intermediate\", \"Intermediate\", \"Intermediate\", \"Beginner\", \"Intermediate\", \"Beginner\", \"Beginner\", \"Beginner\", \"Beginner\", \"Intermediate\", \"Mixed\", \"Beginner\", \"Intermediate\", \"Beginner\", \"Advanced\", \"Beginner\", \"Beginner\", \"Beginner\", \"Beginner\", \"Mixed\", \"Intermediate\", \"Beginner\", \"Beginner\", \"Beginner\", \"Beginner\", \"Beginner\", \"Mixed\", \"Mixed\", \"Intermediate\", \"Intermediate\", \"Intermediate\", \"Intermediate\", \"Intermediate\", \"Mixed\", \"Beginner\", \"Mixed\", \"Beginner\", \"Beginner\", \"Beginner\", \"Beginner\", \"Mixed\", \"Beginner\", \"Beginner\", \"Beginner\", \"Intermediate\", \"Beginner\", \"Beginner\", \"Intermediate\", \"Mixed\", \"Beginner\", \"Beginner\", \"Beginner\", \"Beginner\", \"Beginner\", \"Intermediate\", \"Mixed\", \"Mixed\", \"Intermediate\", \"Mixed\", \"Beginner\", \"Beginner\", \"Intermediate\", \"Beginner\", \"Intermediate\", \"Beginner\", \"Beginner\", \"Beginner\", \"Beginner\", \"Beginner\", \"Beginner\", \"Mixed\", \"Mixed\", \"Intermediate\", \"Beginner\", \"Beginner\", \"Intermediate\", \"Beginner\", \"Mixed\", \"Mixed\", \"Beginner\", \"Beginner\", \"Beginner\", \"Mixed\", \"Mixed\", \"Beginner\", \"Beginner\", \"Mixed\", \"Mixed\", \"Beginner\", \"Beginner\", \"Beginner\", \"Intermediate\", \"Intermediate\", \"Intermediate\", \"Intermediate\", \"Mixed\", \"Beginner\", \"Beginner\", \"Beginner\", \"Beginner\", \"Beginner\", \"Intermediate\", \"Beginner\", \"Intermediate\", \"Intermediate\", \"Beginner\", \"Beginner\", \"Beginner\", \"Beginner\", \"Beginner\", \"Beginner\", \"Beginner\", \"Beginner\", \"Beginner\", \"Beginner\", \"Beginner\", \"Beginner\", \"Intermediate\", \"Beginner\", \"Beginner\", \"Mixed\", \"Intermediate\", \"Beginner\", \"Beginner\", \"Intermediate\", \"Beginner\", \"Mixed\", \"Intermediate\", \"Mixed\", \"Beginner\", \"Beginner\", \"Beginner\", \"Mixed\", \"Mixed\", \"Intermediate\", \"Beginner\", \"Beginner\", \"Mixed\", \"Beginner\", \"Beginner\", \"Intermediate\", \"Beginner\", \"Beginner\", \"Beginner\", \"Beginner\", \"Intermediate\", \"Intermediate\", \"Intermediate\", \"Intermediate\", \"Intermediate\", \"Intermediate\", \"Beginner\", \"Beginner\", \"Beginner\", \"Mixed\", \"Beginner\", \"Beginner\", \"Intermediate\", \"Intermediate\", \"Beginner\", \"Beginner\", \"Mixed\", \"Intermediate\", \"Beginner\", \"Beginner\", \"Beginner\", \"Beginner\", \"Beginner\", \"Beginner\", \"Beginner\", \"Beginner\", \"Beginner\", \"Beginner\", \"Intermediate\", \"Beginner\", \"Mixed\", \"Beginner\", \"Intermediate\", \"Beginner\", \"Mixed\", \"Mixed\", \"Mixed\", \"Beginner\", \"Beginner\", \"Intermediate\", \"Intermediate\", \"Intermediate\", \"Beginner\", \"Beginner\", \"Mixed\", \"Beginner\", \"Beginner\", \"Intermediate\", \"Mixed\", \"Intermediate\", \"Mixed\", \"Intermediate\", \"Beginner\", \"Intermediate\", \"Intermediate\", \"Beginner\", \"Beginner\", \"Mixed\", \"Beginner\", \"Mixed\", \"Beginner\", \"Mixed\", \"Mixed\", \"Mixed\", \"Beginner\", \"Mixed\", \"Intermediate\", \"Mixed\", \"Beginner\", \"Intermediate\", \"Intermediate\", \"Beginner\", \"Beginner\", \"Mixed\", \"Beginner\", \"Beginner\", \"Intermediate\", \"Mixed\", \"Beginner\", \"Beginner\", \"Intermediate\", \"Advanced\", \"Beginner\", \"Beginner\", \"Beginner\", \"Beginner\", \"Beginner\", \"Beginner\", \"Beginner\", \"Beginner\", \"Beginner\", \"Beginner\", \"Beginner\", \"Beginner\", \"Mixed\", \"Beginner\", \"Intermediate\", \"Intermediate\", \"Beginner\", \"Beginner\", \"Beginner\", \"Beginner\", \"Mixed\", \"Beginner\", \"Beginner\", \"Beginner\", \"Beginner\", \"Intermediate\", \"Mixed\", \"Mixed\", \"Intermediate\", \"Beginner\", \"Intermediate\", \"Intermediate\", \"Beginner\", \"Intermediate\", \"Mixed\", \"Beginner\", \"Mixed\", \"Mixed\", \"Mixed\", \"Beginner\", \"Beginner\", \"Beginner\", \"Beginner\", \"Beginner\", \"Beginner\", \"Mixed\", \"Intermediate\", \"Beginner\", \"Beginner\", \"Mixed\", \"Mixed\", \"Beginner\", \"Mixed\", \"Beginner\", \"Mixed\", \"Intermediate\", \"Mixed\", \"Intermediate\", \"Beginner\", \"Mixed\", \"Beginner\", \"Beginner\", \"Beginner\", \"Mixed\", \"Beginner\", \"Beginner\", \"Beginner\", \"Mixed\", \"Beginner\", \"Intermediate\", \"Beginner\", \"Beginner\", \"Mixed\", \"Intermediate\", \"Mixed\", \"Mixed\", \"Mixed\", \"Mixed\", \"Mixed\", \"Mixed\", \"Mixed\", \"Mixed\", \"Beginner\", \"Beginner\", \"Mixed\", \"Mixed\", \"Intermediate\", \"Mixed\", \"Beginner\", \"Mixed\", \"Mixed\", \"Beginner\", \"Beginner\", \"Beginner\", \"Beginner\", \"Beginner\", \"Advanced\", \"Mixed\", \"Beginner\", \"Mixed\", \"Mixed\", \"Mixed\", \"Intermediate\", \"Beginner\", \"Intermediate\", \"Beginner\", \"Beginner\", \"Beginner\", \"Beginner\", \"Beginner\", \"Mixed\", \"Beginner\", \"Beginner\", \"Beginner\", \"Beginner\", \"Beginner\", \"Beginner\", \"Beginner\", \"Beginner\", \"Beginner\", \"Intermediate\", \"Beginner\", \"Beginner\", \"Beginner\", \"Mixed\", \"Beginner\", \"Beginner\", \"Intermediate\", \"Intermediate\", \"Beginner\", \"Beginner\", \"Intermediate\", \"Advanced\", \"Intermediate\", \"Beginner\", \"Beginner\", \"Beginner\", \"Beginner\", \"Beginner\", \"Beginner\", \"Intermediate\", \"Beginner\", \"Intermediate\", \"Mixed\", \"Beginner\", \"Intermediate\", \"Mixed\", \"Mixed\", \"Intermediate\", \"Beginner\", \"Intermediate\", \"Intermediate\", \"Intermediate\", \"Intermediate\", \"Beginner\", \"Beginner\", \"Mixed\", \"Beginner\", \"Beginner\", \"Beginner\", \"Mixed\", \"Beginner\", \"Beginner\", \"Beginner\", \"Beginner\", \"Beginner\", \"Intermediate\", \"Beginner\", \"Beginner\", \"Mixed\", \"Intermediate\", \"Beginner\", \"Mixed\", \"Beginner\", \"Beginner\", \"Mixed\", \"Beginner\", \"Beginner\", \"Beginner\", \"Beginner\", \"Intermediate\", \"Beginner\", \"Advanced\", \"Beginner\", \"Beginner\", \"Beginner\", \"Mixed\", \"Beginner\", \"Beginner\", \"Mixed\", \"Mixed\", \"Beginner\", \"Beginner\", \"Intermediate\", \"Intermediate\", \"Mixed\", \"Mixed\", \"Mixed\", \"Intermediate\", \"Beginner\", \"Mixed\", \"Beginner\", \"Mixed\", \"Intermediate\", \"Mixed\", \"Beginner\", \"Intermediate\", \"Intermediate\", \"Intermediate\", \"Mixed\", \"Beginner\", \"Beginner\", \"Beginner\", \"Intermediate\", \"Intermediate\", \"Beginner\", \"Intermediate\", \"Intermediate\", \"Mixed\", \"Beginner\", \"Beginner\", \"Mixed\", \"Advanced\", \"Intermediate\", \"Beginner\", \"Beginner\", \"Beginner\", \"Intermediate\", \"Mixed\", \"Beginner\", \"Beginner\", \"Mixed\", \"Intermediate\", \"Beginner\", \"Beginner\", \"Beginner\", \"Beginner\", \"Mixed\", \"Mixed\", \"Beginner\", \"Beginner\", \"Beginner\", \"Intermediate\", \"Beginner\", \"Intermediate\", \"Beginner\", \"Mixed\", \"Beginner\", \"Beginner\", \"Mixed\", \"Mixed\", \"Advanced\", \"Beginner\", \"Intermediate\", \"Beginner\", \"Beginner\", \"Mixed\", \"Intermediate\", \"Beginner\", \"Beginner\", \"Beginner\", \"Beginner\", \"Mixed\", \"Beginner\", \"Beginner\", \"Intermediate\", \"Mixed\", \"Beginner\", \"Intermediate\", \"Beginner\", \"Beginner\", \"Mixed\", \"Beginner\", \"Intermediate\", \"Beginner\", \"Intermediate\", \"Mixed\", \"Intermediate\", \"Beginner\", \"Beginner\", \"Beginner\", \"Mixed\", \"Mixed\", \"Beginner\", \"Mixed\", \"Intermediate\", \"Beginner\", \"Beginner\", \"Beginner\", \"Beginner\", \"Mixed\", \"Beginner\", \"Beginner\", \"Beginner\", \"Beginner\", \"Beginner\", \"Intermediate\", \"Mixed\", \"Beginner\", \"Beginner\", \"Mixed\", \"Intermediate\", \"Beginner\", \"Intermediate\", \"Advanced\", \"Intermediate\", \"Beginner\", \"Beginner\", \"Advanced\", \"Intermediate\", \"Intermediate\", \"Beginner\", \"Beginner\", \"Beginner\", \"Beginner\", \"Beginner\", \"Beginner\", \"Beginner\", \"Advanced\", \"Beginner\", \"Intermediate\", \"Mixed\", \"Beginner\", \"Beginner\", \"Beginner\", \"Beginner\", \"Advanced\", \"Beginner\", \"Mixed\", \"Intermediate\", \"Mixed\", \"Beginner\", \"Beginner\", \"Beginner\", \"Beginner\", \"Beginner\", \"Intermediate\", \"Advanced\", \"Beginner\", \"Beginner\", \"Mixed\", \"Beginner\", \"Intermediate\", \"Intermediate\", \"Beginner\", \"Beginner\", \"Beginner\", \"Mixed\", \"Beginner\", \"Beginner\", \"Intermediate\", \"Beginner\", \"Beginner\", \"Beginner\", \"Mixed\", \"Mixed\", \"Beginner\", \"Beginner\", \"Beginner\", \"Beginner\", \"Intermediate\", \"Mixed\", \"Beginner\", \"Beginner\", \"Mixed\", \"Intermediate\", \"Mixed\", \"Beginner\", \"Beginner\", \"Intermediate\", \"Intermediate\", \"Beginner\", \"Beginner\", \"Intermediate\", \"Beginner\", \"Beginner\", \"Beginner\", \"Beginner\", \"Beginner\", \"Intermediate\", \"Beginner\", \"Beginner\", \"Mixed\", \"Mixed\", \"Mixed\", \"Mixed\", \"Mixed\", \"Beginner\", \"Beginner\", \"Intermediate\", \"Mixed\", \"Mixed\", \"Beginner\", \"Mixed\", \"Intermediate\", \"Beginner\", \"Beginner\", \"Mixed\", \"Beginner\", \"Mixed\", \"Intermediate\", \"Beginner\", \"Beginner\", \"Beginner\", \"Mixed\", \"Beginner\", \"Beginner\", \"Beginner\", \"Beginner\", \"Mixed\", \"Beginner\", \"Intermediate\", \"Intermediate\", \"Beginner\", \"Beginner\", \"Beginner\", \"Beginner\", \"Mixed\", \"Beginner\", \"Beginner\", \"Intermediate\", \"Beginner\", \"Mixed\", \"Beginner\", \"Beginner\", \"Intermediate\", \"Beginner\", \"Beginner\", \"Intermediate\", \"Beginner\", \"Intermediate\", \"Mixed\", \"Mixed\", \"Beginner\", \"Intermediate\", \"Mixed\", \"Mixed\", \"Beginner\", \"Beginner\", \"Mixed\", \"Intermediate\", \"Beginner\", \"Beginner\", \"Beginner\", \"Mixed\", \"Mixed\", \"Beginner\", \"Mixed\", \"Beginner\", \"Intermediate\", \"Beginner\", \"Mixed\", \"Beginner\", \"Beginner\", \"Mixed\", \"Intermediate\", \"Beginner\", \"Intermediate\", \"Beginner\", \"Beginner\", \"Intermediate\", \"Beginner\", \"Beginner\", \"Intermediate\", \"Intermediate\", \"Beginner\", \"Intermediate\", \"Intermediate\", \"Intermediate\", \"Mixed\", \"Intermediate\", \"Intermediate\", \"Beginner\"], \"legendgroup\": \"\", \"name\": \"\", \"showlegend\": true, \"type\": \"pie\", \"values\": [5300.0, 17000.0, 130000.0, 91000.0, 320000.0, 39000.0, 350000.0, 2400.0, 61000.0, 12000.0, 4000.0, 13000.0, 130000.0, 11000.0, 27000.0, 110000.0, 13000.0, 6600.0, 540000.0, 22000.0, 2900.0, 80000.0, 9900.0, 110000.0, 23000.0, 9200.0, 78000.0, 320000.0, 190000.0, 35000.0, 29000.0, 14000.0, 21000.0, 94000.0, 69000.0, 40000.0, 12000.0, 220000.0, 150000.0, 14000.0, 18000.0, 23000.0, 69000.0, 270000.0, 7900.0, 30000.0, 36000.0, 20000.0, 8100.0, 120000.0, 71000.0, 11000.0, 11000.0, 63000.0, 220000.0, 42000.0, 480000.0, 150000.0, 97000.0, 6600.0, 200000.0, 180000.0, 4200.0, 310000.0, 3900.0, 150000.0, 79000.0, 31000.0, 15000.0, 15000.0, 10000.0, 66000.0, 33000.0, 56000.0, 7300.0, 9200.0, 22000.0, 9700.0, 13000.0, 180000.0, 91000.0, 29000.0, 210000.0, 28000.0, 4200.0, 6500.0, 61000.0, 55000.0, 2300.0, 8800.0, 35000.0, 88000.0, 14000.0, 1900.0, 68000.0, 21000.0, 1600.0, 31000.0, 9500.0, 57000.0, 26000.0, 84000.0, 15000.0, 95000.0, 7300.0, 22000.0, 5800.0, 24000.0, 67000.0, 280000.0, 38000.0, 120000.0, 77000.0, 510000.0, 13000.0, 110000.0, 24000.0, 89000.0, 67000.0, 10000.0, 48000.0, 160000.0, 31000.0, 36000.0, 220000.0, 32000.0, 130000.0, 340000.0, 82000.0, 790000.0, 31000.0, 23000.0, 19000.0, 30000.0, 22000.0, 57000.0, 51000.0, 51000.0, 4800.0, 32000.0, 110000.0, 37000.0, 310000.0, 37000.0, 120000.0, 15000.0, 43000.0, 6400.0, 43000.0, 350000.0, 5800.0, 33000.0, 27000.0, 66000.0, 19000.0, 61000.0, 43000.0, 15000.0, 220000.0, 27000.0, 26000.0, 49000.0, 240000.0, 46000.0, 10000.0, 56000.0, 7800.0, 10000.0, 75000.0, 15000.0, 43000.0, 81000.0, 140000.0, 140000.0, 120000.0, 150000.0, 26000.0, 22000.0, 17000.0, 5500.0, 18000.0, 99000.0, 140000.0, 23000.0, 55000.0, 23000.0, 100000.0, 220000.0, 110000.0, 24000.0, 19000.0, 3000.0, 120000.0, 120000.0, 42000.0, 140000.0, 830000.0, 140000.0, 89000.0, 740000.0, 210000.0, 130000.0, 60000.0, 66000.0, 96000.0, 140000.0, 18000.0, 120000.0, 110000.0, 150000.0, 31000.0, 690000.0, 44000.0, 4500.0, 8200.0, 240000.0, 17000.0, 67000.0, 97000.0, 19000.0, 16000.0, 300000.0, 4000.0, 8000.0, 41000.0, 54000.0, 54000.0, 9000.0, 21000.0, 37000.0, 380000.0, 57000.0, 140000.0, 58000.0, 35000.0, 40000.0, 4000.0, 21000.0, 130000.0, 150000.0, 5600.0, 17000.0, 39000.0, 110000.0, 7100.0, 18000.0, 110000.0, 83000.0, 16000.0, 3400.0, 46000.0, 1500.0, 57000.0, 12000.0, 110000.0, 17000.0, 37000.0, 14000.0, 23000.0, 200000.0, 230000.0, 760000.0, 130000.0, 42000.0, 110000.0, 2400.0, 7900.0, 110000.0, 86000.0, 38000.0, 31000.0, 20000.0, 69000.0, 45000.0, 23000.0, 6400.0, 31000.0, 130000.0, 35000.0, 7200.0, 1800.0, 14000.0, 68000.0, 83000.0, 4100.0, 54000.0, 31000.0, 27000.0, 13000.0, 11000.0, 86000.0, 240000.0, 39000.0, 200000.0, 76000.0, 39000.0, 490000.0, 56000.0, 54000.0, 170000.0, 28000.0, 180000.0, 18000.0, 9700.0, 13000.0, 12000.0, 260000.0, 69000.0, 12000.0, 65000.0, 10000.0, 100000.0, 76000.0, 470000.0, 60000.0, 12000.0, 6500.0, 24000.0, 30000.0, 310000.0, 36000.0, 20000.0, 400000.0, 57000.0, 42000.0, 4400.0, 14000.0, 63000.0, 62000.0, 31000.0, 64000.0, 27000.0, 89000.0, 3200.0, 26000.0, 52000.0, 45000.0, 89000.0, 150000.0, 140000.0, 170000.0, 220000.0, 30000.0, 39000.0, 200000.0, 49000.0, 86000.0, 290000.0, 20000.0, 18000.0, 180000.0, 120000.0, 110000.0, 22000.0, 81000.0, 25000.0, 56000.0, 150000.0, 110000.0, 47000.0, 4900.0, 9400.0, 10000.0, 140000.0, 100000.0, 260000.0, 110000.0, 14000.0, 80000.0, 97000.0, 19000.0, 34000.0, 47000.0, 14000.0, 59000.0, 73000.0, 59000.0, 75000.0, 18000.0, 22000.0, 79000.0, 29000.0, 10000.0, 22000.0, 37000.0, 3600.0, 7600.0, 44000.0, 3800.0, 120000.0, 36000.0, 93000.0, 350000.0, 430000.0, 10000.0, 260000.0, 56000.0, 210000.0, 62000.0, 240000.0, 43000.0, 62000.0, 7400.0, 39000.0, 8100.0, 5400.0, 1700.0, 36000.0, 5500.0, 46000.0, 5500.0, 28000.0, 170000.0, 140000.0, 34000.0, 98000.0, 140000.0, 3500.0, 220000.0, 3300.0, 480000.0, 35000.0, 62000.0, 1700.0, 23000.0, 2200.0, 610000.0, 270000.0, 18000.0, 79000.0, 51000.0, 34000.0, 1600.0, 12000.0, 22000.0, 32000.0, 10000.0, 16000.0, 180000.0, 40000.0, 10000.0, 25000.0, 72000.0, 97000.0, 85000.0, 12000.0, 9700.0, 14000.0, 8700.0, 150000.0, 6500.0, 22000.0, 25000.0, 22000.0, 36000.0, 19000.0, 41000.0, 26000.0, 20000.0, 2200.0, 35000.0, 11000.0, 36000.0, 38000.0, 66000.0, 140000.0, 100000.0, 46000.0, 60000.0, 44000.0, 160000.0, 16000.0, 27000.0, 14000.0, 84000.0, 53000.0, 46000.0, 150000.0, 2600.0, 20000.0, 32000.0, 130000.0, 27000.0, 32000.0, 30000.0, 99000.0, 310000.0, 390000.0, 25000.0, 75000.0, 110000.0, 41000.0, 150000.0, 34000.0, 200000.0, 47000.0, 79000.0, 74000.0, 42000.0, 220000.0, 54000.0, 6000.0, 82000.0, 220000.0, 270000.0, 87000.0, 140000.0, 370000.0, 11000.0, 160000.0, 82000.0, 270000.0, 270000.0, 49000.0, 39000.0, 76000.0, 12000.0, 69000.0, 67000.0, 33000.0, 150000.0, 4100.0, 13000.0, 72000.0, 87000.0, 16000.0, 76000.0, 110000.0, 270000.0, 4500.0, 120000.0, 99000.0, 14000.0, 49000.0, 4400.0, 380000.0, 160000.0, 22000.0, 37000.0, 8000.0, 6300.0, 17000.0, 34000.0, 16000.0, 220000.0, 5900.0, 16000.0, 43000.0, 22000.0, 78000.0, 52000.0, 120000.0, 39000.0, 160000.0, 80000.0, 180000.0, 120000.0, 68000.0, 7200.0, 10000.0, 23000.0, 29000.0, 14000.0, 290000.0, 3200.0, 240000.0, 29000.0, 19000.0, 58000.0, 15000.0, 120000.0, 72000.0, 78000.0, 43000.0, 120000.0, 11000.0, 55000.0, 23000.0, 71000.0, 27000.0, 47000.0, 22000.0, 81000.0, 39000.0, 49000.0, 93000.0, 57000.0, 58000.0, 60000.0, 310000.0, 280000.0, 8400.0, 52000.0, 48000.0, 12000.0, 150000.0, 140000.0, 51000.0, 33000.0, 4800.0, 170000.0, 13000.0, 260000.0, 73000.0, 34000.0, 230000.0, 120000.0, 130000.0, 36000.0, 310000.0, 14000.0, 21000.0, 9100.0, 100000.0, 40000.0, 44000.0, 59000.0, 42000.0, 34000.0, 70000.0, 21000.0, 40000.0, 95000.0, 22000.0, 17000.0, 290000.0, 630000.0, 41000.0, 12000.0, 5300.0, 100000.0, 35000.0, 250000.0, 330000.0, 21000.0, 33000.0, 57000.0, 13000.0, 76000.0, 80000.0, 6200.0, 92000.0, 22000.0, 3200.0, 9100.0, 30000.0, 42000.0, 8800.0, 12000.0, 84000.0, 79000.0, 8900.0, 160000.0, 83000.0, 34000.0, 72000.0, 180000.0, 23000.0, 50000.0, 40000.0, 67000.0, 10000.0, 39000.0, 22000.0, 68000.0, 47000.0, 20000.0, 280000.0, 79000.0, 68000.0, 36000.0, 39000.0, 250000.0, 19000.0, 1300.0, 18000.0, 70000.0, 190000.0, 440000.0, 230000.0, 190000.0, 52000.0, 110000.0, 21000.0, 420000.0, 26000.0, 41000.0, 170000.0, 1500.0, 69000.0, 3000.0, 480000.0, 7700.0, 29000.0, 35000.0, 23000.0, 24000.0, 5200.0, 7200.0, 16000.0, 15000.0, 170000.0, 36000.0, 17000.0, 120000.0, 30000.0, 3200.0, 7000.0, 33000.0, 370000.0, 2600.0, 160000.0, 5600.0, 16000.0, 6800.0, 12000.0, 9100.0, 140000.0, 47000.0, 6400.0, 14000.0, 300000.0, 39000.0, 14000.0, 110000.0, 61000.0, 16000.0, 18000.0, 15000.0, 20000.0, 22000.0, 13000.0, 130000.0, 78000.0, 4200.0, 220000.0, 42000.0, 60000.0, 34000.0, 60000.0, 110000.0, 17000.0, 68000.0, 8800.0, 12000.0, 71000.0, 430000.0, 12000.0, 16000.0, 370000.0, 17000.0, 16000.0, 34000.0, 220000.0, 28000.0, 60000.0, 9500.0, 100000.0, 58000.0, 68000.0, 9200.0, 30000.0, 11000.0, 220000.0, 38000.0, 750000.0, 11000.0, 7900.0, 4900.0, 66000.0, 82000.0, 24000.0, 29000.0, 50000.0, 45000.0, 9400.0, 3900.0, 62000.0, 48000.0, 33000.0, 100000.0, 62000.0, 81000.0, 8500.0, 53000.0, 49000.0, 280000.0, 170000.0, 12000.0, 90000.0, 130000.0, 47000.0, 23000.0, 73000.0, 130000.0, 22000.0, 84000.0, 23000.0, 11000.0, 120000.0, 420000.0, 7200.0, 84000.0, 29000.0, 47000.0, 130000.0, 47000.0, 9400.0, 180000.0, 120000.0, 1700.0, 50000.0, 12000.0, 59000.0, 13000.0, 2500.0, 320000.0, 19000.0, 100000.0, 26000.0, 5200.0, 28000.0, 33000.0, 14000.0, 200000.0, 120000.0, 68000.0, 45000.0, 110000.0, 5400.0, 12000.0, 44000.0, 68000.0, 25000.0, 29000.0, 78000.0, 89000.0, 24000.0, 11000.0, 49000.0, 120000.0, 30000.0, 130000.0, 6100.0, 12000.0, 9500.0, 3900.0, 23000.0, 43000.0, 220000.0, 310000.0, 19000.0, 63000.0, 40000.0, 150000.0, 37000.0, 23000.0, 190000.0, 120000.0, 280000.0, 34000.0, 120000.0, 35000.0, 6200.0, 260000.0, 94000.0, 32000.0, 17000.0, 12000.0, 270000.0, 18000.0, 140000.0, 17000.0, 76000.0, 25000.0, 190000.0, 69000.0, 14000.0, 68000.0, 16000.0, 67000.0, 77000.0, 19000.0, 83000.0, 41000.0, 45000.0, 52000.0, 21000.0, 30000.0, 9800.0, 38000.0]}],\n",
              "                        {\"legend\": {\"tracegroupgap\": 0}, \"margin\": {\"t\": 60}, \"template\": {\"data\": {\"bar\": [{\"error_x\": {\"color\": \"#2a3f5f\"}, \"error_y\": {\"color\": \"#2a3f5f\"}, \"marker\": {\"line\": {\"color\": \"#E5ECF6\", \"width\": 0.5}}, \"type\": \"bar\"}], \"barpolar\": [{\"marker\": {\"line\": {\"color\": \"#E5ECF6\", \"width\": 0.5}}, \"type\": \"barpolar\"}], \"carpet\": [{\"aaxis\": {\"endlinecolor\": \"#2a3f5f\", \"gridcolor\": \"white\", \"linecolor\": \"white\", \"minorgridcolor\": \"white\", \"startlinecolor\": \"#2a3f5f\"}, \"baxis\": {\"endlinecolor\": \"#2a3f5f\", \"gridcolor\": \"white\", \"linecolor\": \"white\", \"minorgridcolor\": \"white\", \"startlinecolor\": \"#2a3f5f\"}, \"type\": \"carpet\"}], \"choropleth\": [{\"colorbar\": {\"outlinewidth\": 0, \"ticks\": \"\"}, \"type\": \"choropleth\"}], \"contour\": [{\"colorbar\": {\"outlinewidth\": 0, \"ticks\": \"\"}, \"colorscale\": [[0.0, \"#0d0887\"], [0.1111111111111111, \"#46039f\"], [0.2222222222222222, \"#7201a8\"], [0.3333333333333333, \"#9c179e\"], [0.4444444444444444, \"#bd3786\"], [0.5555555555555556, \"#d8576b\"], [0.6666666666666666, \"#ed7953\"], [0.7777777777777778, \"#fb9f3a\"], [0.8888888888888888, \"#fdca26\"], [1.0, \"#f0f921\"]], \"type\": \"contour\"}], \"contourcarpet\": [{\"colorbar\": {\"outlinewidth\": 0, \"ticks\": \"\"}, \"type\": \"contourcarpet\"}], \"heatmap\": [{\"colorbar\": {\"outlinewidth\": 0, \"ticks\": \"\"}, \"colorscale\": [[0.0, \"#0d0887\"], [0.1111111111111111, \"#46039f\"], [0.2222222222222222, \"#7201a8\"], [0.3333333333333333, \"#9c179e\"], [0.4444444444444444, \"#bd3786\"], [0.5555555555555556, \"#d8576b\"], [0.6666666666666666, \"#ed7953\"], [0.7777777777777778, \"#fb9f3a\"], [0.8888888888888888, \"#fdca26\"], [1.0, \"#f0f921\"]], \"type\": \"heatmap\"}], \"heatmapgl\": [{\"colorbar\": {\"outlinewidth\": 0, \"ticks\": \"\"}, \"colorscale\": [[0.0, \"#0d0887\"], [0.1111111111111111, \"#46039f\"], [0.2222222222222222, \"#7201a8\"], [0.3333333333333333, \"#9c179e\"], [0.4444444444444444, \"#bd3786\"], [0.5555555555555556, \"#d8576b\"], [0.6666666666666666, \"#ed7953\"], [0.7777777777777778, \"#fb9f3a\"], [0.8888888888888888, \"#fdca26\"], [1.0, \"#f0f921\"]], \"type\": \"heatmapgl\"}], \"histogram\": [{\"marker\": {\"colorbar\": {\"outlinewidth\": 0, \"ticks\": \"\"}}, \"type\": \"histogram\"}], \"histogram2d\": [{\"colorbar\": {\"outlinewidth\": 0, \"ticks\": \"\"}, \"colorscale\": [[0.0, \"#0d0887\"], [0.1111111111111111, \"#46039f\"], [0.2222222222222222, \"#7201a8\"], [0.3333333333333333, \"#9c179e\"], [0.4444444444444444, \"#bd3786\"], [0.5555555555555556, \"#d8576b\"], [0.6666666666666666, \"#ed7953\"], [0.7777777777777778, \"#fb9f3a\"], [0.8888888888888888, \"#fdca26\"], [1.0, \"#f0f921\"]], \"type\": \"histogram2d\"}], \"histogram2dcontour\": [{\"colorbar\": {\"outlinewidth\": 0, \"ticks\": \"\"}, \"colorscale\": [[0.0, \"#0d0887\"], [0.1111111111111111, \"#46039f\"], [0.2222222222222222, \"#7201a8\"], [0.3333333333333333, \"#9c179e\"], [0.4444444444444444, \"#bd3786\"], [0.5555555555555556, \"#d8576b\"], [0.6666666666666666, \"#ed7953\"], [0.7777777777777778, \"#fb9f3a\"], [0.8888888888888888, \"#fdca26\"], [1.0, \"#f0f921\"]], \"type\": \"histogram2dcontour\"}], \"mesh3d\": [{\"colorbar\": {\"outlinewidth\": 0, \"ticks\": \"\"}, \"type\": \"mesh3d\"}], \"parcoords\": [{\"line\": {\"colorbar\": {\"outlinewidth\": 0, \"ticks\": \"\"}}, \"type\": \"parcoords\"}], \"pie\": [{\"automargin\": true, \"type\": \"pie\"}], \"scatter\": [{\"marker\": {\"colorbar\": {\"outlinewidth\": 0, \"ticks\": \"\"}}, \"type\": \"scatter\"}], \"scatter3d\": [{\"line\": {\"colorbar\": {\"outlinewidth\": 0, \"ticks\": \"\"}}, \"marker\": {\"colorbar\": {\"outlinewidth\": 0, \"ticks\": \"\"}}, \"type\": \"scatter3d\"}], \"scattercarpet\": [{\"marker\": {\"colorbar\": {\"outlinewidth\": 0, \"ticks\": \"\"}}, \"type\": \"scattercarpet\"}], \"scattergeo\": [{\"marker\": {\"colorbar\": {\"outlinewidth\": 0, \"ticks\": \"\"}}, \"type\": \"scattergeo\"}], \"scattergl\": [{\"marker\": {\"colorbar\": {\"outlinewidth\": 0, \"ticks\": \"\"}}, \"type\": \"scattergl\"}], \"scattermapbox\": [{\"marker\": {\"colorbar\": {\"outlinewidth\": 0, \"ticks\": \"\"}}, \"type\": \"scattermapbox\"}], \"scatterpolar\": [{\"marker\": {\"colorbar\": {\"outlinewidth\": 0, \"ticks\": \"\"}}, \"type\": \"scatterpolar\"}], \"scatterpolargl\": [{\"marker\": {\"colorbar\": {\"outlinewidth\": 0, \"ticks\": \"\"}}, \"type\": \"scatterpolargl\"}], \"scatterternary\": [{\"marker\": {\"colorbar\": {\"outlinewidth\": 0, \"ticks\": \"\"}}, \"type\": \"scatterternary\"}], \"surface\": [{\"colorbar\": {\"outlinewidth\": 0, \"ticks\": \"\"}, \"colorscale\": [[0.0, \"#0d0887\"], [0.1111111111111111, \"#46039f\"], [0.2222222222222222, \"#7201a8\"], [0.3333333333333333, \"#9c179e\"], [0.4444444444444444, \"#bd3786\"], [0.5555555555555556, \"#d8576b\"], [0.6666666666666666, \"#ed7953\"], [0.7777777777777778, \"#fb9f3a\"], [0.8888888888888888, \"#fdca26\"], [1.0, \"#f0f921\"]], \"type\": \"surface\"}], \"table\": [{\"cells\": {\"fill\": {\"color\": \"#EBF0F8\"}, \"line\": {\"color\": \"white\"}}, \"header\": {\"fill\": {\"color\": \"#C8D4E3\"}, \"line\": {\"color\": \"white\"}}, \"type\": \"table\"}]}, \"layout\": {\"annotationdefaults\": {\"arrowcolor\": \"#2a3f5f\", \"arrowhead\": 0, \"arrowwidth\": 1}, \"coloraxis\": {\"colorbar\": {\"outlinewidth\": 0, \"ticks\": \"\"}}, \"colorscale\": {\"diverging\": [[0, \"#8e0152\"], [0.1, \"#c51b7d\"], [0.2, \"#de77ae\"], [0.3, \"#f1b6da\"], [0.4, \"#fde0ef\"], [0.5, \"#f7f7f7\"], [0.6, \"#e6f5d0\"], [0.7, \"#b8e186\"], [0.8, \"#7fbc41\"], [0.9, \"#4d9221\"], [1, \"#276419\"]], \"sequential\": [[0.0, \"#0d0887\"], [0.1111111111111111, \"#46039f\"], [0.2222222222222222, \"#7201a8\"], [0.3333333333333333, \"#9c179e\"], [0.4444444444444444, \"#bd3786\"], [0.5555555555555556, \"#d8576b\"], [0.6666666666666666, \"#ed7953\"], [0.7777777777777778, \"#fb9f3a\"], [0.8888888888888888, \"#fdca26\"], [1.0, \"#f0f921\"]], \"sequentialminus\": [[0.0, \"#0d0887\"], [0.1111111111111111, \"#46039f\"], [0.2222222222222222, \"#7201a8\"], [0.3333333333333333, \"#9c179e\"], [0.4444444444444444, \"#bd3786\"], [0.5555555555555556, \"#d8576b\"], [0.6666666666666666, \"#ed7953\"], [0.7777777777777778, \"#fb9f3a\"], [0.8888888888888888, \"#fdca26\"], [1.0, \"#f0f921\"]]}, \"colorway\": [\"#636efa\", \"#EF553B\", \"#00cc96\", \"#ab63fa\", \"#FFA15A\", \"#19d3f3\", \"#FF6692\", \"#B6E880\", \"#FF97FF\", \"#FECB52\"], \"font\": {\"color\": \"#2a3f5f\"}, \"geo\": {\"bgcolor\": \"white\", \"lakecolor\": \"white\", \"landcolor\": \"#E5ECF6\", \"showlakes\": true, \"showland\": true, \"subunitcolor\": \"white\"}, \"hoverlabel\": {\"align\": \"left\"}, \"hovermode\": \"closest\", \"mapbox\": {\"style\": \"light\"}, \"paper_bgcolor\": \"white\", \"plot_bgcolor\": \"#E5ECF6\", \"polar\": {\"angularaxis\": {\"gridcolor\": \"white\", \"linecolor\": \"white\", \"ticks\": \"\"}, \"bgcolor\": \"#E5ECF6\", \"radialaxis\": {\"gridcolor\": \"white\", \"linecolor\": \"white\", \"ticks\": \"\"}}, \"scene\": {\"xaxis\": {\"backgroundcolor\": \"#E5ECF6\", \"gridcolor\": \"white\", \"gridwidth\": 2, \"linecolor\": \"white\", \"showbackground\": true, \"ticks\": \"\", \"zerolinecolor\": \"white\"}, \"yaxis\": {\"backgroundcolor\": \"#E5ECF6\", \"gridcolor\": \"white\", \"gridwidth\": 2, \"linecolor\": \"white\", \"showbackground\": true, \"ticks\": \"\", \"zerolinecolor\": \"white\"}, \"zaxis\": {\"backgroundcolor\": \"#E5ECF6\", \"gridcolor\": \"white\", \"gridwidth\": 2, \"linecolor\": \"white\", \"showbackground\": true, \"ticks\": \"\", \"zerolinecolor\": \"white\"}}, \"shapedefaults\": {\"line\": {\"color\": \"#2a3f5f\"}}, \"ternary\": {\"aaxis\": {\"gridcolor\": \"white\", \"linecolor\": \"white\", \"ticks\": \"\"}, \"baxis\": {\"gridcolor\": \"white\", \"linecolor\": \"white\", \"ticks\": \"\"}, \"bgcolor\": \"#E5ECF6\", \"caxis\": {\"gridcolor\": \"white\", \"linecolor\": \"white\", \"ticks\": \"\"}}, \"title\": {\"x\": 0.05}, \"xaxis\": {\"automargin\": true, \"gridcolor\": \"white\", \"linecolor\": \"white\", \"ticks\": \"\", \"title\": {\"standoff\": 15}, \"zerolinecolor\": \"white\", \"zerolinewidth\": 2}, \"yaxis\": {\"automargin\": true, \"gridcolor\": \"white\", \"linecolor\": \"white\", \"ticks\": \"\", \"title\": {\"standoff\": 15}, \"zerolinecolor\": \"white\", \"zerolinewidth\": 2}}}},\n",
              "                        {\"responsive\": true}\n",
              "                    ).then(function(){\n",
              "                            \n",
              "var gd = document.getElementById('4703906f-d9a5-4ba5-9c52-be854382c4b4');\n",
              "var x = new MutationObserver(function (mutations, observer) {{\n",
              "        var display = window.getComputedStyle(gd).display;\n",
              "        if (!display || display === 'none') {{\n",
              "            console.log([gd, 'removed!']);\n",
              "            Plotly.purge(gd);\n",
              "            observer.disconnect();\n",
              "        }}\n",
              "}});\n",
              "\n",
              "// Listen for the removal of the full notebook cells\n",
              "var notebookContainer = gd.closest('#notebook-container');\n",
              "if (notebookContainer) {{\n",
              "    x.observe(notebookContainer, {childList: true});\n",
              "}}\n",
              "\n",
              "// Listen for the clearing of the current output cell\n",
              "var outputEl = gd.closest('.output');\n",
              "if (outputEl) {{\n",
              "    x.observe(outputEl, {childList: true});\n",
              "}}\n",
              "\n",
              "                        })\n",
              "                };\n",
              "                \n",
              "            </script>\n",
              "        </div>\n",
              "</body>\n",
              "</html>"
            ]
          },
          "metadata": {
            "tags": []
          }
        }
      ]
    },
    {
      "cell_type": "code",
      "metadata": {
        "id": "wkBJyFQE_Chf",
        "colab_type": "code",
        "colab": {}
      },
      "source": [
        "df1=df.head(100)"
      ],
      "execution_count": 18,
      "outputs": []
    },
    {
      "cell_type": "code",
      "metadata": {
        "id": "UZxwL0XM_JDf",
        "colab_type": "code",
        "colab": {
          "base_uri": "https://localhost:8080/",
          "height": 606
        },
        "outputId": "00ff1a9b-e089-413a-cb15-f36f9a33ff53"
      },
      "source": [
        "df1"
      ],
      "execution_count": 19,
      "outputs": [
        {
          "output_type": "execute_result",
          "data": {
            "text/html": [
              "<div>\n",
              "<style scoped>\n",
              "    .dataframe tbody tr th:only-of-type {\n",
              "        vertical-align: middle;\n",
              "    }\n",
              "\n",
              "    .dataframe tbody tr th {\n",
              "        vertical-align: top;\n",
              "    }\n",
              "\n",
              "    .dataframe thead th {\n",
              "        text-align: right;\n",
              "    }\n",
              "</style>\n",
              "<table border=\"1\" class=\"dataframe\">\n",
              "  <thead>\n",
              "    <tr style=\"text-align: right;\">\n",
              "      <th></th>\n",
              "      <th>Unnamed: 0</th>\n",
              "      <th>course_title</th>\n",
              "      <th>course_organization</th>\n",
              "      <th>course_Certificate_type</th>\n",
              "      <th>course_rating</th>\n",
              "      <th>course_difficulty</th>\n",
              "      <th>course_students_enrolled</th>\n",
              "      <th>Language</th>\n",
              "      <th>Enrolled</th>\n",
              "    </tr>\n",
              "  </thead>\n",
              "  <tbody>\n",
              "    <tr>\n",
              "      <th>0</th>\n",
              "      <td>134</td>\n",
              "      <td>(ISC)² Systems Security Certified Practitioner...</td>\n",
              "      <td>(ISC)²</td>\n",
              "      <td>SPECIALIZATION</td>\n",
              "      <td>4.7</td>\n",
              "      <td>Beginner</td>\n",
              "      <td>5.3k</td>\n",
              "      <td>en</td>\n",
              "      <td>5300.0</td>\n",
              "    </tr>\n",
              "    <tr>\n",
              "      <th>1</th>\n",
              "      <td>743</td>\n",
              "      <td>A Crash Course in Causality:  Inferring Causal...</td>\n",
              "      <td>University of Pennsylvania</td>\n",
              "      <td>COURSE</td>\n",
              "      <td>4.7</td>\n",
              "      <td>Intermediate</td>\n",
              "      <td>17k</td>\n",
              "      <td>en</td>\n",
              "      <td>17000.0</td>\n",
              "    </tr>\n",
              "    <tr>\n",
              "      <th>2</th>\n",
              "      <td>874</td>\n",
              "      <td>A Crash Course in Data Science</td>\n",
              "      <td>Johns Hopkins University</td>\n",
              "      <td>COURSE</td>\n",
              "      <td>4.5</td>\n",
              "      <td>Mixed</td>\n",
              "      <td>130k</td>\n",
              "      <td>en</td>\n",
              "      <td>130000.0</td>\n",
              "    </tr>\n",
              "    <tr>\n",
              "      <th>3</th>\n",
              "      <td>413</td>\n",
              "      <td>A Law Student's Toolkit</td>\n",
              "      <td>Yale University</td>\n",
              "      <td>COURSE</td>\n",
              "      <td>4.7</td>\n",
              "      <td>Mixed</td>\n",
              "      <td>91k</td>\n",
              "      <td>en</td>\n",
              "      <td>91000.0</td>\n",
              "    </tr>\n",
              "    <tr>\n",
              "      <th>4</th>\n",
              "      <td>635</td>\n",
              "      <td>A Life of Happiness and Fulfillment</td>\n",
              "      <td>Indian School of Business</td>\n",
              "      <td>COURSE</td>\n",
              "      <td>4.8</td>\n",
              "      <td>Mixed</td>\n",
              "      <td>320k</td>\n",
              "      <td>en</td>\n",
              "      <td>320000.0</td>\n",
              "    </tr>\n",
              "    <tr>\n",
              "      <th>...</th>\n",
              "      <td>...</td>\n",
              "      <td>...</td>\n",
              "      <td>...</td>\n",
              "      <td>...</td>\n",
              "      <td>...</td>\n",
              "      <td>...</td>\n",
              "      <td>...</td>\n",
              "      <td>...</td>\n",
              "      <td>...</td>\n",
              "    </tr>\n",
              "    <tr>\n",
              "      <th>95</th>\n",
              "      <td>143</td>\n",
              "      <td>Blockchain Revolution</td>\n",
              "      <td>INSEAD</td>\n",
              "      <td>SPECIALIZATION</td>\n",
              "      <td>4.7</td>\n",
              "      <td>Beginner</td>\n",
              "      <td>21k</td>\n",
              "      <td>en</td>\n",
              "      <td>21000.0</td>\n",
              "    </tr>\n",
              "    <tr>\n",
              "      <th>96</th>\n",
              "      <td>462</td>\n",
              "      <td>Blockchain Revolution in Financial Services</td>\n",
              "      <td>INSEAD</td>\n",
              "      <td>SPECIALIZATION</td>\n",
              "      <td>4.6</td>\n",
              "      <td>Beginner</td>\n",
              "      <td>1.6k</td>\n",
              "      <td>en</td>\n",
              "      <td>1600.0</td>\n",
              "    </tr>\n",
              "    <tr>\n",
              "      <th>97</th>\n",
              "      <td>719</td>\n",
              "      <td>Blockchain: Foundations and Use Cases</td>\n",
              "      <td>ConsenSys Academy</td>\n",
              "      <td>COURSE</td>\n",
              "      <td>4.7</td>\n",
              "      <td>Beginner</td>\n",
              "      <td>31k</td>\n",
              "      <td>en</td>\n",
              "      <td>31000.0</td>\n",
              "    </tr>\n",
              "    <tr>\n",
              "      <th>98</th>\n",
              "      <td>645</td>\n",
              "      <td>Boosting Creativity for Innovation</td>\n",
              "      <td>HEC Paris</td>\n",
              "      <td>COURSE</td>\n",
              "      <td>4.9</td>\n",
              "      <td>Beginner</td>\n",
              "      <td>9.5k</td>\n",
              "      <td>en</td>\n",
              "      <td>9500.0</td>\n",
              "    </tr>\n",
              "    <tr>\n",
              "      <th>99</th>\n",
              "      <td>72</td>\n",
              "      <td>Brand Management: Aligning Business, Brand and...</td>\n",
              "      <td>London Business School</td>\n",
              "      <td>COURSE</td>\n",
              "      <td>4.9</td>\n",
              "      <td>Beginner</td>\n",
              "      <td>57k</td>\n",
              "      <td>en</td>\n",
              "      <td>57000.0</td>\n",
              "    </tr>\n",
              "  </tbody>\n",
              "</table>\n",
              "<p>100 rows × 9 columns</p>\n",
              "</div>"
            ],
            "text/plain": [
              "    Unnamed: 0  ...  Enrolled\n",
              "0          134  ...    5300.0\n",
              "1          743  ...   17000.0\n",
              "2          874  ...  130000.0\n",
              "3          413  ...   91000.0\n",
              "4          635  ...  320000.0\n",
              "..         ...  ...       ...\n",
              "95         143  ...   21000.0\n",
              "96         462  ...    1600.0\n",
              "97         719  ...   31000.0\n",
              "98         645  ...    9500.0\n",
              "99          72  ...   57000.0\n",
              "\n",
              "[100 rows x 9 columns]"
            ]
          },
          "metadata": {
            "tags": []
          },
          "execution_count": 19
        }
      ]
    },
    {
      "cell_type": "markdown",
      "metadata": {
        "id": "H1yEiaYZ4eJB",
        "colab_type": "text"
      },
      "source": [
        "**LETS EXPLORE THE DATA MORE BY PROPER VISUALIZATION**\n",
        "\n",
        "*Proper Data-Viz helps to know more about the data corresponding to the certain parameters*"
      ]
    },
    {
      "cell_type": "markdown",
      "metadata": {
        "id": "GmIa6VBH5Qmy",
        "colab_type": "text"
      },
      "source": [
        "**Course_difficulty** *VS* **Enrolled** *VS* **Course_Rating** using Scatter 3d plot "
      ]
    },
    {
      "cell_type": "code",
      "metadata": {
        "id": "zH9MkQQdw0_U",
        "colab_type": "code",
        "colab": {
          "base_uri": "https://localhost:8080/",
          "height": 542
        },
        "outputId": "0db57fee-f2f5-4ba3-cb0c-d189d29f2b64"
      },
      "source": [
        "fig = px.scatter_3d(df1, x=\"course_difficulty\", y=\"Enrolled\", z=\"course_rating\", color=\"course_difficulty\",size=\"course_rating\",symbol= \"course_difficulty\", hover_name=\"Enrolled\",\n",
        "                         color_discrete_map = {\"Beginner\": \"green\", \"Intermediate\": \"#0FEB91\", \"Mixed\":\"yellow\", \"Advanced\": \"red\"})\n",
        "fig.show()      #3d scatterplot for the first 100 students"
      ],
      "execution_count": 20,
      "outputs": [
        {
          "output_type": "display_data",
          "data": {
            "text/html": [
              "<html>\n",
              "<head><meta charset=\"utf-8\" /></head>\n",
              "<body>\n",
              "    <div>\n",
              "            <script src=\"https://cdnjs.cloudflare.com/ajax/libs/mathjax/2.7.5/MathJax.js?config=TeX-AMS-MML_SVG\"></script><script type=\"text/javascript\">if (window.MathJax) {MathJax.Hub.Config({SVG: {font: \"STIX-Web\"}});}</script>\n",
              "                <script type=\"text/javascript\">window.PlotlyConfig = {MathJaxConfig: 'local'};</script>\n",
              "        <script src=\"https://cdn.plot.ly/plotly-latest.min.js\"></script>    \n",
              "            <div id=\"71ead310-40e6-4e9b-9de8-c704b7e36de6\" class=\"plotly-graph-div\" style=\"height:525px; width:100%;\"></div>\n",
              "            <script type=\"text/javascript\">\n",
              "                \n",
              "                    window.PLOTLYENV=window.PLOTLYENV || {};\n",
              "                    \n",
              "                if (document.getElementById(\"71ead310-40e6-4e9b-9de8-c704b7e36de6\")) {\n",
              "                    Plotly.newPlot(\n",
              "                        '71ead310-40e6-4e9b-9de8-c704b7e36de6',\n",
              "                        [{\"hoverlabel\": {\"namelength\": 0}, \"hovertemplate\": \"<b>%{hovertext}</b><br><br>course_difficulty=%{x}<br>Enrolled=%{y}<br>course_rating=%{marker.size}\", \"hovertext\": [5300.0, 39000.0, 350000.0, 61000.0, 130000.0, 11000.0, 27000.0, 110000.0, 540000.0, 2900.0, 110000.0, 9200.0, 21000.0, 94000.0, 69000.0, 40000.0, 12000.0, 18000.0, 23000.0, 69000.0, 270000.0, 7900.0, 30000.0, 20000.0, 120000.0, 11000.0, 220000.0, 6600.0, 180000.0, 3900.0, 150000.0, 10000.0, 13000.0, 180000.0, 28000.0, 6500.0, 61000.0, 8800.0, 35000.0, 88000.0, 14000.0, 21000.0, 1600.0, 31000.0, 9500.0, 57000.0], \"legendgroup\": \"course_difficulty=Beginner\", \"marker\": {\"color\": \"green\", \"size\": [4.7, 4.7, 4.8, 4.7, 4.6, 4.3, 4.7, 4.7, 4.7, 4.6, 4.7, 4.8, 4.7, 4.7, 4.7, 4.7, 4.9, 4.9, 4.8, 4.7, 4.6, 4.6, 4.8, 4.8, 4.5, 4.8, 4.6, 4.2, 4.9, 4.5, 4.9, 4.9, 4.6, 4.6, 4.7, 4.7, 4.8, 4.5, 4.6, 4.4, 4.8, 4.7, 4.6, 4.7, 4.9, 4.9], \"sizemode\": \"area\", \"sizeref\": 0.01225, \"symbol\": \"circle\"}, \"mode\": \"markers\", \"name\": \"course_difficulty=Beginner\", \"scene\": \"scene\", \"showlegend\": true, \"type\": \"scatter3d\", \"x\": [\"Beginner\", \"Beginner\", \"Beginner\", \"Beginner\", \"Beginner\", \"Beginner\", \"Beginner\", \"Beginner\", \"Beginner\", \"Beginner\", \"Beginner\", \"Beginner\", \"Beginner\", \"Beginner\", \"Beginner\", \"Beginner\", \"Beginner\", \"Beginner\", \"Beginner\", \"Beginner\", \"Beginner\", \"Beginner\", \"Beginner\", \"Beginner\", \"Beginner\", \"Beginner\", \"Beginner\", \"Beginner\", \"Beginner\", \"Beginner\", \"Beginner\", \"Beginner\", \"Beginner\", \"Beginner\", \"Beginner\", \"Beginner\", \"Beginner\", \"Beginner\", \"Beginner\", \"Beginner\", \"Beginner\", \"Beginner\", \"Beginner\", \"Beginner\", \"Beginner\", \"Beginner\"], \"y\": [5300.0, 39000.0, 350000.0, 61000.0, 130000.0, 11000.0, 27000.0, 110000.0, 540000.0, 2900.0, 110000.0, 9200.0, 21000.0, 94000.0, 69000.0, 40000.0, 12000.0, 18000.0, 23000.0, 69000.0, 270000.0, 7900.0, 30000.0, 20000.0, 120000.0, 11000.0, 220000.0, 6600.0, 180000.0, 3900.0, 150000.0, 10000.0, 13000.0, 180000.0, 28000.0, 6500.0, 61000.0, 8800.0, 35000.0, 88000.0, 14000.0, 21000.0, 1600.0, 31000.0, 9500.0, 57000.0], \"z\": [4.7, 4.7, 4.8, 4.7, 4.6, 4.3, 4.7, 4.7, 4.7, 4.6, 4.7, 4.8, 4.7, 4.7, 4.7, 4.7, 4.9, 4.9, 4.8, 4.7, 4.6, 4.6, 4.8, 4.8, 4.5, 4.8, 4.6, 4.2, 4.9, 4.5, 4.9, 4.9, 4.6, 4.6, 4.7, 4.7, 4.8, 4.5, 4.6, 4.4, 4.8, 4.7, 4.6, 4.7, 4.9, 4.9]}, {\"hoverlabel\": {\"namelength\": 0}, \"hovertemplate\": \"<b>%{hovertext}</b><br><br>course_difficulty=%{x}<br>Enrolled=%{y}<br>course_rating=%{marker.size}\", \"hovertext\": [17000.0, 2400.0, 12000.0, 4000.0, 13000.0, 13000.0, 22000.0, 9900.0, 78000.0, 220000.0, 150000.0, 14000.0, 36000.0, 63000.0, 42000.0, 480000.0, 150000.0, 97000.0, 4200.0, 310000.0, 33000.0, 7300.0, 9200.0, 91000.0, 29000.0, 4200.0, 1900.0, 68000.0], \"legendgroup\": \"course_difficulty=Intermediate\", \"marker\": {\"color\": \"#0FEB91\", \"size\": [4.7, 4.8, 4.7, 4.6, 4.7, 4.5, 4.7, 4.8, 4.5, 4.7, 4.8, 4.8, 4.8, 4.6, 4.7, 4.5, 4.6, 4.6, 4.5, 4.7, 4.8, 4.8, 4.8, 4.8, 4.8, 4.7, 4.8, 4.6], \"sizemode\": \"area\", \"sizeref\": 0.01225, \"symbol\": \"diamond\"}, \"mode\": \"markers\", \"name\": \"course_difficulty=Intermediate\", \"scene\": \"scene\", \"showlegend\": true, \"type\": \"scatter3d\", \"x\": [\"Intermediate\", \"Intermediate\", \"Intermediate\", \"Intermediate\", \"Intermediate\", \"Intermediate\", \"Intermediate\", \"Intermediate\", \"Intermediate\", \"Intermediate\", \"Intermediate\", \"Intermediate\", \"Intermediate\", \"Intermediate\", \"Intermediate\", \"Intermediate\", \"Intermediate\", \"Intermediate\", \"Intermediate\", \"Intermediate\", \"Intermediate\", \"Intermediate\", \"Intermediate\", \"Intermediate\", \"Intermediate\", \"Intermediate\", \"Intermediate\", \"Intermediate\"], \"y\": [17000.0, 2400.0, 12000.0, 4000.0, 13000.0, 13000.0, 22000.0, 9900.0, 78000.0, 220000.0, 150000.0, 14000.0, 36000.0, 63000.0, 42000.0, 480000.0, 150000.0, 97000.0, 4200.0, 310000.0, 33000.0, 7300.0, 9200.0, 91000.0, 29000.0, 4200.0, 1900.0, 68000.0], \"z\": [4.7, 4.8, 4.7, 4.6, 4.7, 4.5, 4.7, 4.8, 4.5, 4.7, 4.8, 4.8, 4.8, 4.6, 4.7, 4.5, 4.6, 4.6, 4.5, 4.7, 4.8, 4.8, 4.8, 4.8, 4.8, 4.7, 4.8, 4.6]}, {\"hoverlabel\": {\"namelength\": 0}, \"hovertemplate\": \"<b>%{hovertext}</b><br><br>course_difficulty=%{x}<br>Enrolled=%{y}<br>course_rating=%{marker.size}\", \"hovertext\": [130000.0, 91000.0, 320000.0, 6600.0, 80000.0, 23000.0, 14000.0, 8100.0, 71000.0, 200000.0, 79000.0, 31000.0, 15000.0, 15000.0, 66000.0, 56000.0, 210000.0, 55000.0, 2300.0], \"legendgroup\": \"course_difficulty=Mixed\", \"marker\": {\"color\": \"yellow\", \"size\": [4.5, 4.7, 4.8, 4.7, 4.5, 4.8, 4.8, 4.8, 4.8, 4.8, 4.8, 4.8, 4.6, 4.8, 4.7, 4.6, 4.9, 4.4, 4.6], \"sizemode\": \"area\", \"sizeref\": 0.01225, \"symbol\": \"square\"}, \"mode\": \"markers\", \"name\": \"course_difficulty=Mixed\", \"scene\": \"scene\", \"showlegend\": true, \"type\": \"scatter3d\", \"x\": [\"Mixed\", \"Mixed\", \"Mixed\", \"Mixed\", \"Mixed\", \"Mixed\", \"Mixed\", \"Mixed\", \"Mixed\", \"Mixed\", \"Mixed\", \"Mixed\", \"Mixed\", \"Mixed\", \"Mixed\", \"Mixed\", \"Mixed\", \"Mixed\", \"Mixed\"], \"y\": [130000.0, 91000.0, 320000.0, 6600.0, 80000.0, 23000.0, 14000.0, 8100.0, 71000.0, 200000.0, 79000.0, 31000.0, 15000.0, 15000.0, 66000.0, 56000.0, 210000.0, 55000.0, 2300.0], \"z\": [4.5, 4.7, 4.8, 4.7, 4.5, 4.8, 4.8, 4.8, 4.8, 4.8, 4.8, 4.8, 4.6, 4.8, 4.7, 4.6, 4.9, 4.4, 4.6]}, {\"hoverlabel\": {\"namelength\": 0}, \"hovertemplate\": \"<b>%{hovertext}</b><br><br>course_difficulty=%{x}<br>Enrolled=%{y}<br>course_rating=%{marker.size}\", \"hovertext\": [320000.0, 190000.0, 35000.0, 29000.0, 11000.0, 22000.0, 9700.0], \"legendgroup\": \"course_difficulty=Advanced\", \"marker\": {\"color\": \"red\", \"size\": [4.4, 4.5, 4.5, 4.7, 4.5, 4.7, 4.7], \"sizemode\": \"area\", \"sizeref\": 0.01225, \"symbol\": \"x\"}, \"mode\": \"markers\", \"name\": \"course_difficulty=Advanced\", \"scene\": \"scene\", \"showlegend\": true, \"type\": \"scatter3d\", \"x\": [\"Advanced\", \"Advanced\", \"Advanced\", \"Advanced\", \"Advanced\", \"Advanced\", \"Advanced\"], \"y\": [320000.0, 190000.0, 35000.0, 29000.0, 11000.0, 22000.0, 9700.0], \"z\": [4.4, 4.5, 4.5, 4.7, 4.5, 4.7, 4.7]}],\n",
              "                        {\"legend\": {\"itemsizing\": \"constant\", \"tracegroupgap\": 0}, \"margin\": {\"t\": 60}, \"scene\": {\"domain\": {\"x\": [0.0, 1.0], \"y\": [0.0, 1.0]}, \"xaxis\": {\"categoryarray\": [\"Beginner\", \"Intermediate\", \"Mixed\", \"Advanced\"], \"categoryorder\": \"array\", \"title\": {\"text\": \"course_difficulty\"}}, \"yaxis\": {\"title\": {\"text\": \"Enrolled\"}}, \"zaxis\": {\"title\": {\"text\": \"course_rating\"}}}, \"template\": {\"data\": {\"bar\": [{\"error_x\": {\"color\": \"#2a3f5f\"}, \"error_y\": {\"color\": \"#2a3f5f\"}, \"marker\": {\"line\": {\"color\": \"#E5ECF6\", \"width\": 0.5}}, \"type\": \"bar\"}], \"barpolar\": [{\"marker\": {\"line\": {\"color\": \"#E5ECF6\", \"width\": 0.5}}, \"type\": \"barpolar\"}], \"carpet\": [{\"aaxis\": {\"endlinecolor\": \"#2a3f5f\", \"gridcolor\": \"white\", \"linecolor\": \"white\", \"minorgridcolor\": \"white\", \"startlinecolor\": \"#2a3f5f\"}, \"baxis\": {\"endlinecolor\": \"#2a3f5f\", \"gridcolor\": \"white\", \"linecolor\": \"white\", \"minorgridcolor\": \"white\", \"startlinecolor\": \"#2a3f5f\"}, \"type\": \"carpet\"}], \"choropleth\": [{\"colorbar\": {\"outlinewidth\": 0, \"ticks\": \"\"}, \"type\": \"choropleth\"}], \"contour\": [{\"colorbar\": {\"outlinewidth\": 0, \"ticks\": \"\"}, \"colorscale\": [[0.0, \"#0d0887\"], [0.1111111111111111, \"#46039f\"], [0.2222222222222222, \"#7201a8\"], [0.3333333333333333, \"#9c179e\"], [0.4444444444444444, \"#bd3786\"], [0.5555555555555556, \"#d8576b\"], [0.6666666666666666, \"#ed7953\"], [0.7777777777777778, \"#fb9f3a\"], [0.8888888888888888, \"#fdca26\"], [1.0, \"#f0f921\"]], \"type\": \"contour\"}], \"contourcarpet\": [{\"colorbar\": {\"outlinewidth\": 0, \"ticks\": \"\"}, \"type\": \"contourcarpet\"}], \"heatmap\": [{\"colorbar\": {\"outlinewidth\": 0, \"ticks\": \"\"}, \"colorscale\": [[0.0, \"#0d0887\"], [0.1111111111111111, \"#46039f\"], [0.2222222222222222, \"#7201a8\"], [0.3333333333333333, \"#9c179e\"], [0.4444444444444444, \"#bd3786\"], [0.5555555555555556, \"#d8576b\"], [0.6666666666666666, \"#ed7953\"], [0.7777777777777778, \"#fb9f3a\"], [0.8888888888888888, \"#fdca26\"], [1.0, \"#f0f921\"]], \"type\": \"heatmap\"}], \"heatmapgl\": [{\"colorbar\": {\"outlinewidth\": 0, \"ticks\": \"\"}, \"colorscale\": [[0.0, \"#0d0887\"], [0.1111111111111111, \"#46039f\"], [0.2222222222222222, \"#7201a8\"], [0.3333333333333333, \"#9c179e\"], [0.4444444444444444, \"#bd3786\"], [0.5555555555555556, \"#d8576b\"], [0.6666666666666666, \"#ed7953\"], [0.7777777777777778, \"#fb9f3a\"], [0.8888888888888888, \"#fdca26\"], [1.0, \"#f0f921\"]], \"type\": \"heatmapgl\"}], \"histogram\": [{\"marker\": {\"colorbar\": {\"outlinewidth\": 0, \"ticks\": \"\"}}, \"type\": \"histogram\"}], \"histogram2d\": [{\"colorbar\": {\"outlinewidth\": 0, \"ticks\": \"\"}, \"colorscale\": [[0.0, \"#0d0887\"], [0.1111111111111111, \"#46039f\"], [0.2222222222222222, \"#7201a8\"], [0.3333333333333333, \"#9c179e\"], [0.4444444444444444, \"#bd3786\"], [0.5555555555555556, \"#d8576b\"], [0.6666666666666666, \"#ed7953\"], [0.7777777777777778, \"#fb9f3a\"], [0.8888888888888888, \"#fdca26\"], [1.0, \"#f0f921\"]], \"type\": \"histogram2d\"}], \"histogram2dcontour\": [{\"colorbar\": {\"outlinewidth\": 0, \"ticks\": \"\"}, \"colorscale\": [[0.0, \"#0d0887\"], [0.1111111111111111, \"#46039f\"], [0.2222222222222222, \"#7201a8\"], [0.3333333333333333, \"#9c179e\"], [0.4444444444444444, \"#bd3786\"], [0.5555555555555556, \"#d8576b\"], [0.6666666666666666, \"#ed7953\"], [0.7777777777777778, \"#fb9f3a\"], [0.8888888888888888, \"#fdca26\"], [1.0, \"#f0f921\"]], \"type\": \"histogram2dcontour\"}], \"mesh3d\": [{\"colorbar\": {\"outlinewidth\": 0, \"ticks\": \"\"}, \"type\": \"mesh3d\"}], \"parcoords\": [{\"line\": {\"colorbar\": {\"outlinewidth\": 0, \"ticks\": \"\"}}, \"type\": \"parcoords\"}], \"pie\": [{\"automargin\": true, \"type\": \"pie\"}], \"scatter\": [{\"marker\": {\"colorbar\": {\"outlinewidth\": 0, \"ticks\": \"\"}}, \"type\": \"scatter\"}], \"scatter3d\": [{\"line\": {\"colorbar\": {\"outlinewidth\": 0, \"ticks\": \"\"}}, \"marker\": {\"colorbar\": {\"outlinewidth\": 0, \"ticks\": \"\"}}, \"type\": \"scatter3d\"}], \"scattercarpet\": [{\"marker\": {\"colorbar\": {\"outlinewidth\": 0, \"ticks\": \"\"}}, \"type\": \"scattercarpet\"}], \"scattergeo\": [{\"marker\": {\"colorbar\": {\"outlinewidth\": 0, \"ticks\": \"\"}}, \"type\": \"scattergeo\"}], \"scattergl\": [{\"marker\": {\"colorbar\": {\"outlinewidth\": 0, \"ticks\": \"\"}}, \"type\": \"scattergl\"}], \"scattermapbox\": [{\"marker\": {\"colorbar\": {\"outlinewidth\": 0, \"ticks\": \"\"}}, \"type\": \"scattermapbox\"}], \"scatterpolar\": [{\"marker\": {\"colorbar\": {\"outlinewidth\": 0, \"ticks\": \"\"}}, \"type\": \"scatterpolar\"}], \"scatterpolargl\": [{\"marker\": {\"colorbar\": {\"outlinewidth\": 0, \"ticks\": \"\"}}, \"type\": \"scatterpolargl\"}], \"scatterternary\": [{\"marker\": {\"colorbar\": {\"outlinewidth\": 0, \"ticks\": \"\"}}, \"type\": \"scatterternary\"}], \"surface\": [{\"colorbar\": {\"outlinewidth\": 0, \"ticks\": \"\"}, \"colorscale\": [[0.0, \"#0d0887\"], [0.1111111111111111, \"#46039f\"], [0.2222222222222222, \"#7201a8\"], [0.3333333333333333, \"#9c179e\"], [0.4444444444444444, \"#bd3786\"], [0.5555555555555556, \"#d8576b\"], [0.6666666666666666, \"#ed7953\"], [0.7777777777777778, \"#fb9f3a\"], [0.8888888888888888, \"#fdca26\"], [1.0, \"#f0f921\"]], \"type\": \"surface\"}], \"table\": [{\"cells\": {\"fill\": {\"color\": \"#EBF0F8\"}, \"line\": {\"color\": \"white\"}}, \"header\": {\"fill\": {\"color\": \"#C8D4E3\"}, \"line\": {\"color\": \"white\"}}, \"type\": \"table\"}]}, \"layout\": {\"annotationdefaults\": {\"arrowcolor\": \"#2a3f5f\", \"arrowhead\": 0, \"arrowwidth\": 1}, \"coloraxis\": {\"colorbar\": {\"outlinewidth\": 0, \"ticks\": \"\"}}, \"colorscale\": {\"diverging\": [[0, \"#8e0152\"], [0.1, \"#c51b7d\"], [0.2, \"#de77ae\"], [0.3, \"#f1b6da\"], [0.4, \"#fde0ef\"], [0.5, \"#f7f7f7\"], [0.6, \"#e6f5d0\"], [0.7, \"#b8e186\"], [0.8, \"#7fbc41\"], [0.9, \"#4d9221\"], [1, \"#276419\"]], \"sequential\": [[0.0, \"#0d0887\"], [0.1111111111111111, \"#46039f\"], [0.2222222222222222, \"#7201a8\"], [0.3333333333333333, \"#9c179e\"], [0.4444444444444444, \"#bd3786\"], [0.5555555555555556, \"#d8576b\"], [0.6666666666666666, \"#ed7953\"], [0.7777777777777778, \"#fb9f3a\"], [0.8888888888888888, \"#fdca26\"], [1.0, \"#f0f921\"]], \"sequentialminus\": [[0.0, \"#0d0887\"], [0.1111111111111111, \"#46039f\"], [0.2222222222222222, \"#7201a8\"], [0.3333333333333333, \"#9c179e\"], [0.4444444444444444, \"#bd3786\"], [0.5555555555555556, \"#d8576b\"], [0.6666666666666666, \"#ed7953\"], [0.7777777777777778, \"#fb9f3a\"], [0.8888888888888888, \"#fdca26\"], [1.0, \"#f0f921\"]]}, \"colorway\": [\"#636efa\", \"#EF553B\", \"#00cc96\", \"#ab63fa\", \"#FFA15A\", \"#19d3f3\", \"#FF6692\", \"#B6E880\", \"#FF97FF\", \"#FECB52\"], \"font\": {\"color\": \"#2a3f5f\"}, \"geo\": {\"bgcolor\": \"white\", \"lakecolor\": \"white\", \"landcolor\": \"#E5ECF6\", \"showlakes\": true, \"showland\": true, \"subunitcolor\": \"white\"}, \"hoverlabel\": {\"align\": \"left\"}, \"hovermode\": \"closest\", \"mapbox\": {\"style\": \"light\"}, \"paper_bgcolor\": \"white\", \"plot_bgcolor\": \"#E5ECF6\", \"polar\": {\"angularaxis\": {\"gridcolor\": \"white\", \"linecolor\": \"white\", \"ticks\": \"\"}, \"bgcolor\": \"#E5ECF6\", \"radialaxis\": {\"gridcolor\": \"white\", \"linecolor\": \"white\", \"ticks\": \"\"}}, \"scene\": {\"xaxis\": {\"backgroundcolor\": \"#E5ECF6\", \"gridcolor\": \"white\", \"gridwidth\": 2, \"linecolor\": \"white\", \"showbackground\": true, \"ticks\": \"\", \"zerolinecolor\": \"white\"}, \"yaxis\": {\"backgroundcolor\": \"#E5ECF6\", \"gridcolor\": \"white\", \"gridwidth\": 2, \"linecolor\": \"white\", \"showbackground\": true, \"ticks\": \"\", \"zerolinecolor\": \"white\"}, \"zaxis\": {\"backgroundcolor\": \"#E5ECF6\", \"gridcolor\": \"white\", \"gridwidth\": 2, \"linecolor\": \"white\", \"showbackground\": true, \"ticks\": \"\", \"zerolinecolor\": \"white\"}}, \"shapedefaults\": {\"line\": {\"color\": \"#2a3f5f\"}}, \"ternary\": {\"aaxis\": {\"gridcolor\": \"white\", \"linecolor\": \"white\", \"ticks\": \"\"}, \"baxis\": {\"gridcolor\": \"white\", \"linecolor\": \"white\", \"ticks\": \"\"}, \"bgcolor\": \"#E5ECF6\", \"caxis\": {\"gridcolor\": \"white\", \"linecolor\": \"white\", \"ticks\": \"\"}}, \"title\": {\"x\": 0.05}, \"xaxis\": {\"automargin\": true, \"gridcolor\": \"white\", \"linecolor\": \"white\", \"ticks\": \"\", \"title\": {\"standoff\": 15}, \"zerolinecolor\": \"white\", \"zerolinewidth\": 2}, \"yaxis\": {\"automargin\": true, \"gridcolor\": \"white\", \"linecolor\": \"white\", \"ticks\": \"\", \"title\": {\"standoff\": 15}, \"zerolinecolor\": \"white\", \"zerolinewidth\": 2}}}},\n",
              "                        {\"responsive\": true}\n",
              "                    ).then(function(){\n",
              "                            \n",
              "var gd = document.getElementById('71ead310-40e6-4e9b-9de8-c704b7e36de6');\n",
              "var x = new MutationObserver(function (mutations, observer) {{\n",
              "        var display = window.getComputedStyle(gd).display;\n",
              "        if (!display || display === 'none') {{\n",
              "            console.log([gd, 'removed!']);\n",
              "            Plotly.purge(gd);\n",
              "            observer.disconnect();\n",
              "        }}\n",
              "}});\n",
              "\n",
              "// Listen for the removal of the full notebook cells\n",
              "var notebookContainer = gd.closest('#notebook-container');\n",
              "if (notebookContainer) {{\n",
              "    x.observe(notebookContainer, {childList: true});\n",
              "}}\n",
              "\n",
              "// Listen for the clearing of the current output cell\n",
              "var outputEl = gd.closest('.output');\n",
              "if (outputEl) {{\n",
              "    x.observe(outputEl, {childList: true});\n",
              "}}\n",
              "\n",
              "                        })\n",
              "                };\n",
              "                \n",
              "            </script>\n",
              "        </div>\n",
              "</body>\n",
              "</html>"
            ]
          },
          "metadata": {
            "tags": []
          }
        }
      ]
    },
    {
      "cell_type": "markdown",
      "metadata": {
        "id": "g8whBQrb529y",
        "colab_type": "text"
      },
      "source": [
        "**Enrolled** *VS* **Course_difficulty** using Area plot"
      ]
    },
    {
      "cell_type": "code",
      "metadata": {
        "id": "vsPyTTOa94gi",
        "colab_type": "code",
        "colab": {
          "base_uri": "https://localhost:8080/",
          "height": 542
        },
        "outputId": "ee68c525-2570-4624-a0ce-ff0e70a1a12f"
      },
      "source": [
        "fig = px.area(df1, x=\"Enrolled\", y=\"course_difficulty\", color=\"course_rating\", line_group=\"course_Certificate_type\")  #the visualization shown for first 100 students\n",
        "fig.show()"
      ],
      "execution_count": 21,
      "outputs": [
        {
          "output_type": "display_data",
          "data": {
            "text/html": [
              "<html>\n",
              "<head><meta charset=\"utf-8\" /></head>\n",
              "<body>\n",
              "    <div>\n",
              "            <script src=\"https://cdnjs.cloudflare.com/ajax/libs/mathjax/2.7.5/MathJax.js?config=TeX-AMS-MML_SVG\"></script><script type=\"text/javascript\">if (window.MathJax) {MathJax.Hub.Config({SVG: {font: \"STIX-Web\"}});}</script>\n",
              "                <script type=\"text/javascript\">window.PlotlyConfig = {MathJaxConfig: 'local'};</script>\n",
              "        <script src=\"https://cdn.plot.ly/plotly-latest.min.js\"></script>    \n",
              "            <div id=\"ddda178c-6cfc-46c1-9818-971d709b0730\" class=\"plotly-graph-div\" style=\"height:525px; width:100%;\"></div>\n",
              "            <script type=\"text/javascript\">\n",
              "                \n",
              "                    window.PLOTLYENV=window.PLOTLYENV || {};\n",
              "                    \n",
              "                if (document.getElementById(\"ddda178c-6cfc-46c1-9818-971d709b0730\")) {\n",
              "                    Plotly.newPlot(\n",
              "                        'ddda178c-6cfc-46c1-9818-971d709b0730',\n",
              "                        [{\"hoverlabel\": {\"namelength\": 0}, \"hovertemplate\": \"course_rating=4.7<br>course_Certificate_type=SPECIALIZATION<br>Enrolled=%{x}<br>course_difficulty=%{y}\", \"legendgroup\": \"course_rating=4.7\", \"line\": {\"color\": \"#636efa\"}, \"mode\": \"lines\", \"name\": \"course_rating=4.7\", \"orientation\": \"v\", \"showlegend\": true, \"stackgroup\": \"1\", \"type\": \"scatter\", \"x\": [5300.0, 61000.0, 13000.0, 540000.0, 22000.0, 110000.0, 94000.0, 310000.0, 28000.0, 4200.0, 21000.0], \"xaxis\": \"x\", \"y\": [\"Beginner\", \"Beginner\", \"Intermediate\", \"Beginner\", \"Intermediate\", \"Beginner\", \"Beginner\", \"Intermediate\", \"Beginner\", \"Intermediate\", \"Beginner\"], \"yaxis\": \"y\"}, {\"hoverlabel\": {\"namelength\": 0}, \"hovertemplate\": \"course_rating=4.7<br>course_Certificate_type=COURSE<br>Enrolled=%{x}<br>course_difficulty=%{y}\", \"legendgroup\": \"course_rating=4.7\", \"line\": {\"color\": \"#636efa\"}, \"mode\": \"lines\", \"name\": \"course_rating=4.7\", \"orientation\": \"v\", \"showlegend\": false, \"stackgroup\": \"1\", \"type\": \"scatter\", \"x\": [17000.0, 91000.0, 39000.0, 12000.0, 27000.0, 110000.0, 6600.0, 29000.0, 21000.0, 69000.0, 40000.0, 220000.0, 69000.0, 42000.0, 66000.0, 22000.0, 9700.0, 6500.0, 31000.0], \"xaxis\": \"x\", \"y\": [\"Intermediate\", \"Mixed\", \"Beginner\", \"Intermediate\", \"Beginner\", \"Beginner\", \"Mixed\", \"Advanced\", \"Beginner\", \"Beginner\", \"Beginner\", \"Intermediate\", \"Beginner\", \"Intermediate\", \"Mixed\", \"Advanced\", \"Advanced\", \"Beginner\", \"Beginner\"], \"yaxis\": \"y\"}, {\"hoverlabel\": {\"namelength\": 0}, \"hovertemplate\": \"course_rating=4.5<br>course_Certificate_type=SPECIALIZATION<br>Enrolled=%{x}<br>course_difficulty=%{y}\", \"legendgroup\": \"course_rating=4.5\", \"line\": {\"color\": \"#EF553B\"}, \"mode\": \"lines\", \"name\": \"course_rating=4.5\", \"orientation\": \"v\", \"showlegend\": true, \"stackgroup\": \"1\", \"type\": \"scatter\", \"x\": [78000.0, 190000.0, 35000.0, 120000.0, 480000.0, 4200.0, 3900.0, 8800.0], \"xaxis\": \"x\", \"y\": [\"Intermediate\", \"Advanced\", \"Advanced\", \"Beginner\", \"Intermediate\", \"Intermediate\", \"Beginner\", \"Beginner\"], \"yaxis\": \"y\"}, {\"hoverlabel\": {\"namelength\": 0}, \"hovertemplate\": \"course_rating=4.5<br>course_Certificate_type=COURSE<br>Enrolled=%{x}<br>course_difficulty=%{y}\", \"legendgroup\": \"course_rating=4.5\", \"line\": {\"color\": \"#EF553B\"}, \"mode\": \"lines\", \"name\": \"course_rating=4.5\", \"orientation\": \"v\", \"showlegend\": false, \"stackgroup\": \"1\", \"type\": \"scatter\", \"x\": [130000.0, 13000.0, 80000.0, 11000.0], \"xaxis\": \"x\", \"y\": [\"Mixed\", \"Intermediate\", \"Mixed\", \"Advanced\"], \"yaxis\": \"y\"}, {\"hoverlabel\": {\"namelength\": 0}, \"hovertemplate\": \"course_rating=4.8<br>course_Certificate_type=SPECIALIZATION<br>Enrolled=%{x}<br>course_difficulty=%{y}\", \"legendgroup\": \"course_rating=4.8\", \"line\": {\"color\": \"#00cc96\"}, \"mode\": \"lines\", \"name\": \"course_rating=4.8\", \"orientation\": \"v\", \"showlegend\": true, \"stackgroup\": \"1\", \"type\": \"scatter\", \"x\": [150000.0, 14000.0, 30000.0, 7300.0, 9200.0, 14000.0], \"xaxis\": \"x\", \"y\": [\"Intermediate\", \"Intermediate\", \"Beginner\", \"Intermediate\", \"Intermediate\", \"Beginner\"], \"yaxis\": \"y\"}, {\"hoverlabel\": {\"namelength\": 0}, \"hovertemplate\": \"course_rating=4.8<br>course_Certificate_type=COURSE<br>Enrolled=%{x}<br>course_difficulty=%{y}\", \"legendgroup\": \"course_rating=4.8\", \"line\": {\"color\": \"#00cc96\"}, \"mode\": \"lines\", \"name\": \"course_rating=4.8\", \"orientation\": \"v\", \"showlegend\": false, \"stackgroup\": \"1\", \"type\": \"scatter\", \"x\": [320000.0, 350000.0, 2400.0, 9900.0, 23000.0, 9200.0, 14000.0, 23000.0, 36000.0, 20000.0, 8100.0, 71000.0, 11000.0, 200000.0, 79000.0, 31000.0, 15000.0, 33000.0, 91000.0, 29000.0, 61000.0, 1900.0], \"xaxis\": \"x\", \"y\": [\"Mixed\", \"Beginner\", \"Intermediate\", \"Intermediate\", \"Mixed\", \"Beginner\", \"Mixed\", \"Beginner\", \"Intermediate\", \"Beginner\", \"Mixed\", \"Mixed\", \"Beginner\", \"Mixed\", \"Mixed\", \"Mixed\", \"Mixed\", \"Intermediate\", \"Intermediate\", \"Intermediate\", \"Beginner\", \"Intermediate\"], \"yaxis\": \"y\"}, {\"hoverlabel\": {\"namelength\": 0}, \"hovertemplate\": \"course_rating=4.6<br>course_Certificate_type=SPECIALIZATION<br>Enrolled=%{x}<br>course_difficulty=%{y}\", \"legendgroup\": \"course_rating=4.6\", \"line\": {\"color\": \"#ab63fa\"}, \"mode\": \"lines\", \"name\": \"course_rating=4.6\", \"orientation\": \"v\", \"showlegend\": true, \"stackgroup\": \"1\", \"type\": \"scatter\", \"x\": [130000.0, 270000.0, 7900.0, 220000.0, 68000.0, 1600.0], \"xaxis\": \"x\", \"y\": [\"Beginner\", \"Beginner\", \"Beginner\", \"Beginner\", \"Intermediate\", \"Beginner\"], \"yaxis\": \"y\"}, {\"hoverlabel\": {\"namelength\": 0}, \"hovertemplate\": \"course_rating=4.6<br>course_Certificate_type=COURSE<br>Enrolled=%{x}<br>course_difficulty=%{y}\", \"legendgroup\": \"course_rating=4.6\", \"line\": {\"color\": \"#ab63fa\"}, \"mode\": \"lines\", \"name\": \"course_rating=4.6\", \"orientation\": \"v\", \"showlegend\": false, \"stackgroup\": \"1\", \"type\": \"scatter\", \"x\": [4000.0, 2900.0, 63000.0, 150000.0, 97000.0, 15000.0, 56000.0, 13000.0, 180000.0, 2300.0, 35000.0], \"xaxis\": \"x\", \"y\": [\"Intermediate\", \"Beginner\", \"Intermediate\", \"Intermediate\", \"Intermediate\", \"Mixed\", \"Mixed\", \"Beginner\", \"Beginner\", \"Mixed\", \"Beginner\"], \"yaxis\": \"y\"}, {\"hoverlabel\": {\"namelength\": 0}, \"hovertemplate\": \"course_rating=4.3<br>course_Certificate_type=COURSE<br>Enrolled=%{x}<br>course_difficulty=%{y}\", \"legendgroup\": \"course_rating=4.3\", \"line\": {\"color\": \"#FFA15A\"}, \"mode\": \"lines\", \"name\": \"course_rating=4.3\", \"orientation\": \"v\", \"showlegend\": true, \"stackgroup\": \"1\", \"type\": \"scatter\", \"x\": [11000.0], \"xaxis\": \"x\", \"y\": [\"Beginner\"], \"yaxis\": \"y\"}, {\"hoverlabel\": {\"namelength\": 0}, \"hovertemplate\": \"course_rating=4.4<br>course_Certificate_type=SPECIALIZATION<br>Enrolled=%{x}<br>course_difficulty=%{y}\", \"legendgroup\": \"course_rating=4.4\", \"line\": {\"color\": \"#19d3f3\"}, \"mode\": \"lines\", \"name\": \"course_rating=4.4\", \"orientation\": \"v\", \"showlegend\": true, \"stackgroup\": \"1\", \"type\": \"scatter\", \"x\": [320000.0], \"xaxis\": \"x\", \"y\": [\"Advanced\"], \"yaxis\": \"y\"}, {\"hoverlabel\": {\"namelength\": 0}, \"hovertemplate\": \"course_rating=4.4<br>course_Certificate_type=COURSE<br>Enrolled=%{x}<br>course_difficulty=%{y}\", \"legendgroup\": \"course_rating=4.4\", \"line\": {\"color\": \"#19d3f3\"}, \"mode\": \"lines\", \"name\": \"course_rating=4.4\", \"orientation\": \"v\", \"showlegend\": false, \"stackgroup\": \"1\", \"type\": \"scatter\", \"x\": [55000.0, 88000.0], \"xaxis\": \"x\", \"y\": [\"Mixed\", \"Beginner\"], \"yaxis\": \"y\"}, {\"hoverlabel\": {\"namelength\": 0}, \"hovertemplate\": \"course_rating=4.9<br>course_Certificate_type=COURSE<br>Enrolled=%{x}<br>course_difficulty=%{y}\", \"legendgroup\": \"course_rating=4.9\", \"line\": {\"color\": \"#FF6692\"}, \"mode\": \"lines\", \"name\": \"course_rating=4.9\", \"orientation\": \"v\", \"showlegend\": true, \"stackgroup\": \"1\", \"type\": \"scatter\", \"x\": [12000.0, 18000.0, 180000.0, 10000.0, 210000.0, 9500.0, 57000.0], \"xaxis\": \"x\", \"y\": [\"Beginner\", \"Beginner\", \"Beginner\", \"Beginner\", \"Mixed\", \"Beginner\", \"Beginner\"], \"yaxis\": \"y\"}, {\"hoverlabel\": {\"namelength\": 0}, \"hovertemplate\": \"course_rating=4.9<br>course_Certificate_type=PROFESSIONAL CERTIFICATE<br>Enrolled=%{x}<br>course_difficulty=%{y}\", \"legendgroup\": \"course_rating=4.9\", \"line\": {\"color\": \"#FF6692\"}, \"mode\": \"lines\", \"name\": \"course_rating=4.9\", \"orientation\": \"v\", \"showlegend\": false, \"stackgroup\": \"1\", \"type\": \"scatter\", \"x\": [150000.0], \"xaxis\": \"x\", \"y\": [\"Beginner\"], \"yaxis\": \"y\"}, {\"hoverlabel\": {\"namelength\": 0}, \"hovertemplate\": \"course_rating=4.2<br>course_Certificate_type=SPECIALIZATION<br>Enrolled=%{x}<br>course_difficulty=%{y}\", \"legendgroup\": \"course_rating=4.2\", \"line\": {\"color\": \"#B6E880\"}, \"mode\": \"lines\", \"name\": \"course_rating=4.2\", \"orientation\": \"v\", \"showlegend\": true, \"stackgroup\": \"1\", \"type\": \"scatter\", \"x\": [6600.0], \"xaxis\": \"x\", \"y\": [\"Beginner\"], \"yaxis\": \"y\"}],\n",
              "                        {\"legend\": {\"tracegroupgap\": 0}, \"margin\": {\"t\": 60}, \"template\": {\"data\": {\"bar\": [{\"error_x\": {\"color\": \"#2a3f5f\"}, \"error_y\": {\"color\": \"#2a3f5f\"}, \"marker\": {\"line\": {\"color\": \"#E5ECF6\", \"width\": 0.5}}, \"type\": \"bar\"}], \"barpolar\": [{\"marker\": {\"line\": {\"color\": \"#E5ECF6\", \"width\": 0.5}}, \"type\": \"barpolar\"}], \"carpet\": [{\"aaxis\": {\"endlinecolor\": \"#2a3f5f\", \"gridcolor\": \"white\", \"linecolor\": \"white\", \"minorgridcolor\": \"white\", \"startlinecolor\": \"#2a3f5f\"}, \"baxis\": {\"endlinecolor\": \"#2a3f5f\", \"gridcolor\": \"white\", \"linecolor\": \"white\", \"minorgridcolor\": \"white\", \"startlinecolor\": \"#2a3f5f\"}, \"type\": \"carpet\"}], \"choropleth\": [{\"colorbar\": {\"outlinewidth\": 0, \"ticks\": \"\"}, \"type\": \"choropleth\"}], \"contour\": [{\"colorbar\": {\"outlinewidth\": 0, \"ticks\": \"\"}, \"colorscale\": [[0.0, \"#0d0887\"], [0.1111111111111111, \"#46039f\"], [0.2222222222222222, \"#7201a8\"], [0.3333333333333333, \"#9c179e\"], [0.4444444444444444, \"#bd3786\"], [0.5555555555555556, \"#d8576b\"], [0.6666666666666666, \"#ed7953\"], [0.7777777777777778, \"#fb9f3a\"], [0.8888888888888888, \"#fdca26\"], [1.0, \"#f0f921\"]], \"type\": \"contour\"}], \"contourcarpet\": [{\"colorbar\": {\"outlinewidth\": 0, \"ticks\": \"\"}, \"type\": \"contourcarpet\"}], \"heatmap\": [{\"colorbar\": {\"outlinewidth\": 0, \"ticks\": \"\"}, \"colorscale\": [[0.0, \"#0d0887\"], [0.1111111111111111, \"#46039f\"], [0.2222222222222222, \"#7201a8\"], [0.3333333333333333, \"#9c179e\"], [0.4444444444444444, \"#bd3786\"], [0.5555555555555556, \"#d8576b\"], [0.6666666666666666, \"#ed7953\"], [0.7777777777777778, \"#fb9f3a\"], [0.8888888888888888, \"#fdca26\"], [1.0, \"#f0f921\"]], \"type\": \"heatmap\"}], \"heatmapgl\": [{\"colorbar\": {\"outlinewidth\": 0, \"ticks\": \"\"}, \"colorscale\": [[0.0, \"#0d0887\"], [0.1111111111111111, \"#46039f\"], [0.2222222222222222, \"#7201a8\"], [0.3333333333333333, \"#9c179e\"], [0.4444444444444444, \"#bd3786\"], [0.5555555555555556, \"#d8576b\"], [0.6666666666666666, \"#ed7953\"], [0.7777777777777778, \"#fb9f3a\"], [0.8888888888888888, \"#fdca26\"], [1.0, \"#f0f921\"]], \"type\": \"heatmapgl\"}], \"histogram\": [{\"marker\": {\"colorbar\": {\"outlinewidth\": 0, \"ticks\": \"\"}}, \"type\": \"histogram\"}], \"histogram2d\": [{\"colorbar\": {\"outlinewidth\": 0, \"ticks\": \"\"}, \"colorscale\": [[0.0, \"#0d0887\"], [0.1111111111111111, \"#46039f\"], [0.2222222222222222, \"#7201a8\"], [0.3333333333333333, \"#9c179e\"], [0.4444444444444444, \"#bd3786\"], [0.5555555555555556, \"#d8576b\"], [0.6666666666666666, \"#ed7953\"], [0.7777777777777778, \"#fb9f3a\"], [0.8888888888888888, \"#fdca26\"], [1.0, \"#f0f921\"]], \"type\": \"histogram2d\"}], \"histogram2dcontour\": [{\"colorbar\": {\"outlinewidth\": 0, \"ticks\": \"\"}, \"colorscale\": [[0.0, \"#0d0887\"], [0.1111111111111111, \"#46039f\"], [0.2222222222222222, \"#7201a8\"], [0.3333333333333333, \"#9c179e\"], [0.4444444444444444, \"#bd3786\"], [0.5555555555555556, \"#d8576b\"], [0.6666666666666666, \"#ed7953\"], [0.7777777777777778, \"#fb9f3a\"], [0.8888888888888888, \"#fdca26\"], [1.0, \"#f0f921\"]], \"type\": \"histogram2dcontour\"}], \"mesh3d\": [{\"colorbar\": {\"outlinewidth\": 0, \"ticks\": \"\"}, \"type\": \"mesh3d\"}], \"parcoords\": [{\"line\": {\"colorbar\": {\"outlinewidth\": 0, \"ticks\": \"\"}}, \"type\": \"parcoords\"}], \"pie\": [{\"automargin\": true, \"type\": \"pie\"}], \"scatter\": [{\"marker\": {\"colorbar\": {\"outlinewidth\": 0, \"ticks\": \"\"}}, \"type\": \"scatter\"}], \"scatter3d\": [{\"line\": {\"colorbar\": {\"outlinewidth\": 0, \"ticks\": \"\"}}, \"marker\": {\"colorbar\": {\"outlinewidth\": 0, \"ticks\": \"\"}}, \"type\": \"scatter3d\"}], \"scattercarpet\": [{\"marker\": {\"colorbar\": {\"outlinewidth\": 0, \"ticks\": \"\"}}, \"type\": \"scattercarpet\"}], \"scattergeo\": [{\"marker\": {\"colorbar\": {\"outlinewidth\": 0, \"ticks\": \"\"}}, \"type\": \"scattergeo\"}], \"scattergl\": [{\"marker\": {\"colorbar\": {\"outlinewidth\": 0, \"ticks\": \"\"}}, \"type\": \"scattergl\"}], \"scattermapbox\": [{\"marker\": {\"colorbar\": {\"outlinewidth\": 0, \"ticks\": \"\"}}, \"type\": \"scattermapbox\"}], \"scatterpolar\": [{\"marker\": {\"colorbar\": {\"outlinewidth\": 0, \"ticks\": \"\"}}, \"type\": \"scatterpolar\"}], \"scatterpolargl\": [{\"marker\": {\"colorbar\": {\"outlinewidth\": 0, \"ticks\": \"\"}}, \"type\": \"scatterpolargl\"}], \"scatterternary\": [{\"marker\": {\"colorbar\": {\"outlinewidth\": 0, \"ticks\": \"\"}}, \"type\": \"scatterternary\"}], \"surface\": [{\"colorbar\": {\"outlinewidth\": 0, \"ticks\": \"\"}, \"colorscale\": [[0.0, \"#0d0887\"], [0.1111111111111111, \"#46039f\"], [0.2222222222222222, \"#7201a8\"], [0.3333333333333333, \"#9c179e\"], [0.4444444444444444, \"#bd3786\"], [0.5555555555555556, \"#d8576b\"], [0.6666666666666666, \"#ed7953\"], [0.7777777777777778, \"#fb9f3a\"], [0.8888888888888888, \"#fdca26\"], [1.0, \"#f0f921\"]], \"type\": \"surface\"}], \"table\": [{\"cells\": {\"fill\": {\"color\": \"#EBF0F8\"}, \"line\": {\"color\": \"white\"}}, \"header\": {\"fill\": {\"color\": \"#C8D4E3\"}, \"line\": {\"color\": \"white\"}}, \"type\": \"table\"}]}, \"layout\": {\"annotationdefaults\": {\"arrowcolor\": \"#2a3f5f\", \"arrowhead\": 0, \"arrowwidth\": 1}, \"coloraxis\": {\"colorbar\": {\"outlinewidth\": 0, \"ticks\": \"\"}}, \"colorscale\": {\"diverging\": [[0, \"#8e0152\"], [0.1, \"#c51b7d\"], [0.2, \"#de77ae\"], [0.3, \"#f1b6da\"], [0.4, \"#fde0ef\"], [0.5, \"#f7f7f7\"], [0.6, \"#e6f5d0\"], [0.7, \"#b8e186\"], [0.8, \"#7fbc41\"], [0.9, \"#4d9221\"], [1, \"#276419\"]], \"sequential\": [[0.0, \"#0d0887\"], [0.1111111111111111, \"#46039f\"], [0.2222222222222222, \"#7201a8\"], [0.3333333333333333, \"#9c179e\"], [0.4444444444444444, \"#bd3786\"], [0.5555555555555556, \"#d8576b\"], [0.6666666666666666, \"#ed7953\"], [0.7777777777777778, \"#fb9f3a\"], [0.8888888888888888, \"#fdca26\"], [1.0, \"#f0f921\"]], \"sequentialminus\": [[0.0, \"#0d0887\"], [0.1111111111111111, \"#46039f\"], [0.2222222222222222, \"#7201a8\"], [0.3333333333333333, \"#9c179e\"], [0.4444444444444444, \"#bd3786\"], [0.5555555555555556, \"#d8576b\"], [0.6666666666666666, \"#ed7953\"], [0.7777777777777778, \"#fb9f3a\"], [0.8888888888888888, \"#fdca26\"], [1.0, \"#f0f921\"]]}, \"colorway\": [\"#636efa\", \"#EF553B\", \"#00cc96\", \"#ab63fa\", \"#FFA15A\", \"#19d3f3\", \"#FF6692\", \"#B6E880\", \"#FF97FF\", \"#FECB52\"], \"font\": {\"color\": \"#2a3f5f\"}, \"geo\": {\"bgcolor\": \"white\", \"lakecolor\": \"white\", \"landcolor\": \"#E5ECF6\", \"showlakes\": true, \"showland\": true, \"subunitcolor\": \"white\"}, \"hoverlabel\": {\"align\": \"left\"}, \"hovermode\": \"closest\", \"mapbox\": {\"style\": \"light\"}, \"paper_bgcolor\": \"white\", \"plot_bgcolor\": \"#E5ECF6\", \"polar\": {\"angularaxis\": {\"gridcolor\": \"white\", \"linecolor\": \"white\", \"ticks\": \"\"}, \"bgcolor\": \"#E5ECF6\", \"radialaxis\": {\"gridcolor\": \"white\", \"linecolor\": \"white\", \"ticks\": \"\"}}, \"scene\": {\"xaxis\": {\"backgroundcolor\": \"#E5ECF6\", \"gridcolor\": \"white\", \"gridwidth\": 2, \"linecolor\": \"white\", \"showbackground\": true, \"ticks\": \"\", \"zerolinecolor\": \"white\"}, \"yaxis\": {\"backgroundcolor\": \"#E5ECF6\", \"gridcolor\": \"white\", \"gridwidth\": 2, \"linecolor\": \"white\", \"showbackground\": true, \"ticks\": \"\", \"zerolinecolor\": \"white\"}, \"zaxis\": {\"backgroundcolor\": \"#E5ECF6\", \"gridcolor\": \"white\", \"gridwidth\": 2, \"linecolor\": \"white\", \"showbackground\": true, \"ticks\": \"\", \"zerolinecolor\": \"white\"}}, \"shapedefaults\": {\"line\": {\"color\": \"#2a3f5f\"}}, \"ternary\": {\"aaxis\": {\"gridcolor\": \"white\", \"linecolor\": \"white\", \"ticks\": \"\"}, \"baxis\": {\"gridcolor\": \"white\", \"linecolor\": \"white\", \"ticks\": \"\"}, \"bgcolor\": \"#E5ECF6\", \"caxis\": {\"gridcolor\": \"white\", \"linecolor\": \"white\", \"ticks\": \"\"}}, \"title\": {\"x\": 0.05}, \"xaxis\": {\"automargin\": true, \"gridcolor\": \"white\", \"linecolor\": \"white\", \"ticks\": \"\", \"title\": {\"standoff\": 15}, \"zerolinecolor\": \"white\", \"zerolinewidth\": 2}, \"yaxis\": {\"automargin\": true, \"gridcolor\": \"white\", \"linecolor\": \"white\", \"ticks\": \"\", \"title\": {\"standoff\": 15}, \"zerolinecolor\": \"white\", \"zerolinewidth\": 2}}}, \"xaxis\": {\"anchor\": \"y\", \"domain\": [0.0, 1.0], \"title\": {\"text\": \"Enrolled\"}}, \"yaxis\": {\"anchor\": \"x\", \"domain\": [0.0, 1.0], \"title\": {\"text\": \"course_difficulty\"}}},\n",
              "                        {\"responsive\": true}\n",
              "                    ).then(function(){\n",
              "                            \n",
              "var gd = document.getElementById('ddda178c-6cfc-46c1-9818-971d709b0730');\n",
              "var x = new MutationObserver(function (mutations, observer) {{\n",
              "        var display = window.getComputedStyle(gd).display;\n",
              "        if (!display || display === 'none') {{\n",
              "            console.log([gd, 'removed!']);\n",
              "            Plotly.purge(gd);\n",
              "            observer.disconnect();\n",
              "        }}\n",
              "}});\n",
              "\n",
              "// Listen for the removal of the full notebook cells\n",
              "var notebookContainer = gd.closest('#notebook-container');\n",
              "if (notebookContainer) {{\n",
              "    x.observe(notebookContainer, {childList: true});\n",
              "}}\n",
              "\n",
              "// Listen for the clearing of the current output cell\n",
              "var outputEl = gd.closest('.output');\n",
              "if (outputEl) {{\n",
              "    x.observe(outputEl, {childList: true});\n",
              "}}\n",
              "\n",
              "                        })\n",
              "                };\n",
              "                \n",
              "            </script>\n",
              "        </div>\n",
              "</body>\n",
              "</html>"
            ]
          },
          "metadata": {
            "tags": []
          }
        }
      ]
    },
    {
      "cell_type": "markdown",
      "metadata": {
        "id": "XLcH4el-uLeb",
        "colab_type": "text"
      },
      "source": [
        "**Does more enrollment leads to better ratings?**"
      ]
    },
    {
      "cell_type": "code",
      "metadata": {
        "id": "6pZPx8oCMgRv",
        "colab_type": "code",
        "colab": {
          "base_uri": "https://localhost:8080/",
          "height": 542
        },
        "outputId": "c4441cc3-1710-437b-e310-5809c41a49e8"
      },
      "source": [
        "fig = px.scatter(df, x=\"course_rating\", y=\"Enrolled\", color=\"course_difficulty\",\n",
        "                 size='course_rating', hover_data=['Enrolled'])\n",
        "fig.show()"
      ],
      "execution_count": 22,
      "outputs": [
        {
          "output_type": "display_data",
          "data": {
            "text/html": [
              "<html>\n",
              "<head><meta charset=\"utf-8\" /></head>\n",
              "<body>\n",
              "    <div>\n",
              "            <script src=\"https://cdnjs.cloudflare.com/ajax/libs/mathjax/2.7.5/MathJax.js?config=TeX-AMS-MML_SVG\"></script><script type=\"text/javascript\">if (window.MathJax) {MathJax.Hub.Config({SVG: {font: \"STIX-Web\"}});}</script>\n",
              "                <script type=\"text/javascript\">window.PlotlyConfig = {MathJaxConfig: 'local'};</script>\n",
              "        <script src=\"https://cdn.plot.ly/plotly-latest.min.js\"></script>    \n",
              "            <div id=\"1a3045fb-1bd9-4531-927d-cebf47c79368\" class=\"plotly-graph-div\" style=\"height:525px; width:100%;\"></div>\n",
              "            <script type=\"text/javascript\">\n",
              "                \n",
              "                    window.PLOTLYENV=window.PLOTLYENV || {};\n",
              "                    \n",
              "                if (document.getElementById(\"1a3045fb-1bd9-4531-927d-cebf47c79368\")) {\n",
              "                    Plotly.newPlot(\n",
              "                        '1a3045fb-1bd9-4531-927d-cebf47c79368',\n",
              "                        [{\"customdata\": [[5300.0], [39000.0], [350000.0], [61000.0], [130000.0], [11000.0], [27000.0], [110000.0], [540000.0], [2900.0], [110000.0], [9200.0], [21000.0], [94000.0], [69000.0], [40000.0], [12000.0], [18000.0], [23000.0], [69000.0], [270000.0], [7900.0], [30000.0], [20000.0], [120000.0], [11000.0], [220000.0], [6600.0], [180000.0], [3900.0], [150000.0], [10000.0], [13000.0], [180000.0], [28000.0], [6500.0], [61000.0], [8800.0], [35000.0], [88000.0], [14000.0], [21000.0], [1600.0], [31000.0], [9500.0], [57000.0], [26000.0], [15000.0], [22000.0], [280000.0], [510000.0], [110000.0], [24000.0], [89000.0], [67000.0], [10000.0], [48000.0], [160000.0], [31000.0], [36000.0], [220000.0], [32000.0], [340000.0], [790000.0], [31000.0], [23000.0], [30000.0], [22000.0], [57000.0], [51000.0], [4800.0], [32000.0], [37000.0], [120000.0], [15000.0], [43000.0], [6400.0], [43000.0], [5800.0], [33000.0], [27000.0], [66000.0], [19000.0], [61000.0], [43000.0], [15000.0], [220000.0], [27000.0], [26000.0], [7800.0], [75000.0], [15000.0], [81000.0], [140000.0], [150000.0], [17000.0], [5500.0], [18000.0], [140000.0], [23000.0], [55000.0], [100000.0], [220000.0], [110000.0], [24000.0], [42000.0], [830000.0], [140000.0], [89000.0], [740000.0], [60000.0], [96000.0], [18000.0], [120000.0], [110000.0], [150000.0], [44000.0], [4500.0], [8200.0], [240000.0], [17000.0], [54000.0], [9000.0], [21000.0], [37000.0], [380000.0], [140000.0], [58000.0], [35000.0], [4000.0], [21000.0], [5600.0], [17000.0], [39000.0], [110000.0], [7100.0], [46000.0], [1500.0], [12000.0], [17000.0], [37000.0], [14000.0], [23000.0], [200000.0], [230000.0], [110000.0], [2400.0], [110000.0], [31000.0], [20000.0], [69000.0], [6400.0], [31000.0], [7200.0], [1800.0], [14000.0], [27000.0], [13000.0], [11000.0], [86000.0], [240000.0], [200000.0], [490000.0], [56000.0], [54000.0], [170000.0], [28000.0], [180000.0], [18000.0], [9700.0], [13000.0], [12000.0], [260000.0], [69000.0], [65000.0], [10000.0], [470000.0], [60000.0], [6500.0], [36000.0], [20000.0], [400000.0], [14000.0], [63000.0], [31000.0], [64000.0], [89000.0], [3200.0], [26000.0], [52000.0], [30000.0], [39000.0], [200000.0], [86000.0], [290000.0], [180000.0], [120000.0], [81000.0], [25000.0], [56000.0], [150000.0], [110000.0], [47000.0], [4900.0], [9400.0], [10000.0], [140000.0], [260000.0], [14000.0], [97000.0], [14000.0], [59000.0], [18000.0], [22000.0], [29000.0], [10000.0], [3800.0], [93000.0], [350000.0], [10000.0], [56000.0], [43000.0], [8100.0], [36000.0], [5500.0], [5500.0], [28000.0], [34000.0], [98000.0], [220000.0], [3300.0], [480000.0], [35000.0], [62000.0], [1700.0], [23000.0], [2200.0], [610000.0], [270000.0], [18000.0], [79000.0], [34000.0], [22000.0], [32000.0], [10000.0], [16000.0], [40000.0], [10000.0], [25000.0], [72000.0], [14000.0], [6500.0], [22000.0], [26000.0], [20000.0], [2200.0], [35000.0], [11000.0], [36000.0], [140000.0], [100000.0], [44000.0], [16000.0], [46000.0], [2600.0], [20000.0], [32000.0], [27000.0], [32000.0], [30000.0], [310000.0], [25000.0], [75000.0], [54000.0], [6000.0], [140000.0], [160000.0], [82000.0], [270000.0], [270000.0], [49000.0], [12000.0], [4100.0], [72000.0], [87000.0], [16000.0], [76000.0], [110000.0], [4500.0], [120000.0], [99000.0], [14000.0], [49000.0], [4400.0], [380000.0], [160000.0], [22000.0], [8000.0], [6300.0], [17000.0], [16000.0], [220000.0], [43000.0], [22000.0], [39000.0], [160000.0], [80000.0], [180000.0], [120000.0], [68000.0], [10000.0], [14000.0], [19000.0], [78000.0], [43000.0], [11000.0], [55000.0], [23000.0], [27000.0], [47000.0], [22000.0], [81000.0], [39000.0], [93000.0], [57000.0], [310000.0], [8400.0], [52000.0], [12000.0], [150000.0], [140000.0], [51000.0], [4800.0], [13000.0], [260000.0], [73000.0], [230000.0], [120000.0], [310000.0], [14000.0], [42000.0], [70000.0], [22000.0], [12000.0], [5300.0], [100000.0], [330000.0], [13000.0], [76000.0], [22000.0], [3200.0], [9100.0], [8800.0], [12000.0], [8900.0], [160000.0], [83000.0], [34000.0], [23000.0], [50000.0], [40000.0], [10000.0], [22000.0], [47000.0], [20000.0], [36000.0], [250000.0], [19000.0], [70000.0], [190000.0], [440000.0], [230000.0], [52000.0], [110000.0], [26000.0], [170000.0], [1500.0], [3000.0], [7700.0], [24000.0], [5200.0], [7200.0], [170000.0], [120000.0], [30000.0], [3200.0], [7000.0], [370000.0], [2600.0], [160000.0], [5600.0], [16000.0], [9100.0], [140000.0], [14000.0], [110000.0], [61000.0], [20000.0], [22000.0], [13000.0], [130000.0], [78000.0], [4200.0], [220000.0], [60000.0], [110000.0], [17000.0], [68000.0], [8800.0], [71000.0], [370000.0], [17000.0], [16000.0], [34000.0], [220000.0], [9500.0], [100000.0], [68000.0], [11000.0], [220000.0], [38000.0], [11000.0], [7900.0], [66000.0], [82000.0], [24000.0], [45000.0], [9400.0], [3900.0], [62000.0], [100000.0], [62000.0], [49000.0], [280000.0], [90000.0], [130000.0], [23000.0], [73000.0], [130000.0], [22000.0], [84000.0], [11000.0], [120000.0], [130000.0], [47000.0], [1700.0], [59000.0], [13000.0], [320000.0], [26000.0], [5200.0], [28000.0], [14000.0], [200000.0], [120000.0], [68000.0], [110000.0], [44000.0], [68000.0], [25000.0], [29000.0], [89000.0], [24000.0], [49000.0], [30000.0], [130000.0], [12000.0], [9500.0], [23000.0], [19000.0], [37000.0], [23000.0], [280000.0], [34000.0], [120000.0], [260000.0], [32000.0], [12000.0], [18000.0], [140000.0], [25000.0], [69000.0], [14000.0], [16000.0], [67000.0], [83000.0], [38000.0]], \"hoverlabel\": {\"namelength\": 0}, \"hovertemplate\": \"course_difficulty=Beginner<br>course_rating=%{marker.size}<br>Enrolled=%{customdata[0]}\", \"legendgroup\": \"course_difficulty=Beginner\", \"marker\": {\"color\": \"#636efa\", \"size\": [4.7, 4.7, 4.8, 4.7, 4.6, 4.3, 4.7, 4.7, 4.7, 4.6, 4.7, 4.8, 4.7, 4.7, 4.7, 4.7, 4.9, 4.9, 4.8, 4.7, 4.6, 4.6, 4.8, 4.8, 4.5, 4.8, 4.6, 4.2, 4.9, 4.5, 4.9, 4.9, 4.6, 4.6, 4.7, 4.7, 4.8, 4.5, 4.6, 4.4, 4.8, 4.7, 4.6, 4.7, 4.9, 4.9, 4.6, 4.9, 4.5, 4.6, 4.7, 4.7, 4.7, 4.7, 4.5, 4.7, 4.8, 4.5, 4.5, 4.7, 4.9, 4.8, 4.7, 4.4, 4.8, 4.7, 4.7, 4.8, 4.7, 4.8, 4.6, 4.8, 4.5, 4.7, 4.7, 4.8, 4.9, 4.7, 4.6, 4.8, 4.6, 4.3, 4.7, 4.7, 4.8, 4.8, 4.7, 4.5, 4.6, 4.8, 4.6, 4.8, 4.8, 4.6, 4.7, 4.6, 4.6, 4.7, 4.2, 4.6, 4.8, 4.4, 4.6, 4.7, 4.8, 4.7, 4.5, 4.5, 4.6, 4.6, 4.8, 4.5, 4.7, 4.6, 4.7, 4.8, 4.8, 4.7, 4.4, 4.6, 4.6, 4.8, 4.4, 4.5, 4.6, 4.6, 4.7, 4.7, 4.5, 4.6, 4.9, 4.8, 4.7, 4.6, 4.7, 4.8, 4.9, 5.0, 4.8, 4.6, 4.7, 4.8, 4.7, 4.6, 4.8, 4.8, 4.4, 4.8, 4.7, 4.8, 4.6, 4.7, 4.7, 4.8, 4.5, 4.7, 4.7, 4.8, 4.8, 4.9, 4.9, 4.9, 4.6, 4.8, 4.8, 4.5, 4.8, 4.8, 4.8, 4.8, 4.6, 4.7, 4.5, 4.8, 4.8, 4.5, 4.8, 4.5, 4.7, 4.7, 4.6, 4.9, 4.8, 4.8, 4.7, 4.8, 4.8, 4.8, 4.6, 4.8, 4.6, 4.6, 4.8, 4.8, 4.8, 4.6, 4.7, 4.5, 4.6, 4.6, 4.7, 4.8, 4.6, 4.6, 4.8, 4.7, 4.8, 4.6, 4.7, 4.8, 4.7, 4.5, 4.6, 4.9, 4.7, 4.5, 4.6, 4.7, 4.8, 4.7, 4.6, 4.7, 4.5, 4.4, 4.6, 4.7, 4.6, 4.1, 4.7, 4.6, 4.8, 4.6, 4.5, 4.8, 4.9, 4.7, 4.6, 4.7, 4.9, 4.4, 4.9, 4.5, 4.8, 4.6, 4.6, 4.7, 4.6, 4.8, 4.8, 4.5, 4.8, 4.6, 4.8, 4.6, 4.8, 4.5, 4.9, 4.6, 4.7, 4.7, 4.4, 4.7, 4.7, 4.8, 4.6, 4.3, 4.3, 4.7, 4.7, 4.5, 4.6, 4.8, 4.4, 4.5, 4.8, 4.4, 4.7, 4.7, 4.8, 4.9, 4.7, 4.7, 4.8, 4.8, 4.5, 4.8, 4.7, 4.8, 4.9, 4.9, 4.7, 4.6, 4.5, 4.6, 4.6, 4.6, 4.5, 4.7, 4.6, 4.7, 4.8, 4.7, 4.8, 4.3, 4.8, 4.6, 4.6, 4.8, 4.9, 4.7, 4.7, 4.7, 4.6, 4.6, 4.7, 4.9, 4.7, 4.7, 4.5, 4.6, 4.5, 4.8, 4.7, 4.6, 4.4, 4.7, 4.6, 4.3, 4.5, 4.6, 4.7, 4.7, 4.8, 4.3, 4.6, 4.9, 4.8, 4.7, 4.7, 4.8, 4.8, 4.8, 4.7, 4.7, 4.8, 4.8, 4.6, 4.4, 4.6, 4.7, 4.8, 4.6, 4.8, 4.6, 4.9, 4.7, 4.7, 4.7, 4.8, 4.8, 4.6, 4.7, 4.7, 4.6, 4.8, 4.6, 4.6, 4.7, 4.2, 4.7, 4.6, 4.7, 4.6, 4.8, 4.8, 4.6, 4.8, 4.9, 4.8, 4.7, 4.7, 4.6, 4.5, 4.4, 4.9, 4.7, 4.7, 4.8, 4.6, 4.6, 4.4, 4.7, 4.8, 4.8, 4.7, 4.8, 4.7, 4.8, 4.6, 4.6, 4.6, 4.6, 4.8, 4.7, 4.6, 4.6, 4.8, 4.8, 4.9, 4.6, 4.7, 4.7, 4.7, 4.6, 4.7, 4.7, 4.7, 4.7, 4.6, 4.8, 4.8, 4.8, 4.7, 4.7, 4.7, 4.8, 4.3, 4.6, 4.5, 4.7, 4.9, 4.9, 4.8, 4.8, 4.8, 4.6, 4.7, 4.5, 4.7, 4.6, 4.8, 4.8, 4.8, 4.8, 4.8, 4.6, 4.8, 4.9, 4.8, 4.8, 4.7, 4.8, 4.7, 4.6, 4.6, 4.3, 4.7, 4.6, 4.7, 4.8, 4.8, 4.9, 4.8, 4.8, 4.7, 4.9, 4.2, 4.8, 4.8, 4.7, 4.7, 4.3, 4.7, 4.7, 4.7, 4.7, 4.7, 4.9, 4.4, 4.9, 4.7, 4.5, 4.6, 4.5, 4.8, 4.6, 4.7], \"sizemode\": \"area\", \"sizeref\": 0.0125, \"symbol\": \"circle\"}, \"mode\": \"markers\", \"name\": \"course_difficulty=Beginner\", \"showlegend\": true, \"type\": \"scatter\", \"x\": [4.7, 4.7, 4.8, 4.7, 4.6, 4.3, 4.7, 4.7, 4.7, 4.6, 4.7, 4.8, 4.7, 4.7, 4.7, 4.7, 4.9, 4.9, 4.8, 4.7, 4.6, 4.6, 4.8, 4.8, 4.5, 4.8, 4.6, 4.2, 4.9, 4.5, 4.9, 4.9, 4.6, 4.6, 4.7, 4.7, 4.8, 4.5, 4.6, 4.4, 4.8, 4.7, 4.6, 4.7, 4.9, 4.9, 4.6, 4.9, 4.5, 4.6, 4.7, 4.7, 4.7, 4.7, 4.5, 4.7, 4.8, 4.5, 4.5, 4.7, 4.9, 4.8, 4.7, 4.4, 4.8, 4.7, 4.7, 4.8, 4.7, 4.8, 4.6, 4.8, 4.5, 4.7, 4.7, 4.8, 4.9, 4.7, 4.6, 4.8, 4.6, 4.3, 4.7, 4.7, 4.8, 4.8, 4.7, 4.5, 4.6, 4.8, 4.6, 4.8, 4.8, 4.6, 4.7, 4.6, 4.6, 4.7, 4.2, 4.6, 4.8, 4.4, 4.6, 4.7, 4.8, 4.7, 4.5, 4.5, 4.6, 4.6, 4.8, 4.5, 4.7, 4.6, 4.7, 4.8, 4.8, 4.7, 4.4, 4.6, 4.6, 4.8, 4.4, 4.5, 4.6, 4.6, 4.7, 4.7, 4.5, 4.6, 4.9, 4.8, 4.7, 4.6, 4.7, 4.8, 4.9, 5.0, 4.8, 4.6, 4.7, 4.8, 4.7, 4.6, 4.8, 4.8, 4.4, 4.8, 4.7, 4.8, 4.6, 4.7, 4.7, 4.8, 4.5, 4.7, 4.7, 4.8, 4.8, 4.9, 4.9, 4.9, 4.6, 4.8, 4.8, 4.5, 4.8, 4.8, 4.8, 4.8, 4.6, 4.7, 4.5, 4.8, 4.8, 4.5, 4.8, 4.5, 4.7, 4.7, 4.6, 4.9, 4.8, 4.8, 4.7, 4.8, 4.8, 4.8, 4.6, 4.8, 4.6, 4.6, 4.8, 4.8, 4.8, 4.6, 4.7, 4.5, 4.6, 4.6, 4.7, 4.8, 4.6, 4.6, 4.8, 4.7, 4.8, 4.6, 4.7, 4.8, 4.7, 4.5, 4.6, 4.9, 4.7, 4.5, 4.6, 4.7, 4.8, 4.7, 4.6, 4.7, 4.5, 4.4, 4.6, 4.7, 4.6, 4.1, 4.7, 4.6, 4.8, 4.6, 4.5, 4.8, 4.9, 4.7, 4.6, 4.7, 4.9, 4.4, 4.9, 4.5, 4.8, 4.6, 4.6, 4.7, 4.6, 4.8, 4.8, 4.5, 4.8, 4.6, 4.8, 4.6, 4.8, 4.5, 4.9, 4.6, 4.7, 4.7, 4.4, 4.7, 4.7, 4.8, 4.6, 4.3, 4.3, 4.7, 4.7, 4.5, 4.6, 4.8, 4.4, 4.5, 4.8, 4.4, 4.7, 4.7, 4.8, 4.9, 4.7, 4.7, 4.8, 4.8, 4.5, 4.8, 4.7, 4.8, 4.9, 4.9, 4.7, 4.6, 4.5, 4.6, 4.6, 4.6, 4.5, 4.7, 4.6, 4.7, 4.8, 4.7, 4.8, 4.3, 4.8, 4.6, 4.6, 4.8, 4.9, 4.7, 4.7, 4.7, 4.6, 4.6, 4.7, 4.9, 4.7, 4.7, 4.5, 4.6, 4.5, 4.8, 4.7, 4.6, 4.4, 4.7, 4.6, 4.3, 4.5, 4.6, 4.7, 4.7, 4.8, 4.3, 4.6, 4.9, 4.8, 4.7, 4.7, 4.8, 4.8, 4.8, 4.7, 4.7, 4.8, 4.8, 4.6, 4.4, 4.6, 4.7, 4.8, 4.6, 4.8, 4.6, 4.9, 4.7, 4.7, 4.7, 4.8, 4.8, 4.6, 4.7, 4.7, 4.6, 4.8, 4.6, 4.6, 4.7, 4.2, 4.7, 4.6, 4.7, 4.6, 4.8, 4.8, 4.6, 4.8, 4.9, 4.8, 4.7, 4.7, 4.6, 4.5, 4.4, 4.9, 4.7, 4.7, 4.8, 4.6, 4.6, 4.4, 4.7, 4.8, 4.8, 4.7, 4.8, 4.7, 4.8, 4.6, 4.6, 4.6, 4.6, 4.8, 4.7, 4.6, 4.6, 4.8, 4.8, 4.9, 4.6, 4.7, 4.7, 4.7, 4.6, 4.7, 4.7, 4.7, 4.7, 4.6, 4.8, 4.8, 4.8, 4.7, 4.7, 4.7, 4.8, 4.3, 4.6, 4.5, 4.7, 4.9, 4.9, 4.8, 4.8, 4.8, 4.6, 4.7, 4.5, 4.7, 4.6, 4.8, 4.8, 4.8, 4.8, 4.8, 4.6, 4.8, 4.9, 4.8, 4.8, 4.7, 4.8, 4.7, 4.6, 4.6, 4.3, 4.7, 4.6, 4.7, 4.8, 4.8, 4.9, 4.8, 4.8, 4.7, 4.9, 4.2, 4.8, 4.8, 4.7, 4.7, 4.3, 4.7, 4.7, 4.7, 4.7, 4.7, 4.9, 4.4, 4.9, 4.7, 4.5, 4.6, 4.5, 4.8, 4.6, 4.7], \"xaxis\": \"x\", \"y\": [5300.0, 39000.0, 350000.0, 61000.0, 130000.0, 11000.0, 27000.0, 110000.0, 540000.0, 2900.0, 110000.0, 9200.0, 21000.0, 94000.0, 69000.0, 40000.0, 12000.0, 18000.0, 23000.0, 69000.0, 270000.0, 7900.0, 30000.0, 20000.0, 120000.0, 11000.0, 220000.0, 6600.0, 180000.0, 3900.0, 150000.0, 10000.0, 13000.0, 180000.0, 28000.0, 6500.0, 61000.0, 8800.0, 35000.0, 88000.0, 14000.0, 21000.0, 1600.0, 31000.0, 9500.0, 57000.0, 26000.0, 15000.0, 22000.0, 280000.0, 510000.0, 110000.0, 24000.0, 89000.0, 67000.0, 10000.0, 48000.0, 160000.0, 31000.0, 36000.0, 220000.0, 32000.0, 340000.0, 790000.0, 31000.0, 23000.0, 30000.0, 22000.0, 57000.0, 51000.0, 4800.0, 32000.0, 37000.0, 120000.0, 15000.0, 43000.0, 6400.0, 43000.0, 5800.0, 33000.0, 27000.0, 66000.0, 19000.0, 61000.0, 43000.0, 15000.0, 220000.0, 27000.0, 26000.0, 7800.0, 75000.0, 15000.0, 81000.0, 140000.0, 150000.0, 17000.0, 5500.0, 18000.0, 140000.0, 23000.0, 55000.0, 100000.0, 220000.0, 110000.0, 24000.0, 42000.0, 830000.0, 140000.0, 89000.0, 740000.0, 60000.0, 96000.0, 18000.0, 120000.0, 110000.0, 150000.0, 44000.0, 4500.0, 8200.0, 240000.0, 17000.0, 54000.0, 9000.0, 21000.0, 37000.0, 380000.0, 140000.0, 58000.0, 35000.0, 4000.0, 21000.0, 5600.0, 17000.0, 39000.0, 110000.0, 7100.0, 46000.0, 1500.0, 12000.0, 17000.0, 37000.0, 14000.0, 23000.0, 200000.0, 230000.0, 110000.0, 2400.0, 110000.0, 31000.0, 20000.0, 69000.0, 6400.0, 31000.0, 7200.0, 1800.0, 14000.0, 27000.0, 13000.0, 11000.0, 86000.0, 240000.0, 200000.0, 490000.0, 56000.0, 54000.0, 170000.0, 28000.0, 180000.0, 18000.0, 9700.0, 13000.0, 12000.0, 260000.0, 69000.0, 65000.0, 10000.0, 470000.0, 60000.0, 6500.0, 36000.0, 20000.0, 400000.0, 14000.0, 63000.0, 31000.0, 64000.0, 89000.0, 3200.0, 26000.0, 52000.0, 30000.0, 39000.0, 200000.0, 86000.0, 290000.0, 180000.0, 120000.0, 81000.0, 25000.0, 56000.0, 150000.0, 110000.0, 47000.0, 4900.0, 9400.0, 10000.0, 140000.0, 260000.0, 14000.0, 97000.0, 14000.0, 59000.0, 18000.0, 22000.0, 29000.0, 10000.0, 3800.0, 93000.0, 350000.0, 10000.0, 56000.0, 43000.0, 8100.0, 36000.0, 5500.0, 5500.0, 28000.0, 34000.0, 98000.0, 220000.0, 3300.0, 480000.0, 35000.0, 62000.0, 1700.0, 23000.0, 2200.0, 610000.0, 270000.0, 18000.0, 79000.0, 34000.0, 22000.0, 32000.0, 10000.0, 16000.0, 40000.0, 10000.0, 25000.0, 72000.0, 14000.0, 6500.0, 22000.0, 26000.0, 20000.0, 2200.0, 35000.0, 11000.0, 36000.0, 140000.0, 100000.0, 44000.0, 16000.0, 46000.0, 2600.0, 20000.0, 32000.0, 27000.0, 32000.0, 30000.0, 310000.0, 25000.0, 75000.0, 54000.0, 6000.0, 140000.0, 160000.0, 82000.0, 270000.0, 270000.0, 49000.0, 12000.0, 4100.0, 72000.0, 87000.0, 16000.0, 76000.0, 110000.0, 4500.0, 120000.0, 99000.0, 14000.0, 49000.0, 4400.0, 380000.0, 160000.0, 22000.0, 8000.0, 6300.0, 17000.0, 16000.0, 220000.0, 43000.0, 22000.0, 39000.0, 160000.0, 80000.0, 180000.0, 120000.0, 68000.0, 10000.0, 14000.0, 19000.0, 78000.0, 43000.0, 11000.0, 55000.0, 23000.0, 27000.0, 47000.0, 22000.0, 81000.0, 39000.0, 93000.0, 57000.0, 310000.0, 8400.0, 52000.0, 12000.0, 150000.0, 140000.0, 51000.0, 4800.0, 13000.0, 260000.0, 73000.0, 230000.0, 120000.0, 310000.0, 14000.0, 42000.0, 70000.0, 22000.0, 12000.0, 5300.0, 100000.0, 330000.0, 13000.0, 76000.0, 22000.0, 3200.0, 9100.0, 8800.0, 12000.0, 8900.0, 160000.0, 83000.0, 34000.0, 23000.0, 50000.0, 40000.0, 10000.0, 22000.0, 47000.0, 20000.0, 36000.0, 250000.0, 19000.0, 70000.0, 190000.0, 440000.0, 230000.0, 52000.0, 110000.0, 26000.0, 170000.0, 1500.0, 3000.0, 7700.0, 24000.0, 5200.0, 7200.0, 170000.0, 120000.0, 30000.0, 3200.0, 7000.0, 370000.0, 2600.0, 160000.0, 5600.0, 16000.0, 9100.0, 140000.0, 14000.0, 110000.0, 61000.0, 20000.0, 22000.0, 13000.0, 130000.0, 78000.0, 4200.0, 220000.0, 60000.0, 110000.0, 17000.0, 68000.0, 8800.0, 71000.0, 370000.0, 17000.0, 16000.0, 34000.0, 220000.0, 9500.0, 100000.0, 68000.0, 11000.0, 220000.0, 38000.0, 11000.0, 7900.0, 66000.0, 82000.0, 24000.0, 45000.0, 9400.0, 3900.0, 62000.0, 100000.0, 62000.0, 49000.0, 280000.0, 90000.0, 130000.0, 23000.0, 73000.0, 130000.0, 22000.0, 84000.0, 11000.0, 120000.0, 130000.0, 47000.0, 1700.0, 59000.0, 13000.0, 320000.0, 26000.0, 5200.0, 28000.0, 14000.0, 200000.0, 120000.0, 68000.0, 110000.0, 44000.0, 68000.0, 25000.0, 29000.0, 89000.0, 24000.0, 49000.0, 30000.0, 130000.0, 12000.0, 9500.0, 23000.0, 19000.0, 37000.0, 23000.0, 280000.0, 34000.0, 120000.0, 260000.0, 32000.0, 12000.0, 18000.0, 140000.0, 25000.0, 69000.0, 14000.0, 16000.0, 67000.0, 83000.0, 38000.0], \"yaxis\": \"y\"}, {\"customdata\": [[17000.0], [2400.0], [12000.0], [4000.0], [13000.0], [13000.0], [22000.0], [9900.0], [78000.0], [220000.0], [150000.0], [14000.0], [36000.0], [63000.0], [42000.0], [480000.0], [150000.0], [97000.0], [4200.0], [310000.0], [33000.0], [7300.0], [9200.0], [91000.0], [29000.0], [4200.0], [1900.0], [68000.0], [7300.0], [5800.0], [24000.0], [38000.0], [120000.0], [77000.0], [110000.0], [310000.0], [37000.0], [350000.0], [240000.0], [46000.0], [10000.0], [43000.0], [26000.0], [22000.0], [99000.0], [19000.0], [3000.0], [120000.0], [120000.0], [140000.0], [210000.0], [66000.0], [690000.0], [19000.0], [16000.0], [300000.0], [4000.0], [8000.0], [40000.0], [130000.0], [18000.0], [16000.0], [57000.0], [110000.0], [42000.0], [7900.0], [68000.0], [83000.0], [4100.0], [54000.0], [39000.0], [76000.0], [39000.0], [12000.0], [76000.0], [12000.0], [30000.0], [4400.0], [27000.0], [45000.0], [89000.0], [150000.0], [140000.0], [170000.0], [220000.0], [20000.0], [18000.0], [22000.0], [100000.0], [80000.0], [73000.0], [59000.0], [75000.0], [22000.0], [3600.0], [44000.0], [120000.0], [36000.0], [7400.0], [5400.0], [1700.0], [170000.0], [140000.0], [1600.0], [12000.0], [97000.0], [9700.0], [8700.0], [150000.0], [22000.0], [66000.0], [14000.0], [53000.0], [390000.0], [41000.0], [270000.0], [150000.0], [13000.0], [37000.0], [5900.0], [16000.0], [78000.0], [120000.0], [7200.0], [23000.0], [290000.0], [29000.0], [58000.0], [15000.0], [120000.0], [72000.0], [49000.0], [60000.0], [33000.0], [21000.0], [9100.0], [59000.0], [40000.0], [17000.0], [290000.0], [630000.0], [35000.0], [250000.0], [21000.0], [33000.0], [92000.0], [30000.0], [79000.0], [67000.0], [39000.0], [39000.0], [18000.0], [21000.0], [41000.0], [480000.0], [29000.0], [23000.0], [17000.0], [6800.0], [6400.0], [300000.0], [14000.0], [18000.0], [15000.0], [34000.0], [12000.0], [28000.0], [9200.0], [30000.0], [4900.0], [48000.0], [8500.0], [170000.0], [12000.0], [47000.0], [23000.0], [9400.0], [12000.0], [100000.0], [5400.0], [12000.0], [11000.0], [6100.0], [3900.0], [43000.0], [63000.0], [120000.0], [17000.0], [76000.0], [190000.0], [68000.0], [77000.0], [19000.0], [41000.0], [45000.0], [52000.0], [30000.0], [9800.0]], \"hoverlabel\": {\"namelength\": 0}, \"hovertemplate\": \"course_difficulty=Intermediate<br>course_rating=%{marker.size}<br>Enrolled=%{customdata[0]}\", \"legendgroup\": \"course_difficulty=Intermediate\", \"marker\": {\"color\": \"#EF553B\", \"size\": [4.7, 4.8, 4.7, 4.6, 4.7, 4.5, 4.7, 4.8, 4.5, 4.7, 4.8, 4.8, 4.8, 4.6, 4.7, 4.5, 4.6, 4.6, 4.5, 4.7, 4.8, 4.8, 4.8, 4.8, 4.8, 4.7, 4.8, 4.6, 4.5, 4.6, 4.3, 4.7, 4.7, 4.7, 4.4, 4.7, 4.7, 4.7, 4.9, 4.7, 4.8, 4.8, 4.8, 4.8, 4.5, 4.7, 4.4, 4.6, 4.6, 4.4, 4.4, 4.6, 4.8, 4.6, 4.6, 4.7, 4.8, 4.6, 4.9, 4.8, 4.8, 4.7, 4.7, 4.8, 4.6, 4.5, 4.7, 4.7, 4.8, 4.6, 4.7, 4.9, 4.8, 4.4, 4.7, 4.8, 4.6, 4.9, 4.2, 4.7, 4.8, 4.7, 4.7, 4.8, 4.7, 4.7, 4.7, 4.8, 4.7, 4.4, 4.5, 4.6, 4.5, 4.6, 4.6, 4.8, 4.6, 4.7, 4.2, 4.5, 4.7, 4.8, 4.6, 5.0, 4.4, 4.7, 4.6, 4.8, 4.5, 4.5, 4.6, 4.7, 4.8, 4.5, 4.5, 4.8, 4.7, 4.0, 4.7, 4.7, 4.8, 4.5, 4.7, 4.5, 4.8, 4.6, 3.7, 4.6, 3.9, 4.7, 4.5, 4.7, 4.4, 4.0, 4.7, 4.7, 4.8, 4.6, 4.8, 4.7, 4.9, 4.8, 4.7, 4.7, 4.7, 4.7, 4.5, 4.7, 4.8, 4.6, 4.8, 4.6, 4.7, 4.4, 4.6, 4.3, 4.7, 4.9, 4.8, 4.4, 4.7, 4.8, 4.7, 4.7, 4.6, 4.7, 4.9, 4.5, 4.8, 4.6, 4.4, 4.4, 4.7, 4.5, 4.8, 4.7, 4.9, 4.7, 4.5, 4.9, 4.8, 4.4, 4.5, 4.9, 4.6, 4.7, 4.8, 4.8, 3.9, 4.8, 4.9, 4.7, 4.5, 4.9, 4.7, 4.5, 4.5, 4.6], \"sizemode\": \"area\", \"sizeref\": 0.0125, \"symbol\": \"circle\"}, \"mode\": \"markers\", \"name\": \"course_difficulty=Intermediate\", \"showlegend\": true, \"type\": \"scatter\", \"x\": [4.7, 4.8, 4.7, 4.6, 4.7, 4.5, 4.7, 4.8, 4.5, 4.7, 4.8, 4.8, 4.8, 4.6, 4.7, 4.5, 4.6, 4.6, 4.5, 4.7, 4.8, 4.8, 4.8, 4.8, 4.8, 4.7, 4.8, 4.6, 4.5, 4.6, 4.3, 4.7, 4.7, 4.7, 4.4, 4.7, 4.7, 4.7, 4.9, 4.7, 4.8, 4.8, 4.8, 4.8, 4.5, 4.7, 4.4, 4.6, 4.6, 4.4, 4.4, 4.6, 4.8, 4.6, 4.6, 4.7, 4.8, 4.6, 4.9, 4.8, 4.8, 4.7, 4.7, 4.8, 4.6, 4.5, 4.7, 4.7, 4.8, 4.6, 4.7, 4.9, 4.8, 4.4, 4.7, 4.8, 4.6, 4.9, 4.2, 4.7, 4.8, 4.7, 4.7, 4.8, 4.7, 4.7, 4.7, 4.8, 4.7, 4.4, 4.5, 4.6, 4.5, 4.6, 4.6, 4.8, 4.6, 4.7, 4.2, 4.5, 4.7, 4.8, 4.6, 5.0, 4.4, 4.7, 4.6, 4.8, 4.5, 4.5, 4.6, 4.7, 4.8, 4.5, 4.5, 4.8, 4.7, 4.0, 4.7, 4.7, 4.8, 4.5, 4.7, 4.5, 4.8, 4.6, 3.7, 4.6, 3.9, 4.7, 4.5, 4.7, 4.4, 4.0, 4.7, 4.7, 4.8, 4.6, 4.8, 4.7, 4.9, 4.8, 4.7, 4.7, 4.7, 4.7, 4.5, 4.7, 4.8, 4.6, 4.8, 4.6, 4.7, 4.4, 4.6, 4.3, 4.7, 4.9, 4.8, 4.4, 4.7, 4.8, 4.7, 4.7, 4.6, 4.7, 4.9, 4.5, 4.8, 4.6, 4.4, 4.4, 4.7, 4.5, 4.8, 4.7, 4.9, 4.7, 4.5, 4.9, 4.8, 4.4, 4.5, 4.9, 4.6, 4.7, 4.8, 4.8, 3.9, 4.8, 4.9, 4.7, 4.5, 4.9, 4.7, 4.5, 4.5, 4.6], \"xaxis\": \"x\", \"y\": [17000.0, 2400.0, 12000.0, 4000.0, 13000.0, 13000.0, 22000.0, 9900.0, 78000.0, 220000.0, 150000.0, 14000.0, 36000.0, 63000.0, 42000.0, 480000.0, 150000.0, 97000.0, 4200.0, 310000.0, 33000.0, 7300.0, 9200.0, 91000.0, 29000.0, 4200.0, 1900.0, 68000.0, 7300.0, 5800.0, 24000.0, 38000.0, 120000.0, 77000.0, 110000.0, 310000.0, 37000.0, 350000.0, 240000.0, 46000.0, 10000.0, 43000.0, 26000.0, 22000.0, 99000.0, 19000.0, 3000.0, 120000.0, 120000.0, 140000.0, 210000.0, 66000.0, 690000.0, 19000.0, 16000.0, 300000.0, 4000.0, 8000.0, 40000.0, 130000.0, 18000.0, 16000.0, 57000.0, 110000.0, 42000.0, 7900.0, 68000.0, 83000.0, 4100.0, 54000.0, 39000.0, 76000.0, 39000.0, 12000.0, 76000.0, 12000.0, 30000.0, 4400.0, 27000.0, 45000.0, 89000.0, 150000.0, 140000.0, 170000.0, 220000.0, 20000.0, 18000.0, 22000.0, 100000.0, 80000.0, 73000.0, 59000.0, 75000.0, 22000.0, 3600.0, 44000.0, 120000.0, 36000.0, 7400.0, 5400.0, 1700.0, 170000.0, 140000.0, 1600.0, 12000.0, 97000.0, 9700.0, 8700.0, 150000.0, 22000.0, 66000.0, 14000.0, 53000.0, 390000.0, 41000.0, 270000.0, 150000.0, 13000.0, 37000.0, 5900.0, 16000.0, 78000.0, 120000.0, 7200.0, 23000.0, 290000.0, 29000.0, 58000.0, 15000.0, 120000.0, 72000.0, 49000.0, 60000.0, 33000.0, 21000.0, 9100.0, 59000.0, 40000.0, 17000.0, 290000.0, 630000.0, 35000.0, 250000.0, 21000.0, 33000.0, 92000.0, 30000.0, 79000.0, 67000.0, 39000.0, 39000.0, 18000.0, 21000.0, 41000.0, 480000.0, 29000.0, 23000.0, 17000.0, 6800.0, 6400.0, 300000.0, 14000.0, 18000.0, 15000.0, 34000.0, 12000.0, 28000.0, 9200.0, 30000.0, 4900.0, 48000.0, 8500.0, 170000.0, 12000.0, 47000.0, 23000.0, 9400.0, 12000.0, 100000.0, 5400.0, 12000.0, 11000.0, 6100.0, 3900.0, 43000.0, 63000.0, 120000.0, 17000.0, 76000.0, 190000.0, 68000.0, 77000.0, 19000.0, 41000.0, 45000.0, 52000.0, 30000.0, 9800.0], \"yaxis\": \"y\"}, {\"customdata\": [[130000.0], [91000.0], [320000.0], [6600.0], [80000.0], [23000.0], [14000.0], [8100.0], [71000.0], [200000.0], [79000.0], [31000.0], [15000.0], [15000.0], [66000.0], [56000.0], [210000.0], [55000.0], [2300.0], [84000.0], [95000.0], [67000.0], [13000.0], [130000.0], [82000.0], [19000.0], [51000.0], [49000.0], [56000.0], [10000.0], [140000.0], [120000.0], [23000.0], [130000.0], [31000.0], [67000.0], [97000.0], [41000.0], [54000.0], [57000.0], [150000.0], [110000.0], [83000.0], [3400.0], [760000.0], [130000.0], [86000.0], [38000.0], [45000.0], [23000.0], [130000.0], [35000.0], [31000.0], [100000.0], [24000.0], [310000.0], [57000.0], [42000.0], [62000.0], [49000.0], [110000.0], [110000.0], [19000.0], [34000.0], [47000.0], [79000.0], [37000.0], [7600.0], [430000.0], [260000.0], [210000.0], [62000.0], [240000.0], [62000.0], [39000.0], [46000.0], [140000.0], [51000.0], [180000.0], [85000.0], [12000.0], [25000.0], [36000.0], [19000.0], [41000.0], [38000.0], [46000.0], [60000.0], [160000.0], [27000.0], [84000.0], [150000.0], [130000.0], [99000.0], [110000.0], [150000.0], [34000.0], [200000.0], [47000.0], [79000.0], [74000.0], [42000.0], [220000.0], [82000.0], [220000.0], [87000.0], [370000.0], [11000.0], [76000.0], [69000.0], [67000.0], [33000.0], [270000.0], [34000.0], [29000.0], [3200.0], [240000.0], [120000.0], [71000.0], [58000.0], [280000.0], [48000.0], [34000.0], [130000.0], [36000.0], [100000.0], [40000.0], [44000.0], [34000.0], [21000.0], [95000.0], [41000.0], [57000.0], [80000.0], [42000.0], [84000.0], [72000.0], [180000.0], [68000.0], [280000.0], [79000.0], [1300.0], [190000.0], [420000.0], [69000.0], [35000.0], [16000.0], [15000.0], [36000.0], [33000.0], [12000.0], [47000.0], [60000.0], [430000.0], [16000.0], [58000.0], [750000.0], [29000.0], [50000.0], [33000.0], [81000.0], [53000.0], [420000.0], [7200.0], [84000.0], [29000.0], [47000.0], [180000.0], [120000.0], [50000.0], [2500.0], [19000.0], [33000.0], [45000.0], [78000.0], [120000.0], [220000.0], [310000.0], [40000.0], [150000.0], [190000.0], [35000.0], [6200.0], [94000.0], [270000.0], [17000.0], [21000.0]], \"hoverlabel\": {\"namelength\": 0}, \"hovertemplate\": \"course_difficulty=Mixed<br>course_rating=%{marker.size}<br>Enrolled=%{customdata[0]}\", \"legendgroup\": \"course_difficulty=Mixed\", \"marker\": {\"color\": \"#00cc96\", \"size\": [4.5, 4.7, 4.8, 4.7, 4.5, 4.8, 4.8, 4.8, 4.8, 4.8, 4.8, 4.8, 4.6, 4.8, 4.7, 4.6, 4.9, 4.4, 4.6, 4.7, 4.9, 4.5, 4.7, 4.7, 4.6, 4.7, 4.8, 4.8, 4.8, 4.6, 4.3, 4.7, 4.8, 4.7, 4.6, 4.7, 4.7, 4.8, 4.7, 4.4, 4.6, 4.7, 4.9, 4.9, 4.8, 4.8, 4.8, 4.8, 4.8, 4.7, 4.6, 4.8, 4.8, 4.6, 4.8, 4.8, 4.8, 4.7, 4.8, 4.7, 4.6, 4.8, 4.3, 4.8, 4.7, 4.6, 4.6, 4.8, 4.7, 4.8, 4.8, 4.7, 4.8, 4.8, 4.6, 4.8, 3.3, 4.8, 4.7, 4.8, 4.2, 4.4, 4.8, 4.8, 4.8, 4.8, 4.8, 4.8, 4.6, 4.9, 4.8, 4.9, 4.6, 4.7, 4.7, 4.7, 4.8, 4.7, 4.9, 4.8, 4.8, 4.6, 4.7, 4.8, 4.8, 4.5, 4.6, 4.8, 4.2, 4.8, 4.8, 4.7, 4.7, 4.7, 4.6, 4.9, 4.6, 4.7, 4.7, 4.8, 4.2, 4.7, 4.7, 4.8, 4.6, 4.8, 4.9, 4.9, 4.9, 4.8, 4.8, 4.7, 4.8, 4.7, 4.5, 4.5, 4.8, 4.7, 4.8, 4.8, 4.8, 4.8, 4.8, 4.9, 4.7, 4.7, 4.6, 4.8, 4.9, 4.5, 4.5, 4.7, 4.7, 4.6, 4.8, 4.7, 4.8, 4.6, 4.8, 4.9, 4.9, 4.8, 4.6, 4.8, 4.8, 4.9, 4.6, 4.6, 4.7, 4.6, 4.9, 4.6, 4.7, 4.8, 4.8, 4.5, 4.8, 4.8, 4.8, 4.7, 4.8, 4.7, 4.8, 4.6, 4.7, 4.5, 4.8], \"sizemode\": \"area\", \"sizeref\": 0.0125, \"symbol\": \"circle\"}, \"mode\": \"markers\", \"name\": \"course_difficulty=Mixed\", \"showlegend\": true, \"type\": \"scatter\", \"x\": [4.5, 4.7, 4.8, 4.7, 4.5, 4.8, 4.8, 4.8, 4.8, 4.8, 4.8, 4.8, 4.6, 4.8, 4.7, 4.6, 4.9, 4.4, 4.6, 4.7, 4.9, 4.5, 4.7, 4.7, 4.6, 4.7, 4.8, 4.8, 4.8, 4.6, 4.3, 4.7, 4.8, 4.7, 4.6, 4.7, 4.7, 4.8, 4.7, 4.4, 4.6, 4.7, 4.9, 4.9, 4.8, 4.8, 4.8, 4.8, 4.8, 4.7, 4.6, 4.8, 4.8, 4.6, 4.8, 4.8, 4.8, 4.7, 4.8, 4.7, 4.6, 4.8, 4.3, 4.8, 4.7, 4.6, 4.6, 4.8, 4.7, 4.8, 4.8, 4.7, 4.8, 4.8, 4.6, 4.8, 3.3, 4.8, 4.7, 4.8, 4.2, 4.4, 4.8, 4.8, 4.8, 4.8, 4.8, 4.8, 4.6, 4.9, 4.8, 4.9, 4.6, 4.7, 4.7, 4.7, 4.8, 4.7, 4.9, 4.8, 4.8, 4.6, 4.7, 4.8, 4.8, 4.5, 4.6, 4.8, 4.2, 4.8, 4.8, 4.7, 4.7, 4.7, 4.6, 4.9, 4.6, 4.7, 4.7, 4.8, 4.2, 4.7, 4.7, 4.8, 4.6, 4.8, 4.9, 4.9, 4.9, 4.8, 4.8, 4.7, 4.8, 4.7, 4.5, 4.5, 4.8, 4.7, 4.8, 4.8, 4.8, 4.8, 4.8, 4.9, 4.7, 4.7, 4.6, 4.8, 4.9, 4.5, 4.5, 4.7, 4.7, 4.6, 4.8, 4.7, 4.8, 4.6, 4.8, 4.9, 4.9, 4.8, 4.6, 4.8, 4.8, 4.9, 4.6, 4.6, 4.7, 4.6, 4.9, 4.6, 4.7, 4.8, 4.8, 4.5, 4.8, 4.8, 4.8, 4.7, 4.8, 4.7, 4.8, 4.6, 4.7, 4.5, 4.8], \"xaxis\": \"x\", \"y\": [130000.0, 91000.0, 320000.0, 6600.0, 80000.0, 23000.0, 14000.0, 8100.0, 71000.0, 200000.0, 79000.0, 31000.0, 15000.0, 15000.0, 66000.0, 56000.0, 210000.0, 55000.0, 2300.0, 84000.0, 95000.0, 67000.0, 13000.0, 130000.0, 82000.0, 19000.0, 51000.0, 49000.0, 56000.0, 10000.0, 140000.0, 120000.0, 23000.0, 130000.0, 31000.0, 67000.0, 97000.0, 41000.0, 54000.0, 57000.0, 150000.0, 110000.0, 83000.0, 3400.0, 760000.0, 130000.0, 86000.0, 38000.0, 45000.0, 23000.0, 130000.0, 35000.0, 31000.0, 100000.0, 24000.0, 310000.0, 57000.0, 42000.0, 62000.0, 49000.0, 110000.0, 110000.0, 19000.0, 34000.0, 47000.0, 79000.0, 37000.0, 7600.0, 430000.0, 260000.0, 210000.0, 62000.0, 240000.0, 62000.0, 39000.0, 46000.0, 140000.0, 51000.0, 180000.0, 85000.0, 12000.0, 25000.0, 36000.0, 19000.0, 41000.0, 38000.0, 46000.0, 60000.0, 160000.0, 27000.0, 84000.0, 150000.0, 130000.0, 99000.0, 110000.0, 150000.0, 34000.0, 200000.0, 47000.0, 79000.0, 74000.0, 42000.0, 220000.0, 82000.0, 220000.0, 87000.0, 370000.0, 11000.0, 76000.0, 69000.0, 67000.0, 33000.0, 270000.0, 34000.0, 29000.0, 3200.0, 240000.0, 120000.0, 71000.0, 58000.0, 280000.0, 48000.0, 34000.0, 130000.0, 36000.0, 100000.0, 40000.0, 44000.0, 34000.0, 21000.0, 95000.0, 41000.0, 57000.0, 80000.0, 42000.0, 84000.0, 72000.0, 180000.0, 68000.0, 280000.0, 79000.0, 1300.0, 190000.0, 420000.0, 69000.0, 35000.0, 16000.0, 15000.0, 36000.0, 33000.0, 12000.0, 47000.0, 60000.0, 430000.0, 16000.0, 58000.0, 750000.0, 29000.0, 50000.0, 33000.0, 81000.0, 53000.0, 420000.0, 7200.0, 84000.0, 29000.0, 47000.0, 180000.0, 120000.0, 50000.0, 2500.0, 19000.0, 33000.0, 45000.0, 78000.0, 120000.0, 220000.0, 310000.0, 40000.0, 150000.0, 190000.0, 35000.0, 6200.0, 94000.0, 270000.0, 17000.0, 21000.0], \"yaxis\": \"y\"}, {\"customdata\": [[320000.0], [190000.0], [35000.0], [29000.0], [11000.0], [22000.0], [9700.0], [140000.0], [3500.0], [39000.0], [52000.0], [170000.0], [6200.0], [68000.0], [39000.0], [16000.0], [42000.0], [12000.0], [60000.0]], \"hoverlabel\": {\"namelength\": 0}, \"hovertemplate\": \"course_difficulty=Advanced<br>course_rating=%{marker.size}<br>Enrolled=%{customdata[0]}\", \"legendgroup\": \"course_difficulty=Advanced\", \"marker\": {\"color\": \"#ab63fa\", \"size\": [4.4, 4.5, 4.5, 4.7, 4.5, 4.7, 4.7, 4.5, 4.4, 4.8, 4.8, 4.9, 4.2, 4.7, 4.7, 4.5, 4.8, 4.8, 4.3], \"sizemode\": \"area\", \"sizeref\": 0.0125, \"symbol\": \"circle\"}, \"mode\": \"markers\", \"name\": \"course_difficulty=Advanced\", \"showlegend\": true, \"type\": \"scatter\", \"x\": [4.4, 4.5, 4.5, 4.7, 4.5, 4.7, 4.7, 4.5, 4.4, 4.8, 4.8, 4.9, 4.2, 4.7, 4.7, 4.5, 4.8, 4.8, 4.3], \"xaxis\": \"x\", \"y\": [320000.0, 190000.0, 35000.0, 29000.0, 11000.0, 22000.0, 9700.0, 140000.0, 3500.0, 39000.0, 52000.0, 170000.0, 6200.0, 68000.0, 39000.0, 16000.0, 42000.0, 12000.0, 60000.0], \"yaxis\": \"y\"}],\n",
              "                        {\"legend\": {\"itemsizing\": \"constant\", \"tracegroupgap\": 0}, \"margin\": {\"t\": 60}, \"template\": {\"data\": {\"bar\": [{\"error_x\": {\"color\": \"#2a3f5f\"}, \"error_y\": {\"color\": \"#2a3f5f\"}, \"marker\": {\"line\": {\"color\": \"#E5ECF6\", \"width\": 0.5}}, \"type\": \"bar\"}], \"barpolar\": [{\"marker\": {\"line\": {\"color\": \"#E5ECF6\", \"width\": 0.5}}, \"type\": \"barpolar\"}], \"carpet\": [{\"aaxis\": {\"endlinecolor\": \"#2a3f5f\", \"gridcolor\": \"white\", \"linecolor\": \"white\", \"minorgridcolor\": \"white\", \"startlinecolor\": \"#2a3f5f\"}, \"baxis\": {\"endlinecolor\": \"#2a3f5f\", \"gridcolor\": \"white\", \"linecolor\": \"white\", \"minorgridcolor\": \"white\", \"startlinecolor\": \"#2a3f5f\"}, \"type\": \"carpet\"}], \"choropleth\": [{\"colorbar\": {\"outlinewidth\": 0, \"ticks\": \"\"}, \"type\": \"choropleth\"}], \"contour\": [{\"colorbar\": {\"outlinewidth\": 0, \"ticks\": \"\"}, \"colorscale\": [[0.0, \"#0d0887\"], [0.1111111111111111, \"#46039f\"], [0.2222222222222222, \"#7201a8\"], [0.3333333333333333, \"#9c179e\"], [0.4444444444444444, \"#bd3786\"], [0.5555555555555556, \"#d8576b\"], [0.6666666666666666, \"#ed7953\"], [0.7777777777777778, \"#fb9f3a\"], [0.8888888888888888, \"#fdca26\"], [1.0, \"#f0f921\"]], \"type\": \"contour\"}], \"contourcarpet\": [{\"colorbar\": {\"outlinewidth\": 0, \"ticks\": \"\"}, \"type\": \"contourcarpet\"}], \"heatmap\": [{\"colorbar\": {\"outlinewidth\": 0, \"ticks\": \"\"}, \"colorscale\": [[0.0, \"#0d0887\"], [0.1111111111111111, \"#46039f\"], [0.2222222222222222, \"#7201a8\"], [0.3333333333333333, \"#9c179e\"], [0.4444444444444444, \"#bd3786\"], [0.5555555555555556, \"#d8576b\"], [0.6666666666666666, \"#ed7953\"], [0.7777777777777778, \"#fb9f3a\"], [0.8888888888888888, \"#fdca26\"], [1.0, \"#f0f921\"]], \"type\": \"heatmap\"}], \"heatmapgl\": [{\"colorbar\": {\"outlinewidth\": 0, \"ticks\": \"\"}, \"colorscale\": [[0.0, \"#0d0887\"], [0.1111111111111111, \"#46039f\"], [0.2222222222222222, \"#7201a8\"], [0.3333333333333333, \"#9c179e\"], [0.4444444444444444, \"#bd3786\"], [0.5555555555555556, \"#d8576b\"], [0.6666666666666666, \"#ed7953\"], [0.7777777777777778, \"#fb9f3a\"], [0.8888888888888888, \"#fdca26\"], [1.0, \"#f0f921\"]], \"type\": \"heatmapgl\"}], \"histogram\": [{\"marker\": {\"colorbar\": {\"outlinewidth\": 0, \"ticks\": \"\"}}, \"type\": \"histogram\"}], \"histogram2d\": [{\"colorbar\": {\"outlinewidth\": 0, \"ticks\": \"\"}, \"colorscale\": [[0.0, \"#0d0887\"], [0.1111111111111111, \"#46039f\"], [0.2222222222222222, \"#7201a8\"], [0.3333333333333333, \"#9c179e\"], [0.4444444444444444, \"#bd3786\"], [0.5555555555555556, \"#d8576b\"], [0.6666666666666666, \"#ed7953\"], [0.7777777777777778, \"#fb9f3a\"], [0.8888888888888888, \"#fdca26\"], [1.0, \"#f0f921\"]], \"type\": \"histogram2d\"}], \"histogram2dcontour\": [{\"colorbar\": {\"outlinewidth\": 0, \"ticks\": \"\"}, \"colorscale\": [[0.0, \"#0d0887\"], [0.1111111111111111, \"#46039f\"], [0.2222222222222222, \"#7201a8\"], [0.3333333333333333, \"#9c179e\"], [0.4444444444444444, \"#bd3786\"], [0.5555555555555556, \"#d8576b\"], [0.6666666666666666, \"#ed7953\"], [0.7777777777777778, \"#fb9f3a\"], [0.8888888888888888, \"#fdca26\"], [1.0, \"#f0f921\"]], \"type\": \"histogram2dcontour\"}], \"mesh3d\": [{\"colorbar\": {\"outlinewidth\": 0, \"ticks\": \"\"}, \"type\": \"mesh3d\"}], \"parcoords\": [{\"line\": {\"colorbar\": {\"outlinewidth\": 0, \"ticks\": \"\"}}, \"type\": \"parcoords\"}], \"pie\": [{\"automargin\": true, \"type\": \"pie\"}], \"scatter\": [{\"marker\": {\"colorbar\": {\"outlinewidth\": 0, \"ticks\": \"\"}}, \"type\": \"scatter\"}], \"scatter3d\": [{\"line\": {\"colorbar\": {\"outlinewidth\": 0, \"ticks\": \"\"}}, \"marker\": {\"colorbar\": {\"outlinewidth\": 0, \"ticks\": \"\"}}, \"type\": \"scatter3d\"}], \"scattercarpet\": [{\"marker\": {\"colorbar\": {\"outlinewidth\": 0, \"ticks\": \"\"}}, \"type\": \"scattercarpet\"}], \"scattergeo\": [{\"marker\": {\"colorbar\": {\"outlinewidth\": 0, \"ticks\": \"\"}}, \"type\": \"scattergeo\"}], \"scattergl\": [{\"marker\": {\"colorbar\": {\"outlinewidth\": 0, \"ticks\": \"\"}}, \"type\": \"scattergl\"}], \"scattermapbox\": [{\"marker\": {\"colorbar\": {\"outlinewidth\": 0, \"ticks\": \"\"}}, \"type\": \"scattermapbox\"}], \"scatterpolar\": [{\"marker\": {\"colorbar\": {\"outlinewidth\": 0, \"ticks\": \"\"}}, \"type\": \"scatterpolar\"}], \"scatterpolargl\": [{\"marker\": {\"colorbar\": {\"outlinewidth\": 0, \"ticks\": \"\"}}, \"type\": \"scatterpolargl\"}], \"scatterternary\": [{\"marker\": {\"colorbar\": {\"outlinewidth\": 0, \"ticks\": \"\"}}, \"type\": \"scatterternary\"}], \"surface\": [{\"colorbar\": {\"outlinewidth\": 0, \"ticks\": \"\"}, \"colorscale\": [[0.0, \"#0d0887\"], [0.1111111111111111, \"#46039f\"], [0.2222222222222222, \"#7201a8\"], [0.3333333333333333, \"#9c179e\"], [0.4444444444444444, \"#bd3786\"], [0.5555555555555556, \"#d8576b\"], [0.6666666666666666, \"#ed7953\"], [0.7777777777777778, \"#fb9f3a\"], [0.8888888888888888, \"#fdca26\"], [1.0, \"#f0f921\"]], \"type\": \"surface\"}], \"table\": [{\"cells\": {\"fill\": {\"color\": \"#EBF0F8\"}, \"line\": {\"color\": \"white\"}}, \"header\": {\"fill\": {\"color\": \"#C8D4E3\"}, \"line\": {\"color\": \"white\"}}, \"type\": \"table\"}]}, \"layout\": {\"annotationdefaults\": {\"arrowcolor\": \"#2a3f5f\", \"arrowhead\": 0, \"arrowwidth\": 1}, \"coloraxis\": {\"colorbar\": {\"outlinewidth\": 0, \"ticks\": \"\"}}, \"colorscale\": {\"diverging\": [[0, \"#8e0152\"], [0.1, \"#c51b7d\"], [0.2, \"#de77ae\"], [0.3, \"#f1b6da\"], [0.4, \"#fde0ef\"], [0.5, \"#f7f7f7\"], [0.6, \"#e6f5d0\"], [0.7, \"#b8e186\"], [0.8, \"#7fbc41\"], [0.9, \"#4d9221\"], [1, \"#276419\"]], \"sequential\": [[0.0, \"#0d0887\"], [0.1111111111111111, \"#46039f\"], [0.2222222222222222, \"#7201a8\"], [0.3333333333333333, \"#9c179e\"], [0.4444444444444444, \"#bd3786\"], [0.5555555555555556, \"#d8576b\"], [0.6666666666666666, \"#ed7953\"], [0.7777777777777778, \"#fb9f3a\"], [0.8888888888888888, \"#fdca26\"], [1.0, \"#f0f921\"]], \"sequentialminus\": [[0.0, \"#0d0887\"], [0.1111111111111111, \"#46039f\"], [0.2222222222222222, \"#7201a8\"], [0.3333333333333333, \"#9c179e\"], [0.4444444444444444, \"#bd3786\"], [0.5555555555555556, \"#d8576b\"], [0.6666666666666666, \"#ed7953\"], [0.7777777777777778, \"#fb9f3a\"], [0.8888888888888888, \"#fdca26\"], [1.0, \"#f0f921\"]]}, \"colorway\": [\"#636efa\", \"#EF553B\", \"#00cc96\", \"#ab63fa\", \"#FFA15A\", \"#19d3f3\", \"#FF6692\", \"#B6E880\", \"#FF97FF\", \"#FECB52\"], \"font\": {\"color\": \"#2a3f5f\"}, \"geo\": {\"bgcolor\": \"white\", \"lakecolor\": \"white\", \"landcolor\": \"#E5ECF6\", \"showlakes\": true, \"showland\": true, \"subunitcolor\": \"white\"}, \"hoverlabel\": {\"align\": \"left\"}, \"hovermode\": \"closest\", \"mapbox\": {\"style\": \"light\"}, \"paper_bgcolor\": \"white\", \"plot_bgcolor\": \"#E5ECF6\", \"polar\": {\"angularaxis\": {\"gridcolor\": \"white\", \"linecolor\": \"white\", \"ticks\": \"\"}, \"bgcolor\": \"#E5ECF6\", \"radialaxis\": {\"gridcolor\": \"white\", \"linecolor\": \"white\", \"ticks\": \"\"}}, \"scene\": {\"xaxis\": {\"backgroundcolor\": \"#E5ECF6\", \"gridcolor\": \"white\", \"gridwidth\": 2, \"linecolor\": \"white\", \"showbackground\": true, \"ticks\": \"\", \"zerolinecolor\": \"white\"}, \"yaxis\": {\"backgroundcolor\": \"#E5ECF6\", \"gridcolor\": \"white\", \"gridwidth\": 2, \"linecolor\": \"white\", \"showbackground\": true, \"ticks\": \"\", \"zerolinecolor\": \"white\"}, \"zaxis\": {\"backgroundcolor\": \"#E5ECF6\", \"gridcolor\": \"white\", \"gridwidth\": 2, \"linecolor\": \"white\", \"showbackground\": true, \"ticks\": \"\", \"zerolinecolor\": \"white\"}}, \"shapedefaults\": {\"line\": {\"color\": \"#2a3f5f\"}}, \"ternary\": {\"aaxis\": {\"gridcolor\": \"white\", \"linecolor\": \"white\", \"ticks\": \"\"}, \"baxis\": {\"gridcolor\": \"white\", \"linecolor\": \"white\", \"ticks\": \"\"}, \"bgcolor\": \"#E5ECF6\", \"caxis\": {\"gridcolor\": \"white\", \"linecolor\": \"white\", \"ticks\": \"\"}}, \"title\": {\"x\": 0.05}, \"xaxis\": {\"automargin\": true, \"gridcolor\": \"white\", \"linecolor\": \"white\", \"ticks\": \"\", \"title\": {\"standoff\": 15}, \"zerolinecolor\": \"white\", \"zerolinewidth\": 2}, \"yaxis\": {\"automargin\": true, \"gridcolor\": \"white\", \"linecolor\": \"white\", \"ticks\": \"\", \"title\": {\"standoff\": 15}, \"zerolinecolor\": \"white\", \"zerolinewidth\": 2}}}, \"xaxis\": {\"anchor\": \"y\", \"domain\": [0.0, 1.0], \"title\": {\"text\": \"course_rating\"}}, \"yaxis\": {\"anchor\": \"x\", \"domain\": [0.0, 1.0], \"title\": {\"text\": \"Enrolled\"}}},\n",
              "                        {\"responsive\": true}\n",
              "                    ).then(function(){\n",
              "                            \n",
              "var gd = document.getElementById('1a3045fb-1bd9-4531-927d-cebf47c79368');\n",
              "var x = new MutationObserver(function (mutations, observer) {{\n",
              "        var display = window.getComputedStyle(gd).display;\n",
              "        if (!display || display === 'none') {{\n",
              "            console.log([gd, 'removed!']);\n",
              "            Plotly.purge(gd);\n",
              "            observer.disconnect();\n",
              "        }}\n",
              "}});\n",
              "\n",
              "// Listen for the removal of the full notebook cells\n",
              "var notebookContainer = gd.closest('#notebook-container');\n",
              "if (notebookContainer) {{\n",
              "    x.observe(notebookContainer, {childList: true});\n",
              "}}\n",
              "\n",
              "// Listen for the clearing of the current output cell\n",
              "var outputEl = gd.closest('.output');\n",
              "if (outputEl) {{\n",
              "    x.observe(outputEl, {childList: true});\n",
              "}}\n",
              "\n",
              "                        })\n",
              "                };\n",
              "                \n",
              "            </script>\n",
              "        </div>\n",
              "</body>\n",
              "</html>"
            ]
          },
          "metadata": {
            "tags": []
          }
        }
      ]
    },
    {
      "cell_type": "markdown",
      "metadata": {
        "id": "73oGDWx36GaD",
        "colab_type": "text"
      },
      "source": [
        "**Course_difficulty** *VS* **Enrolled** *VS* **Language** using boxplot"
      ]
    },
    {
      "cell_type": "code",
      "metadata": {
        "id": "RIpzEx114Ki3",
        "colab_type": "code",
        "colab": {
          "base_uri": "https://localhost:8080/",
          "height": 542
        },
        "outputId": "47436bd8-03d4-41f6-ac55-1668b0f7f80e"
      },
      "source": [
        "fig = px.box(df, x=\"course_difficulty\", y=\"Enrolled\",color=\"Language\")\n",
        "#fig.update_traces(quartilemethod=\"exclusive\")\n",
        "fig.show()"
      ],
      "execution_count": 23,
      "outputs": [
        {
          "output_type": "display_data",
          "data": {
            "text/html": [
              "<html>\n",
              "<head><meta charset=\"utf-8\" /></head>\n",
              "<body>\n",
              "    <div>\n",
              "            <script src=\"https://cdnjs.cloudflare.com/ajax/libs/mathjax/2.7.5/MathJax.js?config=TeX-AMS-MML_SVG\"></script><script type=\"text/javascript\">if (window.MathJax) {MathJax.Hub.Config({SVG: {font: \"STIX-Web\"}});}</script>\n",
              "                <script type=\"text/javascript\">window.PlotlyConfig = {MathJaxConfig: 'local'};</script>\n",
              "        <script src=\"https://cdn.plot.ly/plotly-latest.min.js\"></script>    \n",
              "            <div id=\"9fc58584-60b7-4c89-9f82-131612365670\" class=\"plotly-graph-div\" style=\"height:525px; width:100%;\"></div>\n",
              "            <script type=\"text/javascript\">\n",
              "                \n",
              "                    window.PLOTLYENV=window.PLOTLYENV || {};\n",
              "                    \n",
              "                if (document.getElementById(\"9fc58584-60b7-4c89-9f82-131612365670\")) {\n",
              "                    Plotly.newPlot(\n",
              "                        '9fc58584-60b7-4c89-9f82-131612365670',\n",
              "                        [{\"alignmentgroup\": \"True\", \"hoverlabel\": {\"namelength\": 0}, \"hovertemplate\": \"Language=en<br>course_difficulty=%{x}<br>Enrolled=%{y}\", \"legendgroup\": \"Language=en\", \"marker\": {\"color\": \"#636efa\"}, \"name\": \"Language=en\", \"notched\": false, \"offsetgroup\": \"Language=en\", \"orientation\": \"v\", \"showlegend\": true, \"type\": \"box\", \"x\": [\"Beginner\", \"Intermediate\", \"Mixed\", \"Mixed\", \"Mixed\", \"Beginner\", \"Beginner\", \"Intermediate\", \"Beginner\", \"Intermediate\", \"Beginner\", \"Beginner\", \"Beginner\", \"Intermediate\", \"Mixed\", \"Beginner\", \"Intermediate\", \"Beginner\", \"Mixed\", \"Intermediate\", \"Beginner\", \"Beginner\", \"Intermediate\", \"Advanced\", \"Advanced\", \"Advanced\", \"Advanced\", \"Mixed\", \"Beginner\", \"Beginner\", \"Beginner\", \"Intermediate\", \"Intermediate\", \"Intermediate\", \"Beginner\", \"Beginner\", \"Beginner\", \"Beginner\", \"Beginner\", \"Intermediate\", \"Beginner\", \"Mixed\", \"Mixed\", \"Advanced\", \"Intermediate\", \"Beginner\", \"Intermediate\", \"Intermediate\", \"Intermediate\", \"Intermediate\", \"Beginner\", \"Intermediate\", \"Intermediate\", \"Beginner\", \"Beginner\", \"Mixed\", \"Mixed\", \"Mixed\", \"Mixed\", \"Intermediate\", \"Intermediate\", \"Advanced\", \"Advanced\", \"Beginner\", \"Beginner\", \"Intermediate\", \"Intermediate\", \"Mixed\", \"Beginner\", \"Intermediate\", \"Beginner\", \"Beginner\", \"Mixed\", \"Mixed\", \"Beginner\", \"Beginner\", \"Beginner\", \"Intermediate\", \"Intermediate\", \"Beginner\", \"Beginner\", \"Beginner\", \"Beginner\", \"Beginner\", \"Beginner\", \"Mixed\", \"Beginner\", \"Mixed\", \"Intermediate\", \"Beginner\", \"Intermediate\", \"Intermediate\", \"Mixed\", \"Beginner\", \"Intermediate\", \"Intermediate\", \"Beginner\", \"Beginner\", \"Beginner\", \"Beginner\", \"Beginner\", \"Beginner\", \"Beginner\", \"Beginner\", \"Beginner\", \"Mixed\", \"Mixed\", \"Beginner\", \"Beginner\", \"Beginner\", \"Mixed\", \"Beginner\", \"Beginner\", \"Beginner\", \"Mixed\", \"Beginner\", \"Beginner\", \"Intermediate\", \"Beginner\", \"Intermediate\", \"Intermediate\", \"Beginner\", \"Beginner\", \"Beginner\", \"Beginner\", \"Beginner\", \"Intermediate\", \"Beginner\", \"Beginner\", \"Beginner\", \"Beginner\", \"Beginner\", \"Beginner\", \"Beginner\", \"Beginner\", \"Mixed\", \"Intermediate\", \"Intermediate\", \"Intermediate\", \"Beginner\", \"Mixed\", \"Beginner\", \"Beginner\", \"Mixed\", \"Beginner\", \"Mixed\", \"Beginner\", \"Beginner\", \"Beginner\", \"Intermediate\", \"Beginner\", \"Beginner\", \"Mixed\", \"Beginner\", \"Beginner\", \"Beginner\", \"Beginner\", \"Intermediate\", \"Intermediate\", \"Intermediate\", \"Intermediate\", \"Beginner\", \"Beginner\", \"Beginner\", \"Beginner\", \"Intermediate\", \"Mixed\", \"Beginner\", \"Intermediate\", \"Beginner\", \"Advanced\", \"Beginner\", \"Beginner\", \"Beginner\", \"Mixed\", \"Beginner\", \"Beginner\", \"Beginner\", \"Beginner\", \"Mixed\", \"Mixed\", \"Intermediate\", \"Intermediate\", \"Intermediate\", \"Intermediate\", \"Intermediate\", \"Mixed\", \"Beginner\", \"Beginner\", \"Beginner\", \"Mixed\", \"Beginner\", \"Intermediate\", \"Mixed\", \"Beginner\", \"Beginner\", \"Beginner\", \"Intermediate\", \"Mixed\", \"Mixed\", \"Intermediate\", \"Mixed\", \"Intermediate\", \"Beginner\", \"Intermediate\", \"Beginner\", \"Beginner\", \"Beginner\", \"Beginner\", \"Beginner\", \"Beginner\", \"Mixed\", \"Mixed\", \"Intermediate\", \"Beginner\", \"Intermediate\", \"Mixed\", \"Mixed\", \"Beginner\", \"Beginner\", \"Beginner\", \"Mixed\", \"Mixed\", \"Beginner\", \"Beginner\", \"Mixed\", \"Mixed\", \"Beginner\", \"Intermediate\", \"Intermediate\", \"Mixed\", \"Beginner\", \"Intermediate\", \"Intermediate\", \"Intermediate\", \"Beginner\", \"Beginner\", \"Beginner\", \"Beginner\", \"Beginner\", \"Beginner\", \"Beginner\", \"Beginner\", \"Beginner\", \"Intermediate\", \"Beginner\", \"Mixed\", \"Beginner\", \"Beginner\", \"Beginner\", \"Mixed\", \"Beginner\", \"Beginner\", \"Beginner\", \"Mixed\", \"Beginner\", \"Beginner\", \"Mixed\", \"Beginner\", \"Beginner\", \"Intermediate\", \"Beginner\", \"Beginner\", \"Beginner\", \"Beginner\", \"Intermediate\", \"Intermediate\", \"Intermediate\", \"Intermediate\", \"Intermediate\", \"Beginner\", \"Beginner\", \"Mixed\", \"Beginner\", \"Beginner\", \"Intermediate\", \"Intermediate\", \"Beginner\", \"Beginner\", \"Mixed\", \"Intermediate\", \"Beginner\", \"Beginner\", \"Beginner\", \"Beginner\", \"Beginner\", \"Beginner\", \"Mixed\", \"Beginner\", \"Beginner\", \"Intermediate\", \"Intermediate\", \"Intermediate\", \"Beginner\", \"Beginner\", \"Mixed\", \"Beginner\", \"Beginner\", \"Mixed\", \"Mixed\", \"Intermediate\", \"Beginner\", \"Intermediate\", \"Intermediate\", \"Beginner\", \"Mixed\", \"Beginner\", \"Mixed\", \"Beginner\", \"Mixed\", \"Mixed\", \"Intermediate\", \"Mixed\", \"Beginner\", \"Intermediate\", \"Intermediate\", \"Beginner\", \"Beginner\", \"Mixed\", \"Beginner\", \"Beginner\", \"Intermediate\", \"Mixed\", \"Beginner\", \"Beginner\", \"Intermediate\", \"Advanced\", \"Beginner\", \"Beginner\", \"Beginner\", \"Beginner\", \"Beginner\", \"Beginner\", \"Beginner\", \"Beginner\", \"Beginner\", \"Beginner\", \"Beginner\", \"Intermediate\", \"Intermediate\", \"Beginner\", \"Beginner\", \"Beginner\", \"Mixed\", \"Beginner\", \"Beginner\", \"Beginner\", \"Intermediate\", \"Mixed\", \"Mixed\", \"Intermediate\", \"Beginner\", \"Intermediate\", \"Intermediate\", \"Intermediate\", \"Mixed\", \"Beginner\", \"Mixed\", \"Mixed\", \"Mixed\", \"Beginner\", \"Beginner\", \"Beginner\", \"Beginner\", \"Beginner\", \"Beginner\", \"Mixed\", \"Intermediate\", \"Mixed\", \"Beginner\", \"Mixed\", \"Beginner\", \"Mixed\", \"Intermediate\", \"Mixed\", \"Intermediate\", \"Beginner\", \"Mixed\", \"Beginner\", \"Beginner\", \"Beginner\", \"Mixed\", \"Beginner\", \"Beginner\", \"Beginner\", \"Mixed\", \"Beginner\", \"Intermediate\", \"Beginner\", \"Beginner\", \"Mixed\", \"Intermediate\", \"Mixed\", \"Mixed\", \"Mixed\", \"Mixed\", \"Mixed\", \"Mixed\", \"Mixed\", \"Mixed\", \"Beginner\", \"Beginner\", \"Mixed\", \"Mixed\", \"Intermediate\", \"Mixed\", \"Beginner\", \"Mixed\", \"Mixed\", \"Beginner\", \"Beginner\", \"Beginner\", \"Beginner\", \"Beginner\", \"Advanced\", \"Mixed\", \"Beginner\", \"Mixed\", \"Mixed\", \"Mixed\", \"Intermediate\", \"Beginner\", \"Intermediate\", \"Beginner\", \"Beginner\", \"Beginner\", \"Beginner\", \"Beginner\", \"Mixed\", \"Beginner\", \"Beginner\", \"Beginner\", \"Beginner\", \"Beginner\", \"Beginner\", \"Mixed\", \"Beginner\", \"Beginner\", \"Intermediate\", \"Intermediate\", \"Beginner\", \"Beginner\", \"Intermediate\", \"Advanced\", \"Intermediate\", \"Beginner\", \"Beginner\", \"Beginner\", \"Beginner\", \"Beginner\", \"Beginner\", \"Mixed\", \"Beginner\", \"Intermediate\", \"Mixed\", \"Mixed\", \"Intermediate\", \"Beginner\", \"Intermediate\", \"Intermediate\", \"Intermediate\", \"Intermediate\", \"Beginner\", \"Beginner\", \"Mixed\", \"Beginner\", \"Beginner\", \"Beginner\", \"Mixed\", \"Beginner\", \"Beginner\", \"Intermediate\", \"Beginner\", \"Intermediate\", \"Beginner\", \"Mixed\", \"Beginner\", \"Beginner\", \"Mixed\", \"Beginner\", \"Beginner\", \"Beginner\", \"Beginner\", \"Intermediate\", \"Beginner\", \"Beginner\", \"Beginner\", \"Mixed\", \"Beginner\", \"Beginner\", \"Mixed\", \"Mixed\", \"Beginner\", \"Intermediate\", \"Intermediate\", \"Mixed\", \"Mixed\", \"Mixed\", \"Intermediate\", \"Beginner\", \"Mixed\", \"Beginner\", \"Mixed\", \"Intermediate\", \"Beginner\", \"Intermediate\", \"Intermediate\", \"Intermediate\", \"Beginner\", \"Beginner\", \"Intermediate\", \"Intermediate\", \"Beginner\", \"Intermediate\", \"Mixed\", \"Beginner\", \"Beginner\", \"Mixed\", \"Advanced\", \"Intermediate\", \"Beginner\", \"Beginner\", \"Beginner\", \"Intermediate\", \"Mixed\", \"Mixed\", \"Intermediate\", \"Beginner\", \"Beginner\", \"Beginner\", \"Mixed\", \"Mixed\", \"Beginner\", \"Beginner\", \"Beginner\", \"Intermediate\", \"Beginner\", \"Intermediate\", \"Beginner\", \"Mixed\", \"Beginner\", \"Beginner\", \"Mixed\", \"Beginner\", \"Intermediate\", \"Beginner\", \"Mixed\", \"Intermediate\", \"Beginner\", \"Beginner\", \"Mixed\", \"Beginner\", \"Beginner\", \"Intermediate\", \"Mixed\", \"Beginner\", \"Intermediate\", \"Beginner\", \"Mixed\", \"Beginner\", \"Beginner\", \"Mixed\", \"Intermediate\", \"Beginner\", \"Beginner\", \"Mixed\", \"Mixed\", \"Beginner\", \"Mixed\", \"Beginner\", \"Beginner\", \"Beginner\", \"Beginner\", \"Beginner\", \"Intermediate\", \"Mixed\", \"Beginner\", \"Beginner\", \"Mixed\", \"Intermediate\", \"Beginner\", \"Intermediate\", \"Advanced\", \"Beginner\", \"Intermediate\", \"Beginner\", \"Beginner\", \"Beginner\", \"Beginner\", \"Beginner\", \"Beginner\", \"Advanced\", \"Beginner\", \"Intermediate\", \"Mixed\", \"Beginner\", \"Beginner\", \"Beginner\", \"Advanced\", \"Beginner\", \"Mixed\", \"Intermediate\", \"Mixed\", \"Beginner\", \"Beginner\", \"Beginner\", \"Beginner\", \"Beginner\", \"Intermediate\", \"Advanced\", \"Beginner\", \"Beginner\", \"Mixed\", \"Beginner\", \"Intermediate\", \"Beginner\", \"Beginner\", \"Mixed\", \"Beginner\", \"Beginner\", \"Intermediate\", \"Beginner\", \"Beginner\", \"Beginner\", \"Mixed\", \"Mixed\", \"Beginner\", \"Beginner\", \"Beginner\", \"Beginner\", \"Intermediate\", \"Mixed\", \"Beginner\", \"Beginner\", \"Mixed\", \"Intermediate\", \"Mixed\", \"Beginner\", \"Intermediate\", \"Intermediate\", \"Beginner\", \"Beginner\", \"Intermediate\", \"Beginner\", \"Beginner\", \"Beginner\", \"Beginner\", \"Beginner\", \"Intermediate\", \"Beginner\", \"Beginner\", \"Mixed\", \"Mixed\", \"Mixed\", \"Mixed\", \"Mixed\", \"Beginner\", \"Beginner\", \"Intermediate\", \"Mixed\", \"Mixed\", \"Beginner\", \"Mixed\", \"Intermediate\", \"Beginner\", \"Beginner\", \"Mixed\", \"Beginner\", \"Mixed\", \"Intermediate\", \"Beginner\", \"Beginner\", \"Beginner\", \"Mixed\", \"Beginner\", \"Beginner\", \"Beginner\", \"Beginner\", \"Mixed\", \"Beginner\", \"Intermediate\", \"Beginner\", \"Mixed\", \"Beginner\", \"Beginner\", \"Beginner\", \"Mixed\", \"Beginner\", \"Beginner\", \"Intermediate\", \"Beginner\", \"Beginner\", \"Intermediate\", \"Beginner\", \"Mixed\", \"Mixed\", \"Beginner\", \"Mixed\", \"Mixed\", \"Beginner\", \"Mixed\", \"Intermediate\", \"Beginner\", \"Beginner\", \"Beginner\", \"Mixed\", \"Mixed\", \"Beginner\", \"Mixed\", \"Beginner\", \"Intermediate\", \"Beginner\", \"Mixed\", \"Beginner\", \"Beginner\", \"Mixed\", \"Intermediate\", \"Beginner\"], \"x0\": \" \", \"xaxis\": \"x\", \"y\": [5300.0, 17000.0, 130000.0, 91000.0, 320000.0, 39000.0, 350000.0, 2400.0, 61000.0, 13000.0, 11000.0, 27000.0, 110000.0, 13000.0, 6600.0, 540000.0, 22000.0, 2900.0, 80000.0, 9900.0, 110000.0, 9200.0, 78000.0, 320000.0, 190000.0, 35000.0, 29000.0, 14000.0, 21000.0, 69000.0, 40000.0, 220000.0, 150000.0, 14000.0, 18000.0, 23000.0, 69000.0, 270000.0, 7900.0, 36000.0, 20000.0, 8100.0, 71000.0, 11000.0, 63000.0, 220000.0, 42000.0, 480000.0, 150000.0, 97000.0, 6600.0, 4200.0, 310000.0, 3900.0, 150000.0, 79000.0, 31000.0, 15000.0, 66000.0, 7300.0, 9200.0, 22000.0, 9700.0, 13000.0, 180000.0, 91000.0, 29000.0, 210000.0, 28000.0, 4200.0, 6500.0, 61000.0, 55000.0, 2300.0, 35000.0, 88000.0, 14000.0, 1900.0, 68000.0, 21000.0, 1600.0, 31000.0, 9500.0, 57000.0, 26000.0, 84000.0, 15000.0, 95000.0, 7300.0, 22000.0, 5800.0, 24000.0, 67000.0, 280000.0, 120000.0, 77000.0, 510000.0, 110000.0, 24000.0, 67000.0, 10000.0, 160000.0, 36000.0, 220000.0, 32000.0, 130000.0, 82000.0, 790000.0, 31000.0, 23000.0, 19000.0, 30000.0, 22000.0, 57000.0, 51000.0, 4800.0, 32000.0, 110000.0, 37000.0, 310000.0, 37000.0, 120000.0, 15000.0, 43000.0, 6400.0, 43000.0, 350000.0, 33000.0, 27000.0, 66000.0, 19000.0, 43000.0, 15000.0, 27000.0, 26000.0, 49000.0, 240000.0, 46000.0, 10000.0, 7800.0, 10000.0, 15000.0, 81000.0, 140000.0, 140000.0, 120000.0, 17000.0, 5500.0, 18000.0, 99000.0, 140000.0, 23000.0, 23000.0, 100000.0, 220000.0, 110000.0, 24000.0, 19000.0, 3000.0, 120000.0, 120000.0, 42000.0, 140000.0, 89000.0, 740000.0, 210000.0, 130000.0, 60000.0, 66000.0, 96000.0, 140000.0, 18000.0, 120000.0, 110000.0, 31000.0, 4500.0, 8200.0, 240000.0, 17000.0, 67000.0, 97000.0, 19000.0, 16000.0, 300000.0, 4000.0, 8000.0, 41000.0, 54000.0, 9000.0, 37000.0, 57000.0, 140000.0, 130000.0, 150000.0, 5600.0, 110000.0, 7100.0, 18000.0, 110000.0, 83000.0, 16000.0, 3400.0, 57000.0, 12000.0, 110000.0, 17000.0, 37000.0, 14000.0, 23000.0, 200000.0, 230000.0, 760000.0, 130000.0, 42000.0, 110000.0, 7900.0, 86000.0, 38000.0, 31000.0, 20000.0, 69000.0, 45000.0, 23000.0, 6400.0, 31000.0, 130000.0, 35000.0, 14000.0, 4100.0, 54000.0, 31000.0, 86000.0, 39000.0, 76000.0, 39000.0, 490000.0, 56000.0, 54000.0, 180000.0, 18000.0, 13000.0, 12000.0, 260000.0, 69000.0, 12000.0, 10000.0, 100000.0, 470000.0, 60000.0, 6500.0, 24000.0, 36000.0, 20000.0, 400000.0, 42000.0, 14000.0, 63000.0, 62000.0, 31000.0, 64000.0, 27000.0, 89000.0, 3200.0, 26000.0, 52000.0, 45000.0, 150000.0, 140000.0, 170000.0, 220000.0, 39000.0, 200000.0, 49000.0, 86000.0, 290000.0, 20000.0, 18000.0, 180000.0, 120000.0, 110000.0, 22000.0, 81000.0, 4900.0, 9400.0, 260000.0, 14000.0, 97000.0, 19000.0, 14000.0, 59000.0, 73000.0, 59000.0, 75000.0, 18000.0, 22000.0, 79000.0, 29000.0, 10000.0, 37000.0, 7600.0, 44000.0, 3800.0, 120000.0, 36000.0, 93000.0, 430000.0, 10000.0, 260000.0, 56000.0, 62000.0, 240000.0, 7400.0, 39000.0, 8100.0, 5400.0, 1700.0, 36000.0, 5500.0, 46000.0, 5500.0, 28000.0, 170000.0, 140000.0, 34000.0, 98000.0, 140000.0, 3500.0, 220000.0, 3300.0, 35000.0, 62000.0, 1700.0, 2200.0, 610000.0, 270000.0, 18000.0, 79000.0, 34000.0, 1600.0, 12000.0, 22000.0, 32000.0, 16000.0, 180000.0, 10000.0, 25000.0, 72000.0, 97000.0, 85000.0, 12000.0, 9700.0, 14000.0, 8700.0, 150000.0, 22000.0, 25000.0, 22000.0, 36000.0, 19000.0, 41000.0, 26000.0, 20000.0, 2200.0, 35000.0, 11000.0, 36000.0, 38000.0, 66000.0, 60000.0, 44000.0, 160000.0, 16000.0, 27000.0, 14000.0, 84000.0, 53000.0, 46000.0, 150000.0, 2600.0, 20000.0, 32000.0, 130000.0, 27000.0, 32000.0, 30000.0, 99000.0, 310000.0, 390000.0, 25000.0, 75000.0, 110000.0, 41000.0, 150000.0, 34000.0, 200000.0, 47000.0, 79000.0, 74000.0, 42000.0, 220000.0, 54000.0, 6000.0, 82000.0, 220000.0, 270000.0, 87000.0, 140000.0, 370000.0, 11000.0, 160000.0, 82000.0, 270000.0, 270000.0, 49000.0, 39000.0, 76000.0, 12000.0, 69000.0, 67000.0, 33000.0, 150000.0, 4100.0, 13000.0, 72000.0, 87000.0, 16000.0, 76000.0, 110000.0, 270000.0, 14000.0, 49000.0, 380000.0, 160000.0, 22000.0, 17000.0, 34000.0, 16000.0, 220000.0, 5900.0, 16000.0, 43000.0, 22000.0, 78000.0, 52000.0, 120000.0, 39000.0, 160000.0, 80000.0, 180000.0, 120000.0, 68000.0, 29000.0, 14000.0, 290000.0, 3200.0, 240000.0, 29000.0, 19000.0, 58000.0, 15000.0, 120000.0, 72000.0, 78000.0, 43000.0, 120000.0, 11000.0, 55000.0, 23000.0, 71000.0, 47000.0, 22000.0, 49000.0, 93000.0, 60000.0, 310000.0, 280000.0, 8400.0, 52000.0, 48000.0, 12000.0, 150000.0, 140000.0, 51000.0, 33000.0, 4800.0, 13000.0, 260000.0, 34000.0, 230000.0, 120000.0, 130000.0, 36000.0, 14000.0, 21000.0, 9100.0, 100000.0, 40000.0, 44000.0, 59000.0, 42000.0, 34000.0, 70000.0, 21000.0, 40000.0, 22000.0, 17000.0, 290000.0, 630000.0, 12000.0, 5300.0, 35000.0, 250000.0, 330000.0, 21000.0, 57000.0, 13000.0, 76000.0, 80000.0, 6200.0, 92000.0, 22000.0, 3200.0, 9100.0, 30000.0, 42000.0, 84000.0, 79000.0, 160000.0, 83000.0, 34000.0, 72000.0, 180000.0, 23000.0, 50000.0, 40000.0, 67000.0, 10000.0, 39000.0, 22000.0, 68000.0, 47000.0, 20000.0, 79000.0, 36000.0, 39000.0, 250000.0, 1300.0, 18000.0, 440000.0, 230000.0, 190000.0, 52000.0, 110000.0, 21000.0, 420000.0, 26000.0, 41000.0, 170000.0, 69000.0, 3000.0, 7700.0, 35000.0, 23000.0, 24000.0, 7200.0, 16000.0, 15000.0, 170000.0, 36000.0, 120000.0, 3200.0, 2600.0, 160000.0, 16000.0, 6800.0, 12000.0, 9100.0, 140000.0, 47000.0, 6400.0, 14000.0, 300000.0, 39000.0, 61000.0, 15000.0, 20000.0, 22000.0, 130000.0, 78000.0, 4200.0, 220000.0, 42000.0, 60000.0, 34000.0, 60000.0, 110000.0, 17000.0, 68000.0, 12000.0, 71000.0, 430000.0, 12000.0, 16000.0, 370000.0, 17000.0, 16000.0, 34000.0, 220000.0, 28000.0, 60000.0, 9500.0, 100000.0, 58000.0, 68000.0, 30000.0, 11000.0, 220000.0, 750000.0, 11000.0, 7900.0, 4900.0, 66000.0, 82000.0, 24000.0, 29000.0, 50000.0, 45000.0, 9400.0, 3900.0, 62000.0, 48000.0, 33000.0, 100000.0, 62000.0, 81000.0, 8500.0, 53000.0, 49000.0, 170000.0, 12000.0, 90000.0, 130000.0, 47000.0, 23000.0, 73000.0, 130000.0, 22000.0, 84000.0, 23000.0, 11000.0, 120000.0, 420000.0, 7200.0, 84000.0, 29000.0, 47000.0, 130000.0, 47000.0, 9400.0, 180000.0, 120000.0, 1700.0, 50000.0, 12000.0, 59000.0, 13000.0, 2500.0, 320000.0, 19000.0, 100000.0, 26000.0, 5200.0, 28000.0, 33000.0, 14000.0, 200000.0, 120000.0, 68000.0, 45000.0, 110000.0, 12000.0, 29000.0, 78000.0, 89000.0, 24000.0, 49000.0, 120000.0, 30000.0, 130000.0, 6100.0, 12000.0, 9500.0, 3900.0, 23000.0, 220000.0, 310000.0, 19000.0, 40000.0, 150000.0, 23000.0, 190000.0, 120000.0, 280000.0, 34000.0, 120000.0, 35000.0, 6200.0, 260000.0, 94000.0, 32000.0, 17000.0, 12000.0, 270000.0, 18000.0, 140000.0, 17000.0, 76000.0, 69000.0], \"y0\": \" \", \"yaxis\": \"y\"}, {\"alignmentgroup\": \"True\", \"hoverlabel\": {\"namelength\": 0}, \"hovertemplate\": \"Language=it<br>course_difficulty=%{x}<br>Enrolled=%{y}\", \"legendgroup\": \"Language=it\", \"marker\": {\"color\": \"#EF553B\"}, \"name\": \"Language=it\", \"notched\": false, \"offsetgroup\": \"Language=it\", \"orientation\": \"v\", \"showlegend\": true, \"type\": \"box\", \"x\": [\"Intermediate\", \"Intermediate\", \"Mixed\", \"Beginner\", \"Mixed\", \"Beginner\", \"Intermediate\", \"Beginner\", \"Intermediate\", \"Intermediate\", \"Beginner\", \"Mixed\", \"Intermediate\", \"Beginner\", \"Beginner\", \"Beginner\", \"Beginner\", \"Beginner\"], \"x0\": \" \", \"xaxis\": \"x\", \"y\": [12000.0, 4000.0, 13000.0, 5800.0, 56000.0, 830000.0, 40000.0, 17000.0, 76000.0, 30000.0, 30000.0, 110000.0, 80000.0, 350000.0, 480000.0, 10000.0, 40000.0, 38000.0], \"y0\": \" \", \"yaxis\": \"y\"}, {\"alignmentgroup\": \"True\", \"hoverlabel\": {\"namelength\": 0}, \"hovertemplate\": \"Language=de<br>course_difficulty=%{x}<br>Enrolled=%{y}\", \"legendgroup\": \"Language=de\", \"marker\": {\"color\": \"#00cc96\"}, \"name\": \"Language=de\", \"notched\": false, \"offsetgroup\": \"Language=de\", \"orientation\": \"v\", \"showlegend\": true, \"type\": \"box\", \"x\": [\"Beginner\", \"Mixed\", \"Mixed\", \"Intermediate\", \"Beginner\", \"Beginner\", \"Beginner\", \"Beginner\", \"Beginner\", \"Beginner\", \"Beginner\", \"Beginner\", \"Beginner\", \"Beginner\", \"Intermediate\", \"Intermediate\"], \"x0\": \" \", \"xaxis\": \"x\", \"y\": [130000.0, 15000.0, 56000.0, 38000.0, 89000.0, 48000.0, 21000.0, 58000.0, 39000.0, 7200.0, 310000.0, 19000.0, 280000.0, 25000.0, 11000.0, 43000.0], \"y0\": \" \", \"yaxis\": \"y\"}, {\"alignmentgroup\": \"True\", \"hoverlabel\": {\"namelength\": 0}, \"hovertemplate\": \"Language=es<br>course_difficulty=%{x}<br>Enrolled=%{y}\", \"legendgroup\": \"Language=es\", \"marker\": {\"color\": \"#ab63fa\"}, \"name\": \"Language=es\", \"notched\": false, \"offsetgroup\": \"Language=es\", \"orientation\": \"v\", \"showlegend\": true, \"type\": \"box\", \"x\": [\"Mixed\", \"Beginner\", \"Beginner\", \"Beginner\", \"Intermediate\", \"Beginner\", \"Beginner\", \"Beginner\", \"Beginner\", \"Intermediate\", \"Beginner\", \"Intermediate\", \"Intermediate\", \"Beginner\", \"Beginner\", \"Beginner\", \"Beginner\", \"Beginner\", \"Beginner\", \"Beginner\", \"Beginner\", \"Beginner\", \"Intermediate\", \"Mixed\", \"Intermediate\", \"Beginner\", \"Beginner\", \"Beginner\", \"Beginner\", \"Mixed\", \"Mixed\", \"Beginner\", \"Mixed\", \"Mixed\", \"Beginner\", \"Beginner\", \"Intermediate\", \"Advanced\", \"Mixed\", \"Beginner\", \"Beginner\", \"Mixed\", \"Intermediate\", \"Beginner\", \"Beginner\", \"Beginner\"], \"x0\": \" \", \"xaxis\": \"x\", \"y\": [23000.0, 11000.0, 180000.0, 10000.0, 33000.0, 8800.0, 340000.0, 51000.0, 75000.0, 43000.0, 150000.0, 26000.0, 22000.0, 55000.0, 44000.0, 4000.0, 21000.0, 1500.0, 1800.0, 27000.0, 13000.0, 28000.0, 12000.0, 310000.0, 4400.0, 25000.0, 150000.0, 110000.0, 47000.0, 34000.0, 47000.0, 43000.0, 62000.0, 51000.0, 140000.0, 100000.0, 23000.0, 170000.0, 95000.0, 100000.0, 8900.0, 280000.0, 14000.0, 110000.0, 8800.0, 25000.0], \"y0\": \" \", \"yaxis\": \"y\"}, {\"alignmentgroup\": \"True\", \"hoverlabel\": {\"namelength\": 0}, \"hovertemplate\": \"Language=nl<br>course_difficulty=%{x}<br>Enrolled=%{y}\", \"legendgroup\": \"Language=nl\", \"marker\": {\"color\": \"#FFA15A\"}, \"name\": \"Language=nl\", \"notched\": false, \"offsetgroup\": \"Language=nl\", \"orientation\": \"v\", \"showlegend\": true, \"type\": \"box\", \"x\": [\"Beginner\", \"Beginner\", \"Intermediate\", \"Mixed\", \"Intermediate\", \"Beginner\", \"Intermediate\", \"Intermediate\"], \"x0\": \" \", \"xaxis\": \"x\", \"y\": [94000.0, 120000.0, 690000.0, 57000.0, 100000.0, 99000.0, 33000.0, 18000.0], \"y0\": \" \", \"yaxis\": \"y\"}, {\"alignmentgroup\": \"True\", \"hoverlabel\": {\"namelength\": 0}, \"hovertemplate\": \"Language=ru<br>course_difficulty=%{x}<br>Enrolled=%{y}\", \"legendgroup\": \"Language=ru\", \"marker\": {\"color\": \"#19d3f3\"}, \"name\": \"Language=ru\", \"notched\": false, \"offsetgroup\": \"Language=ru\", \"orientation\": \"v\", \"showlegend\": true, \"type\": \"box\", \"x\": [\"Beginner\", \"Beginner\", \"Intermediate\", \"Beginner\", \"Beginner\", \"Intermediate\", \"Intermediate\", \"Beginner\", \"Intermediate\", \"Intermediate\", \"Intermediate\", \"Intermediate\", \"Intermediate\", \"Beginner\"], \"x0\": \" \", \"xaxis\": \"x\", \"y\": [12000.0, 14000.0, 68000.0, 16000.0, 67000.0, 77000.0, 19000.0, 83000.0, 41000.0, 45000.0, 52000.0, 30000.0, 9800.0, 38000.0], \"y0\": \" \", \"yaxis\": \"y\"}, {\"alignmentgroup\": \"True\", \"hoverlabel\": {\"namelength\": 0}, \"hovertemplate\": \"Language=tl<br>course_difficulty=%{x}<br>Enrolled=%{y}\", \"legendgroup\": \"Language=tl\", \"marker\": {\"color\": \"#FF6692\"}, \"name\": \"Language=tl\", \"notched\": false, \"offsetgroup\": \"Language=tl\", \"orientation\": \"v\", \"showlegend\": true, \"type\": \"box\", \"x\": [\"Beginner\", \"Intermediate\", \"Beginner\", \"Beginner\", \"Advanced\"], \"x0\": \" \", \"xaxis\": \"x\", \"y\": [30000.0, 140000.0, 140000.0, 27000.0, 16000.0], \"y0\": \" \", \"yaxis\": \"y\"}, {\"alignmentgroup\": \"True\", \"hoverlabel\": {\"namelength\": 0}, \"hovertemplate\": \"Language=af<br>course_difficulty=%{x}<br>Enrolled=%{y}\", \"legendgroup\": \"Language=af\", \"marker\": {\"color\": \"#B6E880\"}, \"name\": \"Language=af\", \"notched\": false, \"offsetgroup\": \"Language=af\", \"orientation\": \"v\", \"showlegend\": true, \"type\": \"box\", \"x\": [\"Mixed\", \"Intermediate\"], \"x0\": \" \", \"xaxis\": \"x\", \"y\": [200000.0, 89000.0], \"y0\": \" \", \"yaxis\": \"y\"}, {\"alignmentgroup\": \"True\", \"hoverlabel\": {\"namelength\": 0}, \"hovertemplate\": \"Language=da<br>course_difficulty=%{x}<br>Enrolled=%{y}\", \"legendgroup\": \"Language=da\", \"marker\": {\"color\": \"#FF97FF\"}, \"name\": \"Language=da\", \"notched\": false, \"offsetgroup\": \"Language=da\", \"orientation\": \"v\", \"showlegend\": true, \"type\": \"box\", \"x\": [\"Beginner\", \"Beginner\", \"Mixed\", \"Intermediate\", \"Intermediate\", \"Beginner\", \"Beginner\"], \"x0\": \" \", \"xaxis\": \"x\", \"y\": [31000.0, 240000.0, 58000.0, 480000.0, 29000.0, 370000.0, 68000.0], \"y0\": \" \", \"yaxis\": \"y\"}, {\"alignmentgroup\": \"True\", \"hoverlabel\": {\"namelength\": 0}, \"hovertemplate\": \"Language=fr<br>course_difficulty=%{x}<br>Enrolled=%{y}\", \"legendgroup\": \"Language=fr\", \"marker\": {\"color\": \"#FECB52\"}, \"name\": \"Language=fr\", \"notched\": false, \"offsetgroup\": \"Language=fr\", \"orientation\": \"v\", \"showlegend\": true, \"type\": \"box\", \"x\": [\"Beginner\", \"Mixed\", \"Beginner\", \"Intermediate\", \"Intermediate\", \"Intermediate\", \"Mixed\", \"Beginner\", \"Beginner\", \"Beginner\", \"Mixed\", \"Beginner\", \"Beginner\", \"Mixed\", \"Beginner\", \"Intermediate\", \"Intermediate\", \"Intermediate\"], \"x0\": \" \", \"xaxis\": \"x\", \"y\": [61000.0, 54000.0, 110000.0, 68000.0, 83000.0, 3600.0, 46000.0, 8000.0, 6300.0, 10000.0, 41000.0, 8800.0, 5200.0, 33000.0, 5600.0, 5400.0, 63000.0, 190000.0], \"y0\": \" \", \"yaxis\": \"y\"}, {\"alignmentgroup\": \"True\", \"hoverlabel\": {\"namelength\": 0}, \"hovertemplate\": \"Language=pt<br>course_difficulty=%{x}<br>Enrolled=%{y}\", \"legendgroup\": \"Language=pt\", \"marker\": {\"color\": \"#636efa\"}, \"name\": \"Language=pt\", \"notched\": false, \"offsetgroup\": \"Language=pt\", \"orientation\": \"v\", \"showlegend\": true, \"type\": \"box\", \"x\": [\"Beginner\", \"Beginner\", \"Beginner\", \"Beginner\", \"Beginner\", \"Intermediate\"], \"x0\": \" \", \"xaxis\": \"x\", \"y\": [220000.0, 56000.0, 4500.0, 120000.0, 12000.0, 17000.0], \"y0\": \" \", \"yaxis\": \"y\"}, {\"alignmentgroup\": \"True\", \"hoverlabel\": {\"namelength\": 0}, \"hovertemplate\": \"Language=no<br>course_difficulty=%{x}<br>Enrolled=%{y}\", \"legendgroup\": \"Language=no\", \"marker\": {\"color\": \"#EF553B\"}, \"name\": \"Language=no\", \"notched\": false, \"offsetgroup\": \"Language=no\", \"orientation\": \"v\", \"showlegend\": true, \"type\": \"box\", \"x\": [\"Beginner\", \"Mixed\", \"Beginner\", \"Intermediate\", \"Beginner\", \"Beginner\"], \"x0\": \" \", \"xaxis\": \"x\", \"y\": [150000.0, 210000.0, 4400.0, 37000.0, 57000.0, 7000.0], \"y0\": \" \", \"yaxis\": \"y\"}, {\"alignmentgroup\": \"True\", \"hoverlabel\": {\"namelength\": 0}, \"hovertemplate\": \"Language=id<br>course_difficulty=%{x}<br>Enrolled=%{y}\", \"legendgroup\": \"Language=id\", \"marker\": {\"color\": \"#00cc96\"}, \"name\": \"Language=id\", \"notched\": false, \"offsetgroup\": \"Language=id\", \"orientation\": \"v\", \"showlegend\": true, \"type\": \"box\", \"x\": [\"Beginner\", \"Intermediate\", \"Beginner\", \"Beginner\"], \"x0\": \" \", \"xaxis\": \"x\", \"y\": [380000.0, 7200.0, 81000.0, 39000.0], \"y0\": \" \", \"yaxis\": \"y\"}, {\"alignmentgroup\": \"True\", \"hoverlabel\": {\"namelength\": 0}, \"hovertemplate\": \"Language=lt<br>course_difficulty=%{x}<br>Enrolled=%{y}\", \"legendgroup\": \"Language=lt\", \"marker\": {\"color\": \"#ab63fa\"}, \"name\": \"Language=lt\", \"notched\": false, \"offsetgroup\": \"Language=lt\", \"orientation\": \"v\", \"showlegend\": true, \"type\": \"box\", \"x\": [\"Beginner\"], \"x0\": \" \", \"xaxis\": \"x\", \"y\": [35000.0], \"y0\": \" \", \"yaxis\": \"y\"}, {\"alignmentgroup\": \"True\", \"hoverlabel\": {\"namelength\": 0}, \"hovertemplate\": \"Language=hu<br>course_difficulty=%{x}<br>Enrolled=%{y}\", \"legendgroup\": \"Language=hu\", \"marker\": {\"color\": \"#FFA15A\"}, \"name\": \"Language=hu\", \"notched\": false, \"offsetgroup\": \"Language=hu\", \"orientation\": \"v\", \"showlegend\": true, \"type\": \"box\", \"x\": [\"Beginner\"], \"x0\": \" \", \"xaxis\": \"x\", \"y\": [46000.0], \"y0\": \" \", \"yaxis\": \"y\"}, {\"alignmentgroup\": \"True\", \"hoverlabel\": {\"namelength\": 0}, \"hovertemplate\": \"Language=ro<br>course_difficulty=%{x}<br>Enrolled=%{y}\", \"legendgroup\": \"Language=ro\", \"marker\": {\"color\": \"#19d3f3\"}, \"name\": \"Language=ro\", \"notched\": false, \"offsetgroup\": \"Language=ro\", \"orientation\": \"v\", \"showlegend\": true, \"type\": \"box\", \"x\": [\"Beginner\", \"Beginner\", \"Beginner\", \"Beginner\", \"Beginner\", \"Beginner\", \"Beginner\"], \"x0\": \" \", \"xaxis\": \"x\", \"y\": [2400.0, 170000.0, 10000.0, 6500.0, 70000.0, 30000.0, 37000.0], \"y0\": \" \", \"yaxis\": \"y\"}, {\"alignmentgroup\": \"True\", \"hoverlabel\": {\"namelength\": 0}, \"hovertemplate\": \"Language=ca<br>course_difficulty=%{x}<br>Enrolled=%{y}\", \"legendgroup\": \"Language=ca\", \"marker\": {\"color\": \"#FF6692\"}, \"name\": \"Language=ca\", \"notched\": false, \"offsetgroup\": \"Language=ca\", \"orientation\": \"v\", \"showlegend\": true, \"type\": \"box\", \"x\": [\"Beginner\", \"Beginner\", \"Beginner\", \"Intermediate\", \"Beginner\", \"Beginner\", \"Advanced\", \"Beginner\", \"Intermediate\"], \"x0\": \" \", \"xaxis\": \"x\", \"y\": [11000.0, 200000.0, 65000.0, 22000.0, 23000.0, 73000.0, 68000.0, 13000.0, 9200.0], \"y0\": \" \", \"yaxis\": \"y\"}, {\"alignmentgroup\": \"True\", \"hoverlabel\": {\"namelength\": 0}, \"hovertemplate\": \"Language=pl<br>course_difficulty=%{x}<br>Enrolled=%{y}\", \"legendgroup\": \"Language=pl\", \"marker\": {\"color\": \"#B6E880\"}, \"name\": \"Language=pl\", \"notched\": false, \"offsetgroup\": \"Language=pl\", \"orientation\": \"v\", \"showlegend\": true, \"type\": \"box\", \"x\": [\"Beginner\", \"Beginner\"], \"x0\": \" \", \"xaxis\": \"x\", \"y\": [9700.0, 190000.0], \"y0\": \" \", \"yaxis\": \"y\"}, {\"alignmentgroup\": \"True\", \"hoverlabel\": {\"namelength\": 0}, \"hovertemplate\": \"Language=cy<br>course_difficulty=%{x}<br>Enrolled=%{y}\", \"legendgroup\": \"Language=cy\", \"marker\": {\"color\": \"#FF97FF\"}, \"name\": \"Language=cy\", \"notched\": false, \"offsetgroup\": \"Language=cy\", \"orientation\": \"v\", \"showlegend\": true, \"type\": \"box\", \"x\": [\"Beginner\"], \"x0\": \" \", \"xaxis\": \"x\", \"y\": [1500.0], \"y0\": \" \", \"yaxis\": \"y\"}, {\"alignmentgroup\": \"True\", \"hoverlabel\": {\"namelength\": 0}, \"hovertemplate\": \"Language=hr<br>course_difficulty=%{x}<br>Enrolled=%{y}\", \"legendgroup\": \"Language=hr\", \"marker\": {\"color\": \"#FECB52\"}, \"name\": \"Language=hr\", \"notched\": false, \"offsetgroup\": \"Language=hr\", \"orientation\": \"v\", \"showlegend\": true, \"type\": \"box\", \"x\": [\"Beginner\"], \"x0\": \" \", \"xaxis\": \"x\", \"y\": [44000.0], \"y0\": \" \", \"yaxis\": \"y\"}, {\"alignmentgroup\": \"True\", \"hoverlabel\": {\"namelength\": 0}, \"hovertemplate\": \"Language=bg<br>course_difficulty=%{x}<br>Enrolled=%{y}\", \"legendgroup\": \"Language=bg\", \"marker\": {\"color\": \"#636efa\"}, \"name\": \"Language=bg\", \"notched\": false, \"offsetgroup\": \"Language=bg\", \"orientation\": \"v\", \"showlegend\": true, \"type\": \"box\", \"x\": [\"Mixed\"], \"x0\": \" \", \"xaxis\": \"x\", \"y\": [21000.0], \"y0\": \" \", \"yaxis\": \"y\"}],\n",
              "                        {\"boxmode\": \"group\", \"legend\": {\"tracegroupgap\": 0}, \"margin\": {\"t\": 60}, \"template\": {\"data\": {\"bar\": [{\"error_x\": {\"color\": \"#2a3f5f\"}, \"error_y\": {\"color\": \"#2a3f5f\"}, \"marker\": {\"line\": {\"color\": \"#E5ECF6\", \"width\": 0.5}}, \"type\": \"bar\"}], \"barpolar\": [{\"marker\": {\"line\": {\"color\": \"#E5ECF6\", \"width\": 0.5}}, \"type\": \"barpolar\"}], \"carpet\": [{\"aaxis\": {\"endlinecolor\": \"#2a3f5f\", \"gridcolor\": \"white\", \"linecolor\": \"white\", \"minorgridcolor\": \"white\", \"startlinecolor\": \"#2a3f5f\"}, \"baxis\": {\"endlinecolor\": \"#2a3f5f\", \"gridcolor\": \"white\", \"linecolor\": \"white\", \"minorgridcolor\": \"white\", \"startlinecolor\": \"#2a3f5f\"}, \"type\": \"carpet\"}], \"choropleth\": [{\"colorbar\": {\"outlinewidth\": 0, \"ticks\": \"\"}, \"type\": \"choropleth\"}], \"contour\": [{\"colorbar\": {\"outlinewidth\": 0, \"ticks\": \"\"}, \"colorscale\": [[0.0, \"#0d0887\"], [0.1111111111111111, \"#46039f\"], [0.2222222222222222, \"#7201a8\"], [0.3333333333333333, \"#9c179e\"], [0.4444444444444444, \"#bd3786\"], [0.5555555555555556, \"#d8576b\"], [0.6666666666666666, \"#ed7953\"], [0.7777777777777778, \"#fb9f3a\"], [0.8888888888888888, \"#fdca26\"], [1.0, \"#f0f921\"]], \"type\": \"contour\"}], \"contourcarpet\": [{\"colorbar\": {\"outlinewidth\": 0, \"ticks\": \"\"}, \"type\": \"contourcarpet\"}], \"heatmap\": [{\"colorbar\": {\"outlinewidth\": 0, \"ticks\": \"\"}, \"colorscale\": [[0.0, \"#0d0887\"], [0.1111111111111111, \"#46039f\"], [0.2222222222222222, \"#7201a8\"], [0.3333333333333333, \"#9c179e\"], [0.4444444444444444, \"#bd3786\"], [0.5555555555555556, \"#d8576b\"], [0.6666666666666666, \"#ed7953\"], [0.7777777777777778, \"#fb9f3a\"], [0.8888888888888888, \"#fdca26\"], [1.0, \"#f0f921\"]], \"type\": \"heatmap\"}], \"heatmapgl\": [{\"colorbar\": {\"outlinewidth\": 0, \"ticks\": \"\"}, \"colorscale\": [[0.0, \"#0d0887\"], [0.1111111111111111, \"#46039f\"], [0.2222222222222222, \"#7201a8\"], [0.3333333333333333, \"#9c179e\"], [0.4444444444444444, \"#bd3786\"], [0.5555555555555556, \"#d8576b\"], [0.6666666666666666, \"#ed7953\"], [0.7777777777777778, \"#fb9f3a\"], [0.8888888888888888, \"#fdca26\"], [1.0, \"#f0f921\"]], \"type\": \"heatmapgl\"}], \"histogram\": [{\"marker\": {\"colorbar\": {\"outlinewidth\": 0, \"ticks\": \"\"}}, \"type\": \"histogram\"}], \"histogram2d\": [{\"colorbar\": {\"outlinewidth\": 0, \"ticks\": \"\"}, \"colorscale\": [[0.0, \"#0d0887\"], [0.1111111111111111, \"#46039f\"], [0.2222222222222222, \"#7201a8\"], [0.3333333333333333, \"#9c179e\"], [0.4444444444444444, \"#bd3786\"], [0.5555555555555556, \"#d8576b\"], [0.6666666666666666, \"#ed7953\"], [0.7777777777777778, \"#fb9f3a\"], [0.8888888888888888, \"#fdca26\"], [1.0, \"#f0f921\"]], \"type\": \"histogram2d\"}], \"histogram2dcontour\": [{\"colorbar\": {\"outlinewidth\": 0, \"ticks\": \"\"}, \"colorscale\": [[0.0, \"#0d0887\"], [0.1111111111111111, \"#46039f\"], [0.2222222222222222, \"#7201a8\"], [0.3333333333333333, \"#9c179e\"], [0.4444444444444444, \"#bd3786\"], [0.5555555555555556, \"#d8576b\"], [0.6666666666666666, \"#ed7953\"], [0.7777777777777778, \"#fb9f3a\"], [0.8888888888888888, \"#fdca26\"], [1.0, \"#f0f921\"]], \"type\": \"histogram2dcontour\"}], \"mesh3d\": [{\"colorbar\": {\"outlinewidth\": 0, \"ticks\": \"\"}, \"type\": \"mesh3d\"}], \"parcoords\": [{\"line\": {\"colorbar\": {\"outlinewidth\": 0, \"ticks\": \"\"}}, \"type\": \"parcoords\"}], \"pie\": [{\"automargin\": true, \"type\": \"pie\"}], \"scatter\": [{\"marker\": {\"colorbar\": {\"outlinewidth\": 0, \"ticks\": \"\"}}, \"type\": \"scatter\"}], \"scatter3d\": [{\"line\": {\"colorbar\": {\"outlinewidth\": 0, \"ticks\": \"\"}}, \"marker\": {\"colorbar\": {\"outlinewidth\": 0, \"ticks\": \"\"}}, \"type\": \"scatter3d\"}], \"scattercarpet\": [{\"marker\": {\"colorbar\": {\"outlinewidth\": 0, \"ticks\": \"\"}}, \"type\": \"scattercarpet\"}], \"scattergeo\": [{\"marker\": {\"colorbar\": {\"outlinewidth\": 0, \"ticks\": \"\"}}, \"type\": \"scattergeo\"}], \"scattergl\": [{\"marker\": {\"colorbar\": {\"outlinewidth\": 0, \"ticks\": \"\"}}, \"type\": \"scattergl\"}], \"scattermapbox\": [{\"marker\": {\"colorbar\": {\"outlinewidth\": 0, \"ticks\": \"\"}}, \"type\": \"scattermapbox\"}], \"scatterpolar\": [{\"marker\": {\"colorbar\": {\"outlinewidth\": 0, \"ticks\": \"\"}}, \"type\": \"scatterpolar\"}], \"scatterpolargl\": [{\"marker\": {\"colorbar\": {\"outlinewidth\": 0, \"ticks\": \"\"}}, \"type\": \"scatterpolargl\"}], \"scatterternary\": [{\"marker\": {\"colorbar\": {\"outlinewidth\": 0, \"ticks\": \"\"}}, \"type\": \"scatterternary\"}], \"surface\": [{\"colorbar\": {\"outlinewidth\": 0, \"ticks\": \"\"}, \"colorscale\": [[0.0, \"#0d0887\"], [0.1111111111111111, \"#46039f\"], [0.2222222222222222, \"#7201a8\"], [0.3333333333333333, \"#9c179e\"], [0.4444444444444444, \"#bd3786\"], [0.5555555555555556, \"#d8576b\"], [0.6666666666666666, \"#ed7953\"], [0.7777777777777778, \"#fb9f3a\"], [0.8888888888888888, \"#fdca26\"], [1.0, \"#f0f921\"]], \"type\": \"surface\"}], \"table\": [{\"cells\": {\"fill\": {\"color\": \"#EBF0F8\"}, \"line\": {\"color\": \"white\"}}, \"header\": {\"fill\": {\"color\": \"#C8D4E3\"}, \"line\": {\"color\": \"white\"}}, \"type\": \"table\"}]}, \"layout\": {\"annotationdefaults\": {\"arrowcolor\": \"#2a3f5f\", \"arrowhead\": 0, \"arrowwidth\": 1}, \"coloraxis\": {\"colorbar\": {\"outlinewidth\": 0, \"ticks\": \"\"}}, \"colorscale\": {\"diverging\": [[0, \"#8e0152\"], [0.1, \"#c51b7d\"], [0.2, \"#de77ae\"], [0.3, \"#f1b6da\"], [0.4, \"#fde0ef\"], [0.5, \"#f7f7f7\"], [0.6, \"#e6f5d0\"], [0.7, \"#b8e186\"], [0.8, \"#7fbc41\"], [0.9, \"#4d9221\"], [1, \"#276419\"]], \"sequential\": [[0.0, \"#0d0887\"], [0.1111111111111111, \"#46039f\"], [0.2222222222222222, \"#7201a8\"], [0.3333333333333333, \"#9c179e\"], [0.4444444444444444, \"#bd3786\"], [0.5555555555555556, \"#d8576b\"], [0.6666666666666666, \"#ed7953\"], [0.7777777777777778, \"#fb9f3a\"], [0.8888888888888888, \"#fdca26\"], [1.0, \"#f0f921\"]], \"sequentialminus\": [[0.0, \"#0d0887\"], [0.1111111111111111, \"#46039f\"], [0.2222222222222222, \"#7201a8\"], [0.3333333333333333, \"#9c179e\"], [0.4444444444444444, \"#bd3786\"], [0.5555555555555556, \"#d8576b\"], [0.6666666666666666, \"#ed7953\"], [0.7777777777777778, \"#fb9f3a\"], [0.8888888888888888, \"#fdca26\"], [1.0, \"#f0f921\"]]}, \"colorway\": [\"#636efa\", \"#EF553B\", \"#00cc96\", \"#ab63fa\", \"#FFA15A\", \"#19d3f3\", \"#FF6692\", \"#B6E880\", \"#FF97FF\", \"#FECB52\"], \"font\": {\"color\": \"#2a3f5f\"}, \"geo\": {\"bgcolor\": \"white\", \"lakecolor\": \"white\", \"landcolor\": \"#E5ECF6\", \"showlakes\": true, \"showland\": true, \"subunitcolor\": \"white\"}, \"hoverlabel\": {\"align\": \"left\"}, \"hovermode\": \"closest\", \"mapbox\": {\"style\": \"light\"}, \"paper_bgcolor\": \"white\", \"plot_bgcolor\": \"#E5ECF6\", \"polar\": {\"angularaxis\": {\"gridcolor\": \"white\", \"linecolor\": \"white\", \"ticks\": \"\"}, \"bgcolor\": \"#E5ECF6\", \"radialaxis\": {\"gridcolor\": \"white\", \"linecolor\": \"white\", \"ticks\": \"\"}}, \"scene\": {\"xaxis\": {\"backgroundcolor\": \"#E5ECF6\", \"gridcolor\": \"white\", \"gridwidth\": 2, \"linecolor\": \"white\", \"showbackground\": true, \"ticks\": \"\", \"zerolinecolor\": \"white\"}, \"yaxis\": {\"backgroundcolor\": \"#E5ECF6\", \"gridcolor\": \"white\", \"gridwidth\": 2, \"linecolor\": \"white\", \"showbackground\": true, \"ticks\": \"\", \"zerolinecolor\": \"white\"}, \"zaxis\": {\"backgroundcolor\": \"#E5ECF6\", \"gridcolor\": \"white\", \"gridwidth\": 2, \"linecolor\": \"white\", \"showbackground\": true, \"ticks\": \"\", \"zerolinecolor\": \"white\"}}, \"shapedefaults\": {\"line\": {\"color\": \"#2a3f5f\"}}, \"ternary\": {\"aaxis\": {\"gridcolor\": \"white\", \"linecolor\": \"white\", \"ticks\": \"\"}, \"baxis\": {\"gridcolor\": \"white\", \"linecolor\": \"white\", \"ticks\": \"\"}, \"bgcolor\": \"#E5ECF6\", \"caxis\": {\"gridcolor\": \"white\", \"linecolor\": \"white\", \"ticks\": \"\"}}, \"title\": {\"x\": 0.05}, \"xaxis\": {\"automargin\": true, \"gridcolor\": \"white\", \"linecolor\": \"white\", \"ticks\": \"\", \"title\": {\"standoff\": 15}, \"zerolinecolor\": \"white\", \"zerolinewidth\": 2}, \"yaxis\": {\"automargin\": true, \"gridcolor\": \"white\", \"linecolor\": \"white\", \"ticks\": \"\", \"title\": {\"standoff\": 15}, \"zerolinecolor\": \"white\", \"zerolinewidth\": 2}}}, \"xaxis\": {\"anchor\": \"y\", \"domain\": [0.0, 1.0], \"title\": {\"text\": \"course_difficulty\"}}, \"yaxis\": {\"anchor\": \"x\", \"domain\": [0.0, 1.0], \"title\": {\"text\": \"Enrolled\"}}},\n",
              "                        {\"responsive\": true}\n",
              "                    ).then(function(){\n",
              "                            \n",
              "var gd = document.getElementById('9fc58584-60b7-4c89-9f82-131612365670');\n",
              "var x = new MutationObserver(function (mutations, observer) {{\n",
              "        var display = window.getComputedStyle(gd).display;\n",
              "        if (!display || display === 'none') {{\n",
              "            console.log([gd, 'removed!']);\n",
              "            Plotly.purge(gd);\n",
              "            observer.disconnect();\n",
              "        }}\n",
              "}});\n",
              "\n",
              "// Listen for the removal of the full notebook cells\n",
              "var notebookContainer = gd.closest('#notebook-container');\n",
              "if (notebookContainer) {{\n",
              "    x.observe(notebookContainer, {childList: true});\n",
              "}}\n",
              "\n",
              "// Listen for the clearing of the current output cell\n",
              "var outputEl = gd.closest('.output');\n",
              "if (outputEl) {{\n",
              "    x.observe(outputEl, {childList: true});\n",
              "}}\n",
              "\n",
              "                        })\n",
              "                };\n",
              "                \n",
              "            </script>\n",
              "        </div>\n",
              "</body>\n",
              "</html>"
            ]
          },
          "metadata": {
            "tags": []
          }
        }
      ]
    },
    {
      "cell_type": "markdown",
      "metadata": {
        "id": "PRMhPF9-WFEo",
        "colab_type": "text"
      },
      "source": [
        "Key observations from the above box plot:\n",
        "\n",
        "*   Only few courses are advanced and most of the courses are in English language\n",
        "*   English Courses have various **outliers** in every category of the course suggesting there are popular courses across different levels\n",
        "*  In intermediate levels, Dutch(de) has very high no. of enrollments.\n",
        "\n",
        "\n",
        "\n"
      ]
    },
    {
      "cell_type": "markdown",
      "metadata": {
        "id": "fG4vOSL3Y1Zy",
        "colab_type": "text"
      },
      "source": [
        "**Exploring Course_title using NLTK and Word Cloud**"
      ]
    },
    {
      "cell_type": "code",
      "metadata": {
        "id": "mHZoLyATerQN",
        "colab_type": "code",
        "colab": {
          "base_uri": "https://localhost:8080/",
          "height": 68
        },
        "outputId": "d10e291f-45ee-49b5-96eb-ae45b1388d5f"
      },
      "source": [
        "import nltk\n",
        "nltk.download('stopwords')\n",
        " "
      ],
      "execution_count": 24,
      "outputs": [
        {
          "output_type": "stream",
          "text": [
            "[nltk_data] Downloading package stopwords to /root/nltk_data...\n",
            "[nltk_data]   Unzipping corpora/stopwords.zip.\n"
          ],
          "name": "stdout"
        },
        {
          "output_type": "execute_result",
          "data": {
            "text/plain": [
              "True"
            ]
          },
          "metadata": {
            "tags": []
          },
          "execution_count": 24
        }
      ]
    },
    {
      "cell_type": "code",
      "metadata": {
        "id": "4du5fe_f6jLc",
        "colab_type": "code",
        "colab": {}
      },
      "source": [
        "from nltk.corpus import stopwords\n",
        "stop_words = stopwords.words('english')\n",
        "from wordcloud import WordCloud\n",
        "df['course_title_new'] = df['course_title'].map(lambda x: x.split())\n",
        "df['course_title_new']=df['course_title_new'].apply(lambda x: [item for item in x if item not in stop_words])\n",
        "df['course_title_new']=df['course_title_new'].astype(str)"
      ],
      "execution_count": 25,
      "outputs": []
    },
    {
      "cell_type": "code",
      "metadata": {
        "id": "vQJ4m6I_egzB",
        "colab_type": "code",
        "colab": {}
      },
      "source": [
        "counting_title = ','.join(list(df['course_title_new'].values))"
      ],
      "execution_count": 26,
      "outputs": []
    },
    {
      "cell_type": "code",
      "metadata": {
        "id": "jmxCNzuhe3jn",
        "colab_type": "code",
        "colab": {
          "base_uri": "https://localhost:8080/",
          "height": 217
        },
        "outputId": "37672caa-f9b3-43b8-b573-29ef284a26cc"
      },
      "source": [
        "wordcloud = WordCloud(background_color=\"white\", max_words=200, contour_width=3, contour_color='steelblue')\n",
        "wordcloud.generate(counting_title)\n",
        "wordcloud.to_image()"
      ],
      "execution_count": 27,
      "outputs": [
        {
          "output_type": "execute_result",
          "data": {
            "image/png": "[encoded data removed]",
            "text/plain": [
              "<PIL.Image.Image image mode=RGB size=400x200 at 0x7F93669DDF60>"
            ]
          },
          "metadata": {
            "tags": []
          },
          "execution_count": 27
        }
      ]
    },
    {
      "cell_type": "code",
      "metadata": {
        "id": "WMVL0dsqfJmY",
        "colab_type": "code",
        "colab": {
          "base_uri": "https://localhost:8080/",
          "height": 677
        },
        "outputId": "04e247be-d93c-449c-8b06-770daa422647"
      },
      "source": [
        "ab = df['course_Certificate_type'].value_counts().plot(kind='bar', figsize=(10,8),\n",
        "                                        color=\"#8711E4\", fontsize=13);\n",
        "ab.set_alpha(0.8)\n",
        "ab.set_title(\"course_Certificate_type\", fontsize=18)\n",
        "ab.set_ylabel(\"Count\", fontsize=18);\n",
        "\n",
        "\n",
        "# create a list to collect the plt.patches data\n",
        "totals = []\n",
        "\n",
        "# find the values and append to list\n",
        "for i in ab.patches:\n",
        "    totals.append(i.get_height())\n",
        "\n",
        "# set individual bar lables using above list\n",
        "total = sum(totals)\n",
        "\n",
        "# set individual bar lables using above list\n",
        "for i in ab.patches:\n",
        "    # get_x pulls left or right; get_height pushes up or down\n",
        "    ab.text(i.get_x(), i.get_height()+.5, \\\n",
        "            str(round((i.get_height()/total)*100, 2))+'%', fontsize=15,\n",
        "                color='#13010E')\n"
      ],
      "execution_count": 28,
      "outputs": [
        {
          "output_type": "display_data",
          "data": {
            "image/png": "[encoded data removed]",
            "text/plain": [
              "<Figure size 720x576 with 1 Axes>"
            ]
          },
          "metadata": {
            "tags": [],
            "needs_background": "light"
          }
        }
      ]
    },
    {
      "cell_type": "markdown",
      "metadata": {
        "id": "QjOsFFexkTUW",
        "colab_type": "text"
      },
      "source": [
        "**Exploring the courses on Machine Learning, Artificial Intelligence and Data Science using Regular Expression Library**"
      ]
    },
    {
      "cell_type": "markdown",
      "metadata": {
        "id": "n29kb6OlKxaW",
        "colab_type": "text"
      },
      "source": [
        "*Here we are searching the titles which provide the courses based on the above keywords and then we will see the names of the institutes*"
      ]
    },
    {
      "cell_type": "code",
      "metadata": {
        "id": "siFkR8WhitK1",
        "colab_type": "code",
        "colab": {}
      },
      "source": [
        "import re\n",
        "patterns=['AI','Artificial Intelligence','Machine Learning','Data Science','Analytics','Neural Networks','Random Forest','Natural Language Processing','NLP',\n",
        "          'Deep Learning','Reinforcement Learning','Pattern Recognition','Feature Engineering','Kaggle','Data Visualization']\n",
        "pattern_final = '|'.join(patterns)\n",
        "def Clean_names(x):\n",
        "    if re.search(pattern_final, x):\n",
        "        return 1\n",
        "    else: \n",
        "        return 0\n",
        "df['ML_yes'] = df['course_title'].apply(Clean_names)"
      ],
      "execution_count": 29,
      "outputs": []
    },
    {
      "cell_type": "code",
      "metadata": {
        "id": "LCd_D8IAAVeS",
        "colab_type": "code",
        "colab": {
          "base_uri": "https://localhost:8080/",
          "height": 34
        },
        "outputId": "940fa25b-69b8-4b61-905e-1c5629da62e0"
      },
      "source": [
        "df['ML_yes'].sum()"
      ],
      "execution_count": 30,
      "outputs": [
        {
          "output_type": "execute_result",
          "data": {
            "text/plain": [
              "84"
            ]
          },
          "metadata": {
            "tags": []
          },
          "execution_count": 30
        }
      ]
    },
    {
      "cell_type": "code",
      "metadata": {
        "id": "stsb2jbFAaYl",
        "colab_type": "code",
        "colab": {
          "base_uri": "https://localhost:8080/",
          "height": 419
        },
        "outputId": "8aa9eb5a-2217-4147-8bc1-3c5079a7dc1b"
      },
      "source": [
        "university_ml=df.groupby(['course_organization'],as_index=False).ML_yes.sum()\n",
        "university_ml.sort_values(by='ML_yes',ascending=False)"
      ],
      "execution_count": 31,
      "outputs": [
        {
          "output_type": "execute_result",
          "data": {
            "text/html": [
              "<div>\n",
              "<style scoped>\n",
              "    .dataframe tbody tr th:only-of-type {\n",
              "        vertical-align: middle;\n",
              "    }\n",
              "\n",
              "    .dataframe tbody tr th {\n",
              "        vertical-align: top;\n",
              "    }\n",
              "\n",
              "    .dataframe thead th {\n",
              "        text-align: right;\n",
              "    }\n",
              "</style>\n",
              "<table border=\"1\" class=\"dataframe\">\n",
              "  <thead>\n",
              "    <tr style=\"text-align: right;\">\n",
              "      <th></th>\n",
              "      <th>course_organization</th>\n",
              "      <th>ML_yes</th>\n",
              "    </tr>\n",
              "  </thead>\n",
              "  <tbody>\n",
              "    <tr>\n",
              "      <th>38</th>\n",
              "      <td>IBM</td>\n",
              "      <td>17</td>\n",
              "    </tr>\n",
              "    <tr>\n",
              "      <th>150</th>\n",
              "      <td>deeplearning.ai</td>\n",
              "      <td>13</td>\n",
              "    </tr>\n",
              "    <tr>\n",
              "      <th>34</th>\n",
              "      <td>Google Cloud</td>\n",
              "      <td>7</td>\n",
              "    </tr>\n",
              "    <tr>\n",
              "      <th>48</th>\n",
              "      <td>Johns Hopkins University</td>\n",
              "      <td>6</td>\n",
              "    </tr>\n",
              "    <tr>\n",
              "      <th>44</th>\n",
              "      <td>Imperial College London</td>\n",
              "      <td>4</td>\n",
              "    </tr>\n",
              "    <tr>\n",
              "      <th>...</th>\n",
              "      <td>...</td>\n",
              "      <td>...</td>\n",
              "    </tr>\n",
              "    <tr>\n",
              "      <th>47</th>\n",
              "      <td>JetBrains</td>\n",
              "      <td>0</td>\n",
              "    </tr>\n",
              "    <tr>\n",
              "      <th>46</th>\n",
              "      <td>Institute for the Future</td>\n",
              "      <td>0</td>\n",
              "    </tr>\n",
              "    <tr>\n",
              "      <th>45</th>\n",
              "      <td>Indian School of Business</td>\n",
              "      <td>0</td>\n",
              "    </tr>\n",
              "    <tr>\n",
              "      <th>43</th>\n",
              "      <td>Icahn School of Medicine at Mount Sinai</td>\n",
              "      <td>0</td>\n",
              "    </tr>\n",
              "    <tr>\n",
              "      <th>153</th>\n",
              "      <td>École des Ponts ParisTech</td>\n",
              "      <td>0</td>\n",
              "    </tr>\n",
              "  </tbody>\n",
              "</table>\n",
              "<p>154 rows × 2 columns</p>\n",
              "</div>"
            ],
            "text/plain": [
              "                         course_organization  ML_yes\n",
              "38                                       IBM      17\n",
              "150                          deeplearning.ai      13\n",
              "34                              Google Cloud       7\n",
              "48                  Johns Hopkins University       6\n",
              "44                   Imperial College London       4\n",
              "..                                       ...     ...\n",
              "47                                 JetBrains       0\n",
              "46                  Institute for the Future       0\n",
              "45                 Indian School of Business       0\n",
              "43   Icahn School of Medicine at Mount Sinai       0\n",
              "153                École des Ponts ParisTech       0\n",
              "\n",
              "[154 rows x 2 columns]"
            ]
          },
          "metadata": {
            "tags": []
          },
          "execution_count": 31
        }
      ]
    },
    {
      "cell_type": "code",
      "metadata": {
        "id": "4ut6HUUUhljo",
        "colab_type": "code",
        "colab": {
          "base_uri": "https://localhost:8080/",
          "height": 542
        },
        "outputId": "7e9bcefe-2014-4f76-c24e-b7c8fd45a026"
      },
      "source": [
        "fig = px.strip(df, x=\"Enrolled\", y=\"ML_yes\", orientation=\"h\", color=\"course_difficulty\")\n",
        "fig.show()"
      ],
      "execution_count": 32,
      "outputs": [
        {
          "output_type": "display_data",
          "data": {
            "text/html": [
              "<html>\n",
              "<head><meta charset=\"utf-8\" /></head>\n",
              "<body>\n",
              "    <div>\n",
              "            <script src=\"https://cdnjs.cloudflare.com/ajax/libs/mathjax/2.7.5/MathJax.js?config=TeX-AMS-MML_SVG\"></script><script type=\"text/javascript\">if (window.MathJax) {MathJax.Hub.Config({SVG: {font: \"STIX-Web\"}});}</script>\n",
              "                <script type=\"text/javascript\">window.PlotlyConfig = {MathJaxConfig: 'local'};</script>\n",
              "        <script src=\"https://cdn.plot.ly/plotly-latest.min.js\"></script>    \n",
              "            <div id=\"71623d9c-25a1-44e7-a44f-f343a749294b\" class=\"plotly-graph-div\" style=\"height:525px; width:100%;\"></div>\n",
              "            <script type=\"text/javascript\">\n",
              "                \n",
              "                    window.PLOTLYENV=window.PLOTLYENV || {};\n",
              "                    \n",
              "                if (document.getElementById(\"71623d9c-25a1-44e7-a44f-f343a749294b\")) {\n",
              "                    Plotly.newPlot(\n",
              "                        '71623d9c-25a1-44e7-a44f-f343a749294b',\n",
              "                        [{\"alignmentgroup\": \"True\", \"boxpoints\": \"all\", \"fillcolor\": \"rgba(255,255,255,0)\", \"hoverlabel\": {\"namelength\": 0}, \"hoveron\": \"points\", \"hovertemplate\": \"course_difficulty=Beginner<br>Enrolled=%{x}<br>ML_yes=%{y}\", \"legendgroup\": \"course_difficulty=Beginner\", \"line\": {\"color\": \"rgba(255,255,255,0)\"}, \"marker\": {\"color\": \"#636efa\"}, \"name\": \"course_difficulty=Beginner\", \"offsetgroup\": \"course_difficulty=Beginner\", \"orientation\": \"h\", \"pointpos\": 0, \"showlegend\": true, \"type\": \"box\", \"x\": [5300.0, 39000.0, 350000.0, 61000.0, 130000.0, 11000.0, 27000.0, 110000.0, 540000.0, 2900.0, 110000.0, 9200.0, 21000.0, 94000.0, 69000.0, 40000.0, 12000.0, 18000.0, 23000.0, 69000.0, 270000.0, 7900.0, 30000.0, 20000.0, 120000.0, 11000.0, 220000.0, 6600.0, 180000.0, 3900.0, 150000.0, 10000.0, 13000.0, 180000.0, 28000.0, 6500.0, 61000.0, 8800.0, 35000.0, 88000.0, 14000.0, 21000.0, 1600.0, 31000.0, 9500.0, 57000.0, 26000.0, 15000.0, 22000.0, 280000.0, 510000.0, 110000.0, 24000.0, 89000.0, 67000.0, 10000.0, 48000.0, 160000.0, 31000.0, 36000.0, 220000.0, 32000.0, 340000.0, 790000.0, 31000.0, 23000.0, 30000.0, 22000.0, 57000.0, 51000.0, 4800.0, 32000.0, 37000.0, 120000.0, 15000.0, 43000.0, 6400.0, 43000.0, 5800.0, 33000.0, 27000.0, 66000.0, 19000.0, 61000.0, 43000.0, 15000.0, 220000.0, 27000.0, 26000.0, 7800.0, 75000.0, 15000.0, 81000.0, 140000.0, 150000.0, 17000.0, 5500.0, 18000.0, 140000.0, 23000.0, 55000.0, 100000.0, 220000.0, 110000.0, 24000.0, 42000.0, 830000.0, 140000.0, 89000.0, 740000.0, 60000.0, 96000.0, 18000.0, 120000.0, 110000.0, 150000.0, 44000.0, 4500.0, 8200.0, 240000.0, 17000.0, 54000.0, 9000.0, 21000.0, 37000.0, 380000.0, 140000.0, 58000.0, 35000.0, 4000.0, 21000.0, 5600.0, 17000.0, 39000.0, 110000.0, 7100.0, 46000.0, 1500.0, 12000.0, 17000.0, 37000.0, 14000.0, 23000.0, 200000.0, 230000.0, 110000.0, 2400.0, 110000.0, 31000.0, 20000.0, 69000.0, 6400.0, 31000.0, 7200.0, 1800.0, 14000.0, 27000.0, 13000.0, 11000.0, 86000.0, 240000.0, 200000.0, 490000.0, 56000.0, 54000.0, 170000.0, 28000.0, 180000.0, 18000.0, 9700.0, 13000.0, 12000.0, 260000.0, 69000.0, 65000.0, 10000.0, 470000.0, 60000.0, 6500.0, 36000.0, 20000.0, 400000.0, 14000.0, 63000.0, 31000.0, 64000.0, 89000.0, 3200.0, 26000.0, 52000.0, 30000.0, 39000.0, 200000.0, 86000.0, 290000.0, 180000.0, 120000.0, 81000.0, 25000.0, 56000.0, 150000.0, 110000.0, 47000.0, 4900.0, 9400.0, 10000.0, 140000.0, 260000.0, 14000.0, 97000.0, 14000.0, 59000.0, 18000.0, 22000.0, 29000.0, 10000.0, 3800.0, 93000.0, 350000.0, 10000.0, 56000.0, 43000.0, 8100.0, 36000.0, 5500.0, 5500.0, 28000.0, 34000.0, 98000.0, 220000.0, 3300.0, 480000.0, 35000.0, 62000.0, 1700.0, 23000.0, 2200.0, 610000.0, 270000.0, 18000.0, 79000.0, 34000.0, 22000.0, 32000.0, 10000.0, 16000.0, 40000.0, 10000.0, 25000.0, 72000.0, 14000.0, 6500.0, 22000.0, 26000.0, 20000.0, 2200.0, 35000.0, 11000.0, 36000.0, 140000.0, 100000.0, 44000.0, 16000.0, 46000.0, 2600.0, 20000.0, 32000.0, 27000.0, 32000.0, 30000.0, 310000.0, 25000.0, 75000.0, 54000.0, 6000.0, 140000.0, 160000.0, 82000.0, 270000.0, 270000.0, 49000.0, 12000.0, 4100.0, 72000.0, 87000.0, 16000.0, 76000.0, 110000.0, 4500.0, 120000.0, 99000.0, 14000.0, 49000.0, 4400.0, 380000.0, 160000.0, 22000.0, 8000.0, 6300.0, 17000.0, 16000.0, 220000.0, 43000.0, 22000.0, 39000.0, 160000.0, 80000.0, 180000.0, 120000.0, 68000.0, 10000.0, 14000.0, 19000.0, 78000.0, 43000.0, 11000.0, 55000.0, 23000.0, 27000.0, 47000.0, 22000.0, 81000.0, 39000.0, 93000.0, 57000.0, 310000.0, 8400.0, 52000.0, 12000.0, 150000.0, 140000.0, 51000.0, 4800.0, 13000.0, 260000.0, 73000.0, 230000.0, 120000.0, 310000.0, 14000.0, 42000.0, 70000.0, 22000.0, 12000.0, 5300.0, 100000.0, 330000.0, 13000.0, 76000.0, 22000.0, 3200.0, 9100.0, 8800.0, 12000.0, 8900.0, 160000.0, 83000.0, 34000.0, 23000.0, 50000.0, 40000.0, 10000.0, 22000.0, 47000.0, 20000.0, 36000.0, 250000.0, 19000.0, 70000.0, 190000.0, 440000.0, 230000.0, 52000.0, 110000.0, 26000.0, 170000.0, 1500.0, 3000.0, 7700.0, 24000.0, 5200.0, 7200.0, 170000.0, 120000.0, 30000.0, 3200.0, 7000.0, 370000.0, 2600.0, 160000.0, 5600.0, 16000.0, 9100.0, 140000.0, 14000.0, 110000.0, 61000.0, 20000.0, 22000.0, 13000.0, 130000.0, 78000.0, 4200.0, 220000.0, 60000.0, 110000.0, 17000.0, 68000.0, 8800.0, 71000.0, 370000.0, 17000.0, 16000.0, 34000.0, 220000.0, 9500.0, 100000.0, 68000.0, 11000.0, 220000.0, 38000.0, 11000.0, 7900.0, 66000.0, 82000.0, 24000.0, 45000.0, 9400.0, 3900.0, 62000.0, 100000.0, 62000.0, 49000.0, 280000.0, 90000.0, 130000.0, 23000.0, 73000.0, 130000.0, 22000.0, 84000.0, 11000.0, 120000.0, 130000.0, 47000.0, 1700.0, 59000.0, 13000.0, 320000.0, 26000.0, 5200.0, 28000.0, 14000.0, 200000.0, 120000.0, 68000.0, 110000.0, 44000.0, 68000.0, 25000.0, 29000.0, 89000.0, 24000.0, 49000.0, 30000.0, 130000.0, 12000.0, 9500.0, 23000.0, 19000.0, 37000.0, 23000.0, 280000.0, 34000.0, 120000.0, 260000.0, 32000.0, 12000.0, 18000.0, 140000.0, 25000.0, 69000.0, 14000.0, 16000.0, 67000.0, 83000.0, 38000.0], \"x0\": \" \", \"xaxis\": \"x\", \"y\": [0, 0, 1, 1, 0, 0, 0, 0, 0, 0, 0, 0, 0, 0, 0, 0, 0, 0, 0, 0, 0, 0, 0, 0, 0, 0, 1, 0, 0, 0, 0, 0, 0, 0, 0, 0, 0, 0, 0, 0, 0, 0, 0, 0, 0, 0, 0, 0, 0, 1, 0, 0, 0, 0, 0, 0, 0, 0, 0, 0, 0, 0, 0, 0, 0, 0, 0, 0, 0, 0, 0, 0, 0, 0, 0, 0, 0, 0, 0, 0, 0, 0, 0, 0, 0, 0, 0, 0, 0, 0, 0, 0, 0, 0, 0, 0, 0, 0, 0, 0, 0, 0, 0, 0, 1, 0, 1, 1, 1, 1, 1, 1, 0, 0, 1, 0, 0, 0, 0, 0, 0, 0, 0, 0, 0, 0, 0, 0, 0, 0, 0, 0, 0, 0, 0, 0, 0, 0, 0, 0, 0, 0, 0, 0, 0, 0, 0, 0, 0, 0, 0, 0, 0, 0, 0, 0, 0, 0, 0, 0, 0, 0, 0, 0, 0, 1, 0, 0, 0, 0, 0, 0, 0, 0, 0, 0, 0, 0, 0, 0, 0, 0, 0, 0, 0, 0, 0, 0, 0, 0, 0, 0, 0, 0, 0, 0, 0, 0, 0, 0, 0, 0, 0, 0, 0, 0, 0, 0, 0, 0, 0, 0, 0, 0, 0, 0, 0, 0, 0, 0, 0, 0, 0, 0, 0, 0, 0, 0, 0, 1, 0, 1, 0, 0, 0, 0, 1, 0, 1, 0, 0, 0, 0, 0, 0, 0, 0, 0, 0, 0, 0, 0, 0, 0, 0, 0, 0, 0, 0, 1, 0, 1, 0, 0, 0, 0, 0, 0, 0, 0, 1, 0, 0, 0, 0, 0, 0, 0, 0, 0, 0, 0, 0, 0, 0, 0, 0, 0, 0, 0, 0, 1, 0, 0, 0, 0, 0, 0, 0, 0, 0, 0, 0, 0, 0, 1, 0, 0, 0, 0, 0, 0, 1, 0, 0, 0, 0, 0, 0, 0, 0, 0, 0, 0, 0, 0, 0, 0, 1, 1, 1, 1, 0, 0, 0, 0, 0, 0, 0, 0, 0, 0, 0, 0, 0, 0, 0, 0, 0, 0, 0, 0, 0, 0, 0, 0, 0, 0, 0, 0, 0, 1, 0, 0, 0, 0, 0, 0, 0, 0, 0, 0, 0, 0, 0, 1, 0, 0, 0, 0, 0, 0, 0, 0, 0, 0, 0, 0, 1, 1, 0, 0, 0, 0, 0, 0, 0, 0, 0, 0, 0, 0, 0, 0, 0, 0, 0, 0, 0, 0, 0, 0, 0, 0, 0, 0, 0, 0, 0, 1, 0, 0, 1, 0, 0, 0, 1, 0, 0, 0, 0, 0, 0, 0, 0, 0, 0, 0, 0, 0, 0, 0, 0, 0, 0, 0, 0, 0, 0, 0, 0, 0, 0, 0, 1, 0, 0, 0, 0, 0, 0, 0, 0, 0, 0, 0, 0, 0, 0, 0, 0, 0, 0, 0, 0, 1, 0, 0, 0, 0, 0, 0, 0, 0, 0, 0, 0], \"y0\": \" \", \"yaxis\": \"y\"}, {\"alignmentgroup\": \"True\", \"boxpoints\": \"all\", \"fillcolor\": \"rgba(255,255,255,0)\", \"hoverlabel\": {\"namelength\": 0}, \"hoveron\": \"points\", \"hovertemplate\": \"course_difficulty=Intermediate<br>Enrolled=%{x}<br>ML_yes=%{y}\", \"legendgroup\": \"course_difficulty=Intermediate\", \"line\": {\"color\": \"rgba(255,255,255,0)\"}, \"marker\": {\"color\": \"#EF553B\"}, \"name\": \"course_difficulty=Intermediate\", \"offsetgroup\": \"course_difficulty=Intermediate\", \"orientation\": \"h\", \"pointpos\": 0, \"showlegend\": true, \"type\": \"box\", \"x\": [17000.0, 2400.0, 12000.0, 4000.0, 13000.0, 13000.0, 22000.0, 9900.0, 78000.0, 220000.0, 150000.0, 14000.0, 36000.0, 63000.0, 42000.0, 480000.0, 150000.0, 97000.0, 4200.0, 310000.0, 33000.0, 7300.0, 9200.0, 91000.0, 29000.0, 4200.0, 1900.0, 68000.0, 7300.0, 5800.0, 24000.0, 38000.0, 120000.0, 77000.0, 110000.0, 310000.0, 37000.0, 350000.0, 240000.0, 46000.0, 10000.0, 43000.0, 26000.0, 22000.0, 99000.0, 19000.0, 3000.0, 120000.0, 120000.0, 140000.0, 210000.0, 66000.0, 690000.0, 19000.0, 16000.0, 300000.0, 4000.0, 8000.0, 40000.0, 130000.0, 18000.0, 16000.0, 57000.0, 110000.0, 42000.0, 7900.0, 68000.0, 83000.0, 4100.0, 54000.0, 39000.0, 76000.0, 39000.0, 12000.0, 76000.0, 12000.0, 30000.0, 4400.0, 27000.0, 45000.0, 89000.0, 150000.0, 140000.0, 170000.0, 220000.0, 20000.0, 18000.0, 22000.0, 100000.0, 80000.0, 73000.0, 59000.0, 75000.0, 22000.0, 3600.0, 44000.0, 120000.0, 36000.0, 7400.0, 5400.0, 1700.0, 170000.0, 140000.0, 1600.0, 12000.0, 97000.0, 9700.0, 8700.0, 150000.0, 22000.0, 66000.0, 14000.0, 53000.0, 390000.0, 41000.0, 270000.0, 150000.0, 13000.0, 37000.0, 5900.0, 16000.0, 78000.0, 120000.0, 7200.0, 23000.0, 290000.0, 29000.0, 58000.0, 15000.0, 120000.0, 72000.0, 49000.0, 60000.0, 33000.0, 21000.0, 9100.0, 59000.0, 40000.0, 17000.0, 290000.0, 630000.0, 35000.0, 250000.0, 21000.0, 33000.0, 92000.0, 30000.0, 79000.0, 67000.0, 39000.0, 39000.0, 18000.0, 21000.0, 41000.0, 480000.0, 29000.0, 23000.0, 17000.0, 6800.0, 6400.0, 300000.0, 14000.0, 18000.0, 15000.0, 34000.0, 12000.0, 28000.0, 9200.0, 30000.0, 4900.0, 48000.0, 8500.0, 170000.0, 12000.0, 47000.0, 23000.0, 9400.0, 12000.0, 100000.0, 5400.0, 12000.0, 11000.0, 6100.0, 3900.0, 43000.0, 63000.0, 120000.0, 17000.0, 76000.0, 190000.0, 68000.0, 77000.0, 19000.0, 41000.0, 45000.0, 52000.0, 30000.0, 9800.0], \"x0\": \" \", \"xaxis\": \"x\", \"y\": [0, 1, 1, 1, 1, 0, 0, 0, 1, 0, 0, 0, 0, 0, 1, 1, 1, 0, 0, 0, 0, 0, 0, 0, 0, 0, 0, 0, 0, 1, 0, 0, 0, 0, 0, 0, 0, 0, 1, 1, 0, 0, 0, 0, 0, 0, 0, 0, 1, 0, 1, 1, 1, 0, 0, 0, 0, 0, 0, 0, 0, 0, 0, 0, 0, 0, 0, 0, 0, 0, 0, 0, 0, 0, 0, 0, 0, 0, 1, 0, 0, 0, 0, 0, 0, 0, 0, 1, 0, 1, 1, 0, 0, 0, 0, 0, 1, 0, 0, 1, 0, 0, 1, 0, 0, 0, 0, 0, 0, 0, 0, 1, 0, 1, 0, 0, 1, 1, 0, 0, 0, 0, 0, 0, 0, 1, 1, 1, 1, 1, 1, 0, 0, 1, 0, 0, 0, 1, 0, 0, 1, 0, 0, 0, 0, 0, 0, 0, 0, 0, 0, 0, 0, 0, 0, 0, 1, 0, 0, 0, 0, 0, 0, 0, 0, 0, 0, 0, 0, 0, 0, 0, 0, 0, 0, 0, 0, 0, 0, 0, 0, 0, 0, 0, 0, 0, 0, 0, 0, 0, 0, 0, 0, 0, 0, 0, 0, 0], \"y0\": \" \", \"yaxis\": \"y\"}, {\"alignmentgroup\": \"True\", \"boxpoints\": \"all\", \"fillcolor\": \"rgba(255,255,255,0)\", \"hoverlabel\": {\"namelength\": 0}, \"hoveron\": \"points\", \"hovertemplate\": \"course_difficulty=Mixed<br>Enrolled=%{x}<br>ML_yes=%{y}\", \"legendgroup\": \"course_difficulty=Mixed\", \"line\": {\"color\": \"rgba(255,255,255,0)\"}, \"marker\": {\"color\": \"#00cc96\"}, \"name\": \"course_difficulty=Mixed\", \"offsetgroup\": \"course_difficulty=Mixed\", \"orientation\": \"h\", \"pointpos\": 0, \"showlegend\": true, \"type\": \"box\", \"x\": [130000.0, 91000.0, 320000.0, 6600.0, 80000.0, 23000.0, 14000.0, 8100.0, 71000.0, 200000.0, 79000.0, 31000.0, 15000.0, 15000.0, 66000.0, 56000.0, 210000.0, 55000.0, 2300.0, 84000.0, 95000.0, 67000.0, 13000.0, 130000.0, 82000.0, 19000.0, 51000.0, 49000.0, 56000.0, 10000.0, 140000.0, 120000.0, 23000.0, 130000.0, 31000.0, 67000.0, 97000.0, 41000.0, 54000.0, 57000.0, 150000.0, 110000.0, 83000.0, 3400.0, 760000.0, 130000.0, 86000.0, 38000.0, 45000.0, 23000.0, 130000.0, 35000.0, 31000.0, 100000.0, 24000.0, 310000.0, 57000.0, 42000.0, 62000.0, 49000.0, 110000.0, 110000.0, 19000.0, 34000.0, 47000.0, 79000.0, 37000.0, 7600.0, 430000.0, 260000.0, 210000.0, 62000.0, 240000.0, 62000.0, 39000.0, 46000.0, 140000.0, 51000.0, 180000.0, 85000.0, 12000.0, 25000.0, 36000.0, 19000.0, 41000.0, 38000.0, 46000.0, 60000.0, 160000.0, 27000.0, 84000.0, 150000.0, 130000.0, 99000.0, 110000.0, 150000.0, 34000.0, 200000.0, 47000.0, 79000.0, 74000.0, 42000.0, 220000.0, 82000.0, 220000.0, 87000.0, 370000.0, 11000.0, 76000.0, 69000.0, 67000.0, 33000.0, 270000.0, 34000.0, 29000.0, 3200.0, 240000.0, 120000.0, 71000.0, 58000.0, 280000.0, 48000.0, 34000.0, 130000.0, 36000.0, 100000.0, 40000.0, 44000.0, 34000.0, 21000.0, 95000.0, 41000.0, 57000.0, 80000.0, 42000.0, 84000.0, 72000.0, 180000.0, 68000.0, 280000.0, 79000.0, 1300.0, 190000.0, 420000.0, 69000.0, 35000.0, 16000.0, 15000.0, 36000.0, 33000.0, 12000.0, 47000.0, 60000.0, 430000.0, 16000.0, 58000.0, 750000.0, 29000.0, 50000.0, 33000.0, 81000.0, 53000.0, 420000.0, 7200.0, 84000.0, 29000.0, 47000.0, 180000.0, 120000.0, 50000.0, 2500.0, 19000.0, 33000.0, 45000.0, 78000.0, 120000.0, 220000.0, 310000.0, 40000.0, 150000.0, 190000.0, 35000.0, 6200.0, 94000.0, 270000.0, 17000.0, 21000.0], \"x0\": \" \", \"xaxis\": \"x\", \"y\": [1, 0, 0, 0, 1, 0, 0, 0, 0, 0, 0, 0, 0, 0, 0, 0, 0, 0, 0, 0, 0, 0, 0, 0, 0, 0, 0, 0, 0, 0, 0, 0, 0, 1, 0, 0, 0, 0, 0, 0, 0, 0, 0, 0, 0, 0, 0, 0, 0, 0, 0, 0, 0, 0, 0, 0, 0, 0, 0, 0, 0, 0, 0, 0, 0, 0, 0, 0, 0, 0, 0, 0, 0, 0, 0, 0, 0, 0, 0, 0, 0, 0, 0, 0, 0, 0, 0, 0, 0, 0, 0, 0, 0, 0, 0, 0, 0, 0, 0, 0, 0, 0, 0, 0, 0, 0, 0, 0, 0, 0, 0, 0, 0, 0, 0, 1, 1, 0, 0, 0, 0, 0, 0, 0, 0, 0, 0, 0, 0, 0, 0, 0, 0, 1, 0, 1, 0, 0, 0, 0, 0, 0, 0, 0, 0, 0, 0, 0, 0, 0, 0, 0, 0, 0, 0, 0, 0, 0, 0, 0, 0, 0, 0, 0, 0, 0, 0, 0, 0, 0, 0, 0, 0, 0, 0, 0, 0, 0, 0, 0, 0, 0, 0, 0, 0, 0, 0], \"y0\": \" \", \"yaxis\": \"y\"}, {\"alignmentgroup\": \"True\", \"boxpoints\": \"all\", \"fillcolor\": \"rgba(255,255,255,0)\", \"hoverlabel\": {\"namelength\": 0}, \"hoveron\": \"points\", \"hovertemplate\": \"course_difficulty=Advanced<br>Enrolled=%{x}<br>ML_yes=%{y}\", \"legendgroup\": \"course_difficulty=Advanced\", \"line\": {\"color\": \"rgba(255,255,255,0)\"}, \"marker\": {\"color\": \"#ab63fa\"}, \"name\": \"course_difficulty=Advanced\", \"offsetgroup\": \"course_difficulty=Advanced\", \"orientation\": \"h\", \"pointpos\": 0, \"showlegend\": true, \"type\": \"box\", \"x\": [320000.0, 190000.0, 35000.0, 29000.0, 11000.0, 22000.0, 9700.0, 140000.0, 3500.0, 39000.0, 52000.0, 170000.0, 6200.0, 68000.0, 39000.0, 16000.0, 42000.0, 12000.0, 60000.0], \"x0\": \" \", \"xaxis\": \"x\", \"y\": [1, 1, 1, 0, 0, 0, 0, 0, 1, 0, 0, 0, 0, 0, 0, 0, 0, 0, 1], \"y0\": \" \", \"yaxis\": \"y\"}],\n",
              "                        {\"boxmode\": \"group\", \"legend\": {\"tracegroupgap\": 0}, \"margin\": {\"t\": 60}, \"template\": {\"data\": {\"bar\": [{\"error_x\": {\"color\": \"#2a3f5f\"}, \"error_y\": {\"color\": \"#2a3f5f\"}, \"marker\": {\"line\": {\"color\": \"#E5ECF6\", \"width\": 0.5}}, \"type\": \"bar\"}], \"barpolar\": [{\"marker\": {\"line\": {\"color\": \"#E5ECF6\", \"width\": 0.5}}, \"type\": \"barpolar\"}], \"carpet\": [{\"aaxis\": {\"endlinecolor\": \"#2a3f5f\", \"gridcolor\": \"white\", \"linecolor\": \"white\", \"minorgridcolor\": \"white\", \"startlinecolor\": \"#2a3f5f\"}, \"baxis\": {\"endlinecolor\": \"#2a3f5f\", \"gridcolor\": \"white\", \"linecolor\": \"white\", \"minorgridcolor\": \"white\", \"startlinecolor\": \"#2a3f5f\"}, \"type\": \"carpet\"}], \"choropleth\": [{\"colorbar\": {\"outlinewidth\": 0, \"ticks\": \"\"}, \"type\": \"choropleth\"}], \"contour\": [{\"colorbar\": {\"outlinewidth\": 0, \"ticks\": \"\"}, \"colorscale\": [[0.0, \"#0d0887\"], [0.1111111111111111, \"#46039f\"], [0.2222222222222222, \"#7201a8\"], [0.3333333333333333, \"#9c179e\"], [0.4444444444444444, \"#bd3786\"], [0.5555555555555556, \"#d8576b\"], [0.6666666666666666, \"#ed7953\"], [0.7777777777777778, \"#fb9f3a\"], [0.8888888888888888, \"#fdca26\"], [1.0, \"#f0f921\"]], \"type\": \"contour\"}], \"contourcarpet\": [{\"colorbar\": {\"outlinewidth\": 0, \"ticks\": \"\"}, \"type\": \"contourcarpet\"}], \"heatmap\": [{\"colorbar\": {\"outlinewidth\": 0, \"ticks\": \"\"}, \"colorscale\": [[0.0, \"#0d0887\"], [0.1111111111111111, \"#46039f\"], [0.2222222222222222, \"#7201a8\"], [0.3333333333333333, \"#9c179e\"], [0.4444444444444444, \"#bd3786\"], [0.5555555555555556, \"#d8576b\"], [0.6666666666666666, \"#ed7953\"], [0.7777777777777778, \"#fb9f3a\"], [0.8888888888888888, \"#fdca26\"], [1.0, \"#f0f921\"]], \"type\": \"heatmap\"}], \"heatmapgl\": [{\"colorbar\": {\"outlinewidth\": 0, \"ticks\": \"\"}, \"colorscale\": [[0.0, \"#0d0887\"], [0.1111111111111111, \"#46039f\"], [0.2222222222222222, \"#7201a8\"], [0.3333333333333333, \"#9c179e\"], [0.4444444444444444, \"#bd3786\"], [0.5555555555555556, \"#d8576b\"], [0.6666666666666666, \"#ed7953\"], [0.7777777777777778, \"#fb9f3a\"], [0.8888888888888888, \"#fdca26\"], [1.0, \"#f0f921\"]], \"type\": \"heatmapgl\"}], \"histogram\": [{\"marker\": {\"colorbar\": {\"outlinewidth\": 0, \"ticks\": \"\"}}, \"type\": \"histogram\"}], \"histogram2d\": [{\"colorbar\": {\"outlinewidth\": 0, \"ticks\": \"\"}, \"colorscale\": [[0.0, \"#0d0887\"], [0.1111111111111111, \"#46039f\"], [0.2222222222222222, \"#7201a8\"], [0.3333333333333333, \"#9c179e\"], [0.4444444444444444, \"#bd3786\"], [0.5555555555555556, \"#d8576b\"], [0.6666666666666666, \"#ed7953\"], [0.7777777777777778, \"#fb9f3a\"], [0.8888888888888888, \"#fdca26\"], [1.0, \"#f0f921\"]], \"type\": \"histogram2d\"}], \"histogram2dcontour\": [{\"colorbar\": {\"outlinewidth\": 0, \"ticks\": \"\"}, \"colorscale\": [[0.0, \"#0d0887\"], [0.1111111111111111, \"#46039f\"], [0.2222222222222222, \"#7201a8\"], [0.3333333333333333, \"#9c179e\"], [0.4444444444444444, \"#bd3786\"], [0.5555555555555556, \"#d8576b\"], [0.6666666666666666, \"#ed7953\"], [0.7777777777777778, \"#fb9f3a\"], [0.8888888888888888, \"#fdca26\"], [1.0, \"#f0f921\"]], \"type\": \"histogram2dcontour\"}], \"mesh3d\": [{\"colorbar\": {\"outlinewidth\": 0, \"ticks\": \"\"}, \"type\": \"mesh3d\"}], \"parcoords\": [{\"line\": {\"colorbar\": {\"outlinewidth\": 0, \"ticks\": \"\"}}, \"type\": \"parcoords\"}], \"pie\": [{\"automargin\": true, \"type\": \"pie\"}], \"scatter\": [{\"marker\": {\"colorbar\": {\"outlinewidth\": 0, \"ticks\": \"\"}}, \"type\": \"scatter\"}], \"scatter3d\": [{\"line\": {\"colorbar\": {\"outlinewidth\": 0, \"ticks\": \"\"}}, \"marker\": {\"colorbar\": {\"outlinewidth\": 0, \"ticks\": \"\"}}, \"type\": \"scatter3d\"}], \"scattercarpet\": [{\"marker\": {\"colorbar\": {\"outlinewidth\": 0, \"ticks\": \"\"}}, \"type\": \"scattercarpet\"}], \"scattergeo\": [{\"marker\": {\"colorbar\": {\"outlinewidth\": 0, \"ticks\": \"\"}}, \"type\": \"scattergeo\"}], \"scattergl\": [{\"marker\": {\"colorbar\": {\"outlinewidth\": 0, \"ticks\": \"\"}}, \"type\": \"scattergl\"}], \"scattermapbox\": [{\"marker\": {\"colorbar\": {\"outlinewidth\": 0, \"ticks\": \"\"}}, \"type\": \"scattermapbox\"}], \"scatterpolar\": [{\"marker\": {\"colorbar\": {\"outlinewidth\": 0, \"ticks\": \"\"}}, \"type\": \"scatterpolar\"}], \"scatterpolargl\": [{\"marker\": {\"colorbar\": {\"outlinewidth\": 0, \"ticks\": \"\"}}, \"type\": \"scatterpolargl\"}], \"scatterternary\": [{\"marker\": {\"colorbar\": {\"outlinewidth\": 0, \"ticks\": \"\"}}, \"type\": \"scatterternary\"}], \"surface\": [{\"colorbar\": {\"outlinewidth\": 0, \"ticks\": \"\"}, \"colorscale\": [[0.0, \"#0d0887\"], [0.1111111111111111, \"#46039f\"], [0.2222222222222222, \"#7201a8\"], [0.3333333333333333, \"#9c179e\"], [0.4444444444444444, \"#bd3786\"], [0.5555555555555556, \"#d8576b\"], [0.6666666666666666, \"#ed7953\"], [0.7777777777777778, \"#fb9f3a\"], [0.8888888888888888, \"#fdca26\"], [1.0, \"#f0f921\"]], \"type\": \"surface\"}], \"table\": [{\"cells\": {\"fill\": {\"color\": \"#EBF0F8\"}, \"line\": {\"color\": \"white\"}}, \"header\": {\"fill\": {\"color\": \"#C8D4E3\"}, \"line\": {\"color\": \"white\"}}, \"type\": \"table\"}]}, \"layout\": {\"annotationdefaults\": {\"arrowcolor\": \"#2a3f5f\", \"arrowhead\": 0, \"arrowwidth\": 1}, \"coloraxis\": {\"colorbar\": {\"outlinewidth\": 0, \"ticks\": \"\"}}, \"colorscale\": {\"diverging\": [[0, \"#8e0152\"], [0.1, \"#c51b7d\"], [0.2, \"#de77ae\"], [0.3, \"#f1b6da\"], [0.4, \"#fde0ef\"], [0.5, \"#f7f7f7\"], [0.6, \"#e6f5d0\"], [0.7, \"#b8e186\"], [0.8, \"#7fbc41\"], [0.9, \"#4d9221\"], [1, \"#276419\"]], \"sequential\": [[0.0, \"#0d0887\"], [0.1111111111111111, \"#46039f\"], [0.2222222222222222, \"#7201a8\"], [0.3333333333333333, \"#9c179e\"], [0.4444444444444444, \"#bd3786\"], [0.5555555555555556, \"#d8576b\"], [0.6666666666666666, \"#ed7953\"], [0.7777777777777778, \"#fb9f3a\"], [0.8888888888888888, \"#fdca26\"], [1.0, \"#f0f921\"]], \"sequentialminus\": [[0.0, \"#0d0887\"], [0.1111111111111111, \"#46039f\"], [0.2222222222222222, \"#7201a8\"], [0.3333333333333333, \"#9c179e\"], [0.4444444444444444, \"#bd3786\"], [0.5555555555555556, \"#d8576b\"], [0.6666666666666666, \"#ed7953\"], [0.7777777777777778, \"#fb9f3a\"], [0.8888888888888888, \"#fdca26\"], [1.0, \"#f0f921\"]]}, \"colorway\": [\"#636efa\", \"#EF553B\", \"#00cc96\", \"#ab63fa\", \"#FFA15A\", \"#19d3f3\", \"#FF6692\", \"#B6E880\", \"#FF97FF\", \"#FECB52\"], \"font\": {\"color\": \"#2a3f5f\"}, \"geo\": {\"bgcolor\": \"white\", \"lakecolor\": \"white\", \"landcolor\": \"#E5ECF6\", \"showlakes\": true, \"showland\": true, \"subunitcolor\": \"white\"}, \"hoverlabel\": {\"align\": \"left\"}, \"hovermode\": \"closest\", \"mapbox\": {\"style\": \"light\"}, \"paper_bgcolor\": \"white\", \"plot_bgcolor\": \"#E5ECF6\", \"polar\": {\"angularaxis\": {\"gridcolor\": \"white\", \"linecolor\": \"white\", \"ticks\": \"\"}, \"bgcolor\": \"#E5ECF6\", \"radialaxis\": {\"gridcolor\": \"white\", \"linecolor\": \"white\", \"ticks\": \"\"}}, \"scene\": {\"xaxis\": {\"backgroundcolor\": \"#E5ECF6\", \"gridcolor\": \"white\", \"gridwidth\": 2, \"linecolor\": \"white\", \"showbackground\": true, \"ticks\": \"\", \"zerolinecolor\": \"white\"}, \"yaxis\": {\"backgroundcolor\": \"#E5ECF6\", \"gridcolor\": \"white\", \"gridwidth\": 2, \"linecolor\": \"white\", \"showbackground\": true, \"ticks\": \"\", \"zerolinecolor\": \"white\"}, \"zaxis\": {\"backgroundcolor\": \"#E5ECF6\", \"gridcolor\": \"white\", \"gridwidth\": 2, \"linecolor\": \"white\", \"showbackground\": true, \"ticks\": \"\", \"zerolinecolor\": \"white\"}}, \"shapedefaults\": {\"line\": {\"color\": \"#2a3f5f\"}}, \"ternary\": {\"aaxis\": {\"gridcolor\": \"white\", \"linecolor\": \"white\", \"ticks\": \"\"}, \"baxis\": {\"gridcolor\": \"white\", \"linecolor\": \"white\", \"ticks\": \"\"}, \"bgcolor\": \"#E5ECF6\", \"caxis\": {\"gridcolor\": \"white\", \"linecolor\": \"white\", \"ticks\": \"\"}}, \"title\": {\"x\": 0.05}, \"xaxis\": {\"automargin\": true, \"gridcolor\": \"white\", \"linecolor\": \"white\", \"ticks\": \"\", \"title\": {\"standoff\": 15}, \"zerolinecolor\": \"white\", \"zerolinewidth\": 2}, \"yaxis\": {\"automargin\": true, \"gridcolor\": \"white\", \"linecolor\": \"white\", \"ticks\": \"\", \"title\": {\"standoff\": 15}, \"zerolinecolor\": \"white\", \"zerolinewidth\": 2}}}, \"xaxis\": {\"anchor\": \"y\", \"domain\": [0.0, 1.0], \"title\": {\"text\": \"Enrolled\"}}, \"yaxis\": {\"anchor\": \"x\", \"domain\": [0.0, 1.0], \"title\": {\"text\": \"ML_yes\"}}},\n",
              "                        {\"responsive\": true}\n",
              "                    ).then(function(){\n",
              "                            \n",
              "var gd = document.getElementById('71623d9c-25a1-44e7-a44f-f343a749294b');\n",
              "var x = new MutationObserver(function (mutations, observer) {{\n",
              "        var display = window.getComputedStyle(gd).display;\n",
              "        if (!display || display === 'none') {{\n",
              "            console.log([gd, 'removed!']);\n",
              "            Plotly.purge(gd);\n",
              "            observer.disconnect();\n",
              "        }}\n",
              "}});\n",
              "\n",
              "// Listen for the removal of the full notebook cells\n",
              "var notebookContainer = gd.closest('#notebook-container');\n",
              "if (notebookContainer) {{\n",
              "    x.observe(notebookContainer, {childList: true});\n",
              "}}\n",
              "\n",
              "// Listen for the clearing of the current output cell\n",
              "var outputEl = gd.closest('.output');\n",
              "if (outputEl) {{\n",
              "    x.observe(outputEl, {childList: true});\n",
              "}}\n",
              "\n",
              "                        })\n",
              "                };\n",
              "                \n",
              "            </script>\n",
              "        </div>\n",
              "</body>\n",
              "</html>"
            ]
          },
          "metadata": {
            "tags": []
          }
        }
      ]
    },
    {
      "cell_type": "markdown",
      "metadata": {
        "id": "y9l_NN9tnX1k",
        "colab_type": "text"
      },
      "source": [
        "**Top Enrolled Courses in Coursera in Data Science / AI / Machine Learning**"
      ]
    },
    {
      "cell_type": "code",
      "metadata": {
        "id": "XvenyFQJf2pq",
        "colab_type": "code",
        "colab": {}
      },
      "source": [
        "data_science_df=df[df['ML_yes']==1]"
      ],
      "execution_count": 33,
      "outputs": []
    },
    {
      "cell_type": "code",
      "metadata": {
        "id": "RUcn6hH4p-oJ",
        "colab_type": "code",
        "colab": {
          "base_uri": "https://localhost:8080/",
          "height": 542
        },
        "outputId": "48cf65b4-fab9-4103-c986-81f99272027c"
      },
      "source": [
        "import plotly.express as px\n",
        "fig = px.bar(data_science_df, x=\"course_organization\", y=\"Enrolled\",color=\"Language\")\n",
        "fig.show()"
      ],
      "execution_count": 34,
      "outputs": [
        {
          "output_type": "display_data",
          "data": {
            "text/html": [
              "<html>\n",
              "<head><meta charset=\"utf-8\" /></head>\n",
              "<body>\n",
              "    <div>\n",
              "            <script src=\"https://cdnjs.cloudflare.com/ajax/libs/mathjax/2.7.5/MathJax.js?config=TeX-AMS-MML_SVG\"></script><script type=\"text/javascript\">if (window.MathJax) {MathJax.Hub.Config({SVG: {font: \"STIX-Web\"}});}</script>\n",
              "                <script type=\"text/javascript\">window.PlotlyConfig = {MathJaxConfig: 'local'};</script>\n",
              "        <script src=\"https://cdn.plot.ly/plotly-latest.min.js\"></script>    \n",
              "            <div id=\"b63d33e1-ce05-47d1-99a1-59ee7ac8261d\" class=\"plotly-graph-div\" style=\"height:525px; width:100%;\"></div>\n",
              "            <script type=\"text/javascript\">\n",
              "                \n",
              "                    window.PLOTLYENV=window.PLOTLYENV || {};\n",
              "                    \n",
              "                if (document.getElementById(\"b63d33e1-ce05-47d1-99a1-59ee7ac8261d\")) {\n",
              "                    Plotly.newPlot(\n",
              "                        'b63d33e1-ce05-47d1-99a1-59ee7ac8261d',\n",
              "                        [{\"alignmentgroup\": \"True\", \"hoverlabel\": {\"namelength\": 0}, \"hovertemplate\": \"Language=en<br>course_organization=%{x}<br>Enrolled=%{y}\", \"legendgroup\": \"Language=en\", \"marker\": {\"color\": \"#636efa\"}, \"name\": \"Language=en\", \"offsetgroup\": \"Language=en\", \"orientation\": \"v\", \"showlegend\": true, \"textposition\": \"auto\", \"type\": \"bar\", \"x\": [\"Johns Hopkins University\", \"deeplearning.ai\", \"deeplearning.ai\", \"IBM\", \"deeplearning.ai\", \"University of Pennsylvania\", \"University of Colorado Boulder\", \"IBM\", \"National Research University Higher School of Economics\", \"Google Cloud\", \"IBM\", \"IBM\", \"University of Michigan\", \"University of Michigan\", \"Google Cloud\", \"University of Pennsylvania\", \"deeplearning.ai\", \"deeplearning.ai\", \"University of Amsterdam\", \"Google Cloud\", \"Duke University\", \"IBM\", \"Johns Hopkins University\", \"Johns Hopkins University\", \"Duke University\", \"PwC\", \"IBM\", \"University of California, Davis\", \"IBM\", \"Emory University\", \"University of Alberta\", \"Amazon Web Services\", \"Google Cloud\", \"University of California, Davis\", \"IBM\", \"IBM\", \"IBM\", \"Automation Anywhere\", \"deeplearning.ai\", \"IBM\", \"University of Illinois at Urbana-Champaign\", \"IBM\", \"University of Michigan\", \"deeplearning.ai\", \"New York Institute of Finance\", \"EDHEC Business School\", \"University of California, Davis\", \"University of Washington\", \"Stanford University\", \"University of Washington\", \"New York University\", \"University of London\", \"Google Cloud\", \"Google Cloud\", \"IBM\", \"Google Cloud\", \"National Research University Higher School of Economics\", \"Imperial College London\", \"Imperial College London\", \"Imperial College London\", \"Imperial College London\", \"deeplearning.ai\", \"deeplearning.ai\", \"University of Pennsylvania\", \"University of Pennsylvania\", \"MathWorks\", \"IBM\", \"University of Alberta\", \"SAS\", \"University of California, Davis\", \"ESSEC Business School\", \"deeplearning.ai\", \"Rutgers the State University of New Jersey\", \"University of Maryland, College Park\", \"IBM\", \"IBM\"], \"xaxis\": \"x\", \"y\": [130000.0, 350000.0, 2400.0, 61000.0, 13000.0, 80000.0, 78000.0, 320000.0, 190000.0, 35000.0, 220000.0, 42000.0, 480000.0, 150000.0, 5800.0, 280000.0, 240000.0, 46000.0, 24000.0, 120000.0, 140000.0, 89000.0, 740000.0, 210000.0, 130000.0, 60000.0, 66000.0, 96000.0, 110000.0, 27000.0, 22000.0, 73000.0, 120000.0, 5400.0, 140000.0, 3500.0, 220000.0, 2200.0, 270000.0, 44000.0, 14000.0, 310000.0, 390000.0, 150000.0, 13000.0, 14000.0, 160000.0, 290000.0, 3200.0, 240000.0, 29000.0, 19000.0, 58000.0, 15000.0, 120000.0, 72000.0, 12000.0, 150000.0, 140000.0, 51000.0, 33000.0, 40000.0, 630000.0, 80000.0, 84000.0, 10000.0, 170000.0, 23000.0, 2600.0, 160000.0, 60000.0, 220000.0, 7900.0, 45000.0, 120000.0, 260000.0], \"yaxis\": \"y\"}, {\"alignmentgroup\": \"True\", \"hoverlabel\": {\"namelength\": 0}, \"hovertemplate\": \"Language=it<br>course_organization=%{x}<br>Enrolled=%{y}\", \"legendgroup\": \"Language=it\", \"marker\": {\"color\": \"#EF553B\"}, \"name\": \"Language=it\", \"offsetgroup\": \"Language=it\", \"orientation\": \"v\", \"showlegend\": true, \"textposition\": \"auto\", \"type\": \"bar\", \"x\": [\"deeplearning.ai\", \"deeplearning.ai\", \"Johns Hopkins University\", \"Johns Hopkins University\", \"IBM\"], \"xaxis\": \"x\", \"y\": [12000.0, 4000.0, 830000.0, 80000.0, 480000.0], \"yaxis\": \"y\"}, {\"alignmentgroup\": \"True\", \"hoverlabel\": {\"namelength\": 0}, \"hovertemplate\": \"Language=nl<br>course_organization=%{x}<br>Enrolled=%{y}\", \"legendgroup\": \"Language=nl\", \"marker\": {\"color\": \"#00cc96\"}, \"name\": \"Language=nl\", \"offsetgroup\": \"Language=nl\", \"orientation\": \"v\", \"showlegend\": true, \"textposition\": \"auto\", \"type\": \"bar\", \"x\": [\"deeplearning.ai\"], \"xaxis\": \"x\", \"y\": [690000.0], \"yaxis\": \"y\"}, {\"alignmentgroup\": \"True\", \"hoverlabel\": {\"namelength\": 0}, \"hovertemplate\": \"Language=ro<br>course_organization=%{x}<br>Enrolled=%{y}\", \"legendgroup\": \"Language=ro\", \"marker\": {\"color\": \"#ab63fa\"}, \"name\": \"Language=ro\", \"offsetgroup\": \"Language=ro\", \"orientation\": \"v\", \"showlegend\": true, \"textposition\": \"auto\", \"type\": \"bar\", \"x\": [\"Johns Hopkins University\"], \"xaxis\": \"x\", \"y\": [170000.0], \"yaxis\": \"y\"}, {\"alignmentgroup\": \"True\", \"hoverlabel\": {\"namelength\": 0}, \"hovertemplate\": \"Language=es<br>course_organization=%{x}<br>Enrolled=%{y}\", \"legendgroup\": \"Language=es\", \"marker\": {\"color\": \"#FFA15A\"}, \"name\": \"Language=es\", \"offsetgroup\": \"Language=es\", \"orientation\": \"v\", \"showlegend\": true, \"textposition\": \"auto\", \"type\": \"bar\", \"x\": [\"Universidad Nacional Aut\\u00f3noma de M\\u00e9xico\"], \"xaxis\": \"x\", \"y\": [140000.0], \"yaxis\": \"y\"}],\n",
              "                        {\"barmode\": \"relative\", \"legend\": {\"tracegroupgap\": 0}, \"margin\": {\"t\": 60}, \"template\": {\"data\": {\"bar\": [{\"error_x\": {\"color\": \"#2a3f5f\"}, \"error_y\": {\"color\": \"#2a3f5f\"}, \"marker\": {\"line\": {\"color\": \"#E5ECF6\", \"width\": 0.5}}, \"type\": \"bar\"}], \"barpolar\": [{\"marker\": {\"line\": {\"color\": \"#E5ECF6\", \"width\": 0.5}}, \"type\": \"barpolar\"}], \"carpet\": [{\"aaxis\": {\"endlinecolor\": \"#2a3f5f\", \"gridcolor\": \"white\", \"linecolor\": \"white\", \"minorgridcolor\": \"white\", \"startlinecolor\": \"#2a3f5f\"}, \"baxis\": {\"endlinecolor\": \"#2a3f5f\", \"gridcolor\": \"white\", \"linecolor\": \"white\", \"minorgridcolor\": \"white\", \"startlinecolor\": \"#2a3f5f\"}, \"type\": \"carpet\"}], \"choropleth\": [{\"colorbar\": {\"outlinewidth\": 0, \"ticks\": \"\"}, \"type\": \"choropleth\"}], \"contour\": [{\"colorbar\": {\"outlinewidth\": 0, \"ticks\": \"\"}, \"colorscale\": [[0.0, \"#0d0887\"], [0.1111111111111111, \"#46039f\"], [0.2222222222222222, \"#7201a8\"], [0.3333333333333333, \"#9c179e\"], [0.4444444444444444, \"#bd3786\"], [0.5555555555555556, \"#d8576b\"], [0.6666666666666666, \"#ed7953\"], [0.7777777777777778, \"#fb9f3a\"], [0.8888888888888888, \"#fdca26\"], [1.0, \"#f0f921\"]], \"type\": \"contour\"}], \"contourcarpet\": [{\"colorbar\": {\"outlinewidth\": 0, \"ticks\": \"\"}, \"type\": \"contourcarpet\"}], \"heatmap\": [{\"colorbar\": {\"outlinewidth\": 0, \"ticks\": \"\"}, \"colorscale\": [[0.0, \"#0d0887\"], [0.1111111111111111, \"#46039f\"], [0.2222222222222222, \"#7201a8\"], [0.3333333333333333, \"#9c179e\"], [0.4444444444444444, \"#bd3786\"], [0.5555555555555556, \"#d8576b\"], [0.6666666666666666, \"#ed7953\"], [0.7777777777777778, \"#fb9f3a\"], [0.8888888888888888, \"#fdca26\"], [1.0, \"#f0f921\"]], \"type\": \"heatmap\"}], \"heatmapgl\": [{\"colorbar\": {\"outlinewidth\": 0, \"ticks\": \"\"}, \"colorscale\": [[0.0, \"#0d0887\"], [0.1111111111111111, \"#46039f\"], [0.2222222222222222, \"#7201a8\"], [0.3333333333333333, \"#9c179e\"], [0.4444444444444444, \"#bd3786\"], [0.5555555555555556, \"#d8576b\"], [0.6666666666666666, \"#ed7953\"], [0.7777777777777778, \"#fb9f3a\"], [0.8888888888888888, \"#fdca26\"], [1.0, \"#f0f921\"]], \"type\": \"heatmapgl\"}], \"histogram\": [{\"marker\": {\"colorbar\": {\"outlinewidth\": 0, \"ticks\": \"\"}}, \"type\": \"histogram\"}], \"histogram2d\": [{\"colorbar\": {\"outlinewidth\": 0, \"ticks\": \"\"}, \"colorscale\": [[0.0, \"#0d0887\"], [0.1111111111111111, \"#46039f\"], [0.2222222222222222, \"#7201a8\"], [0.3333333333333333, \"#9c179e\"], [0.4444444444444444, \"#bd3786\"], [0.5555555555555556, \"#d8576b\"], [0.6666666666666666, \"#ed7953\"], [0.7777777777777778, \"#fb9f3a\"], [0.8888888888888888, \"#fdca26\"], [1.0, \"#f0f921\"]], \"type\": \"histogram2d\"}], \"histogram2dcontour\": [{\"colorbar\": {\"outlinewidth\": 0, \"ticks\": \"\"}, \"colorscale\": [[0.0, \"#0d0887\"], [0.1111111111111111, \"#46039f\"], [0.2222222222222222, \"#7201a8\"], [0.3333333333333333, \"#9c179e\"], [0.4444444444444444, \"#bd3786\"], [0.5555555555555556, \"#d8576b\"], [0.6666666666666666, \"#ed7953\"], [0.7777777777777778, \"#fb9f3a\"], [0.8888888888888888, \"#fdca26\"], [1.0, \"#f0f921\"]], \"type\": \"histogram2dcontour\"}], \"mesh3d\": [{\"colorbar\": {\"outlinewidth\": 0, \"ticks\": \"\"}, \"type\": \"mesh3d\"}], \"parcoords\": [{\"line\": {\"colorbar\": {\"outlinewidth\": 0, \"ticks\": \"\"}}, \"type\": \"parcoords\"}], \"pie\": [{\"automargin\": true, \"type\": \"pie\"}], \"scatter\": [{\"marker\": {\"colorbar\": {\"outlinewidth\": 0, \"ticks\": \"\"}}, \"type\": \"scatter\"}], \"scatter3d\": [{\"line\": {\"colorbar\": {\"outlinewidth\": 0, \"ticks\": \"\"}}, \"marker\": {\"colorbar\": {\"outlinewidth\": 0, \"ticks\": \"\"}}, \"type\": \"scatter3d\"}], \"scattercarpet\": [{\"marker\": {\"colorbar\": {\"outlinewidth\": 0, \"ticks\": \"\"}}, \"type\": \"scattercarpet\"}], \"scattergeo\": [{\"marker\": {\"colorbar\": {\"outlinewidth\": 0, \"ticks\": \"\"}}, \"type\": \"scattergeo\"}], \"scattergl\": [{\"marker\": {\"colorbar\": {\"outlinewidth\": 0, \"ticks\": \"\"}}, \"type\": \"scattergl\"}], \"scattermapbox\": [{\"marker\": {\"colorbar\": {\"outlinewidth\": 0, \"ticks\": \"\"}}, \"type\": \"scattermapbox\"}], \"scatterpolar\": [{\"marker\": {\"colorbar\": {\"outlinewidth\": 0, \"ticks\": \"\"}}, \"type\": \"scatterpolar\"}], \"scatterpolargl\": [{\"marker\": {\"colorbar\": {\"outlinewidth\": 0, \"ticks\": \"\"}}, \"type\": \"scatterpolargl\"}], \"scatterternary\": [{\"marker\": {\"colorbar\": {\"outlinewidth\": 0, \"ticks\": \"\"}}, \"type\": \"scatterternary\"}], \"surface\": [{\"colorbar\": {\"outlinewidth\": 0, \"ticks\": \"\"}, \"colorscale\": [[0.0, \"#0d0887\"], [0.1111111111111111, \"#46039f\"], [0.2222222222222222, \"#7201a8\"], [0.3333333333333333, \"#9c179e\"], [0.4444444444444444, \"#bd3786\"], [0.5555555555555556, \"#d8576b\"], [0.6666666666666666, \"#ed7953\"], [0.7777777777777778, \"#fb9f3a\"], [0.8888888888888888, \"#fdca26\"], [1.0, \"#f0f921\"]], \"type\": \"surface\"}], \"table\": [{\"cells\": {\"fill\": {\"color\": \"#EBF0F8\"}, \"line\": {\"color\": \"white\"}}, \"header\": {\"fill\": {\"color\": \"#C8D4E3\"}, \"line\": {\"color\": \"white\"}}, \"type\": \"table\"}]}, \"layout\": {\"annotationdefaults\": {\"arrowcolor\": \"#2a3f5f\", \"arrowhead\": 0, \"arrowwidth\": 1}, \"coloraxis\": {\"colorbar\": {\"outlinewidth\": 0, \"ticks\": \"\"}}, \"colorscale\": {\"diverging\": [[0, \"#8e0152\"], [0.1, \"#c51b7d\"], [0.2, \"#de77ae\"], [0.3, \"#f1b6da\"], [0.4, \"#fde0ef\"], [0.5, \"#f7f7f7\"], [0.6, \"#e6f5d0\"], [0.7, \"#b8e186\"], [0.8, \"#7fbc41\"], [0.9, \"#4d9221\"], [1, \"#276419\"]], \"sequential\": [[0.0, \"#0d0887\"], [0.1111111111111111, \"#46039f\"], [0.2222222222222222, \"#7201a8\"], [0.3333333333333333, \"#9c179e\"], [0.4444444444444444, \"#bd3786\"], [0.5555555555555556, \"#d8576b\"], [0.6666666666666666, \"#ed7953\"], [0.7777777777777778, \"#fb9f3a\"], [0.8888888888888888, \"#fdca26\"], [1.0, \"#f0f921\"]], \"sequentialminus\": [[0.0, \"#0d0887\"], [0.1111111111111111, \"#46039f\"], [0.2222222222222222, \"#7201a8\"], [0.3333333333333333, \"#9c179e\"], [0.4444444444444444, \"#bd3786\"], [0.5555555555555556, \"#d8576b\"], [0.6666666666666666, \"#ed7953\"], [0.7777777777777778, \"#fb9f3a\"], [0.8888888888888888, \"#fdca26\"], [1.0, \"#f0f921\"]]}, \"colorway\": [\"#636efa\", \"#EF553B\", \"#00cc96\", \"#ab63fa\", \"#FFA15A\", \"#19d3f3\", \"#FF6692\", \"#B6E880\", \"#FF97FF\", \"#FECB52\"], \"font\": {\"color\": \"#2a3f5f\"}, \"geo\": {\"bgcolor\": \"white\", \"lakecolor\": \"white\", \"landcolor\": \"#E5ECF6\", \"showlakes\": true, \"showland\": true, \"subunitcolor\": \"white\"}, \"hoverlabel\": {\"align\": \"left\"}, \"hovermode\": \"closest\", \"mapbox\": {\"style\": \"light\"}, \"paper_bgcolor\": \"white\", \"plot_bgcolor\": \"#E5ECF6\", \"polar\": {\"angularaxis\": {\"gridcolor\": \"white\", \"linecolor\": \"white\", \"ticks\": \"\"}, \"bgcolor\": \"#E5ECF6\", \"radialaxis\": {\"gridcolor\": \"white\", \"linecolor\": \"white\", \"ticks\": \"\"}}, \"scene\": {\"xaxis\": {\"backgroundcolor\": \"#E5ECF6\", \"gridcolor\": \"white\", \"gridwidth\": 2, \"linecolor\": \"white\", \"showbackground\": true, \"ticks\": \"\", \"zerolinecolor\": \"white\"}, \"yaxis\": {\"backgroundcolor\": \"#E5ECF6\", \"gridcolor\": \"white\", \"gridwidth\": 2, \"linecolor\": \"white\", \"showbackground\": true, \"ticks\": \"\", \"zerolinecolor\": \"white\"}, \"zaxis\": {\"backgroundcolor\": \"#E5ECF6\", \"gridcolor\": \"white\", \"gridwidth\": 2, \"linecolor\": \"white\", \"showbackground\": true, \"ticks\": \"\", \"zerolinecolor\": \"white\"}}, \"shapedefaults\": {\"line\": {\"color\": \"#2a3f5f\"}}, \"ternary\": {\"aaxis\": {\"gridcolor\": \"white\", \"linecolor\": \"white\", \"ticks\": \"\"}, \"baxis\": {\"gridcolor\": \"white\", \"linecolor\": \"white\", \"ticks\": \"\"}, \"bgcolor\": \"#E5ECF6\", \"caxis\": {\"gridcolor\": \"white\", \"linecolor\": \"white\", \"ticks\": \"\"}}, \"title\": {\"x\": 0.05}, \"xaxis\": {\"automargin\": true, \"gridcolor\": \"white\", \"linecolor\": \"white\", \"ticks\": \"\", \"title\": {\"standoff\": 15}, \"zerolinecolor\": \"white\", \"zerolinewidth\": 2}, \"yaxis\": {\"automargin\": true, \"gridcolor\": \"white\", \"linecolor\": \"white\", \"ticks\": \"\", \"title\": {\"standoff\": 15}, \"zerolinecolor\": \"white\", \"zerolinewidth\": 2}}}, \"xaxis\": {\"anchor\": \"y\", \"domain\": [0.0, 1.0], \"title\": {\"text\": \"course_organization\"}}, \"yaxis\": {\"anchor\": \"x\", \"domain\": [0.0, 1.0], \"title\": {\"text\": \"Enrolled\"}}},\n",
              "                        {\"responsive\": true}\n",
              "                    ).then(function(){\n",
              "                            \n",
              "var gd = document.getElementById('b63d33e1-ce05-47d1-99a1-59ee7ac8261d');\n",
              "var x = new MutationObserver(function (mutations, observer) {{\n",
              "        var display = window.getComputedStyle(gd).display;\n",
              "        if (!display || display === 'none') {{\n",
              "            console.log([gd, 'removed!']);\n",
              "            Plotly.purge(gd);\n",
              "            observer.disconnect();\n",
              "        }}\n",
              "}});\n",
              "\n",
              "// Listen for the removal of the full notebook cells\n",
              "var notebookContainer = gd.closest('#notebook-container');\n",
              "if (notebookContainer) {{\n",
              "    x.observe(notebookContainer, {childList: true});\n",
              "}}\n",
              "\n",
              "// Listen for the clearing of the current output cell\n",
              "var outputEl = gd.closest('.output');\n",
              "if (outputEl) {{\n",
              "    x.observe(outputEl, {childList: true});\n",
              "}}\n",
              "\n",
              "                        })\n",
              "                };\n",
              "                \n",
              "            </script>\n",
              "        </div>\n",
              "</body>\n",
              "</html>"
            ]
          },
          "metadata": {
            "tags": []
          }
        }
      ]
    },
    {
      "cell_type": "markdown",
      "metadata": {
        "id": "xiwJfCfTqYdU",
        "colab_type": "text"
      },
      "source": [
        "So from the bar plot we can draw the information as **Johns Hopkins University** , **deeplearning.ai** , & **IBM** has *Most enrolled Courses* with respect to the Language they offer"
      ]
    },
    {
      "cell_type": "markdown",
      "metadata": {
        "id": "d-nGRRRBrQY6",
        "colab_type": "text"
      },
      "source": [
        "*So finally comes the analysis of the **Ratings** based on which a particular individual comes up with the enrollment of the Courses*"
      ]
    },
    {
      "cell_type": "markdown",
      "metadata": {
        "id": "9jS1DhVisSRH",
        "colab_type": "text"
      },
      "source": [
        "**Ratings of only AI / ML / Data Science Courses**"
      ]
    },
    {
      "cell_type": "code",
      "metadata": {
        "id": "mTWpTd2ZrPqY",
        "colab_type": "code",
        "colab": {
          "base_uri": "https://localhost:8080/",
          "height": 542
        },
        "outputId": "360e42ef-698e-4f96-d33a-3320f343692c"
      },
      "source": [
        "import plotly.express as px\n",
        "fig = px.box(data_science_df, x=\"course_organization\", y=\"course_rating\",color=\"course_difficulty\")\n",
        "#fig.update_traces(quartilemethod=\"exclusive\")\n",
        "fig.show()"
      ],
      "execution_count": 35,
      "outputs": [
        {
          "output_type": "display_data",
          "data": {
            "text/html": [
              "<html>\n",
              "<head><meta charset=\"utf-8\" /></head>\n",
              "<body>\n",
              "    <div>\n",
              "            <script src=\"https://cdnjs.cloudflare.com/ajax/libs/mathjax/2.7.5/MathJax.js?config=TeX-AMS-MML_SVG\"></script><script type=\"text/javascript\">if (window.MathJax) {MathJax.Hub.Config({SVG: {font: \"STIX-Web\"}});}</script>\n",
              "                <script type=\"text/javascript\">window.PlotlyConfig = {MathJaxConfig: 'local'};</script>\n",
              "        <script src=\"https://cdn.plot.ly/plotly-latest.min.js\"></script>    \n",
              "            <div id=\"5a195103-9baf-4691-ab2c-bd88250d5a0c\" class=\"plotly-graph-div\" style=\"height:525px; width:100%;\"></div>\n",
              "            <script type=\"text/javascript\">\n",
              "                \n",
              "                    window.PLOTLYENV=window.PLOTLYENV || {};\n",
              "                    \n",
              "                if (document.getElementById(\"5a195103-9baf-4691-ab2c-bd88250d5a0c\")) {\n",
              "                    Plotly.newPlot(\n",
              "                        '5a195103-9baf-4691-ab2c-bd88250d5a0c',\n",
              "                        [{\"alignmentgroup\": \"True\", \"hoverlabel\": {\"namelength\": 0}, \"hovertemplate\": \"course_difficulty=Mixed<br>course_organization=%{x}<br>course_rating=%{y}\", \"legendgroup\": \"course_difficulty=Mixed\", \"marker\": {\"color\": \"#636efa\"}, \"name\": \"course_difficulty=Mixed\", \"notched\": false, \"offsetgroup\": \"course_difficulty=Mixed\", \"orientation\": \"v\", \"showlegend\": true, \"type\": \"box\", \"x\": [\"Johns Hopkins University\", \"University of Pennsylvania\", \"Duke University\", \"Stanford University\", \"University of Washington\", \"University of Pennsylvania\", \"University of Pennsylvania\"], \"x0\": \" \", \"xaxis\": \"x\", \"y\": [4.5, 4.5, 4.7, 4.9, 4.6, 4.7, 4.5], \"y0\": \" \", \"yaxis\": \"y\"}, {\"alignmentgroup\": \"True\", \"hoverlabel\": {\"namelength\": 0}, \"hovertemplate\": \"course_difficulty=Beginner<br>course_organization=%{x}<br>course_rating=%{y}\", \"legendgroup\": \"course_difficulty=Beginner\", \"marker\": {\"color\": \"#EF553B\"}, \"name\": \"course_difficulty=Beginner\", \"notched\": false, \"offsetgroup\": \"course_difficulty=Beginner\", \"orientation\": \"v\", \"showlegend\": true, \"type\": \"box\", \"x\": [\"deeplearning.ai\", \"IBM\", \"IBM\", \"University of Pennsylvania\", \"University of Amsterdam\", \"Johns Hopkins University\", \"Duke University\", \"IBM\", \"Johns Hopkins University\", \"PwC\", \"University of California, Davis\", \"IBM\", \"Johns Hopkins University\", \"IBM\", \"IBM\", \"Automation Anywhere\", \"deeplearning.ai\", \"Universidad Nacional Aut\\u00f3noma de M\\u00e9xico\", \"IBM\", \"IBM\", \"EDHEC Business School\", \"University of California, Davis\", \"University of London\", \"National Research University Higher School of Economics\", \"Imperial College London\", \"Imperial College London\", \"Imperial College London\", \"MathWorks\", \"IBM\", \"SAS\", \"University of California, Davis\", \"deeplearning.ai\", \"Rutgers the State University of New Jersey\", \"University of Maryland, College Park\", \"IBM\", \"IBM\"], \"x0\": \" \", \"xaxis\": \"x\", \"y\": [4.8, 4.7, 4.6, 4.6, 4.8, 4.5, 4.5, 4.6, 4.6, 4.8, 4.5, 4.7, 4.5, 4.6, 4.6, 4.6, 4.9, 4.7, 4.7, 4.6, 4.6, 4.6, 4.6, 4.5, 4.6, 4.7, 4.7, 4.7, 4.6, 4.6, 4.6, 4.8, 4.7, 4.3, 4.6, 4.7], \"y0\": \" \", \"yaxis\": \"y\"}, {\"alignmentgroup\": \"True\", \"hoverlabel\": {\"namelength\": 0}, \"hovertemplate\": \"course_difficulty=Intermediate<br>course_organization=%{x}<br>course_rating=%{y}\", \"legendgroup\": \"course_difficulty=Intermediate\", \"marker\": {\"color\": \"#00cc96\"}, \"name\": \"course_difficulty=Intermediate\", \"notched\": false, \"offsetgroup\": \"course_difficulty=Intermediate\", \"orientation\": \"v\", \"showlegend\": true, \"type\": \"box\", \"x\": [\"deeplearning.ai\", \"deeplearning.ai\", \"deeplearning.ai\", \"deeplearning.ai\", \"University of Colorado Boulder\", \"IBM\", \"University of Michigan\", \"University of Michigan\", \"Google Cloud\", \"deeplearning.ai\", \"deeplearning.ai\", \"Google Cloud\", \"Johns Hopkins University\", \"IBM\", \"deeplearning.ai\", \"Emory University\", \"University of Alberta\", \"Johns Hopkins University\", \"Amazon Web Services\", \"Google Cloud\", \"University of California, Davis\", \"IBM\", \"University of Illinois at Urbana-Champaign\", \"University of Michigan\", \"deeplearning.ai\", \"New York Institute of Finance\", \"University of Washington\", \"New York University\", \"Google Cloud\", \"Google Cloud\", \"IBM\", \"Google Cloud\", \"Imperial College London\", \"deeplearning.ai\", \"deeplearning.ai\", \"University of Alberta\"], \"x0\": \" \", \"xaxis\": \"x\", \"y\": [4.8, 4.7, 4.6, 4.7, 4.5, 4.7, 4.5, 4.6, 4.6, 4.9, 4.7, 4.6, 4.4, 4.6, 4.8, 4.2, 4.8, 4.4, 4.5, 4.6, 4.5, 4.6, 4.7, 4.5, 4.7, 4.0, 4.6, 3.7, 4.6, 3.9, 4.7, 4.5, 4.0, 4.6, 4.9, 4.7], \"y0\": \" \", \"yaxis\": \"y\"}, {\"alignmentgroup\": \"True\", \"hoverlabel\": {\"namelength\": 0}, \"hovertemplate\": \"course_difficulty=Advanced<br>course_organization=%{x}<br>course_rating=%{y}\", \"legendgroup\": \"course_difficulty=Advanced\", \"marker\": {\"color\": \"#ab63fa\"}, \"name\": \"course_difficulty=Advanced\", \"notched\": false, \"offsetgroup\": \"course_difficulty=Advanced\", \"orientation\": \"v\", \"showlegend\": true, \"type\": \"box\", \"x\": [\"IBM\", \"National Research University Higher School of Economics\", \"Google Cloud\", \"IBM\", \"ESSEC Business School\"], \"x0\": \" \", \"xaxis\": \"x\", \"y\": [4.4, 4.5, 4.5, 4.4, 4.3], \"y0\": \" \", \"yaxis\": \"y\"}],\n",
              "                        {\"boxmode\": \"group\", \"legend\": {\"tracegroupgap\": 0}, \"margin\": {\"t\": 60}, \"template\": {\"data\": {\"bar\": [{\"error_x\": {\"color\": \"#2a3f5f\"}, \"error_y\": {\"color\": \"#2a3f5f\"}, \"marker\": {\"line\": {\"color\": \"#E5ECF6\", \"width\": 0.5}}, \"type\": \"bar\"}], \"barpolar\": [{\"marker\": {\"line\": {\"color\": \"#E5ECF6\", \"width\": 0.5}}, \"type\": \"barpolar\"}], \"carpet\": [{\"aaxis\": {\"endlinecolor\": \"#2a3f5f\", \"gridcolor\": \"white\", \"linecolor\": \"white\", \"minorgridcolor\": \"white\", \"startlinecolor\": \"#2a3f5f\"}, \"baxis\": {\"endlinecolor\": \"#2a3f5f\", \"gridcolor\": \"white\", \"linecolor\": \"white\", \"minorgridcolor\": \"white\", \"startlinecolor\": \"#2a3f5f\"}, \"type\": \"carpet\"}], \"choropleth\": [{\"colorbar\": {\"outlinewidth\": 0, \"ticks\": \"\"}, \"type\": \"choropleth\"}], \"contour\": [{\"colorbar\": {\"outlinewidth\": 0, \"ticks\": \"\"}, \"colorscale\": [[0.0, \"#0d0887\"], [0.1111111111111111, \"#46039f\"], [0.2222222222222222, \"#7201a8\"], [0.3333333333333333, \"#9c179e\"], [0.4444444444444444, \"#bd3786\"], [0.5555555555555556, \"#d8576b\"], [0.6666666666666666, \"#ed7953\"], [0.7777777777777778, \"#fb9f3a\"], [0.8888888888888888, \"#fdca26\"], [1.0, \"#f0f921\"]], \"type\": \"contour\"}], \"contourcarpet\": [{\"colorbar\": {\"outlinewidth\": 0, \"ticks\": \"\"}, \"type\": \"contourcarpet\"}], \"heatmap\": [{\"colorbar\": {\"outlinewidth\": 0, \"ticks\": \"\"}, \"colorscale\": [[0.0, \"#0d0887\"], [0.1111111111111111, \"#46039f\"], [0.2222222222222222, \"#7201a8\"], [0.3333333333333333, \"#9c179e\"], [0.4444444444444444, \"#bd3786\"], [0.5555555555555556, \"#d8576b\"], [0.6666666666666666, \"#ed7953\"], [0.7777777777777778, \"#fb9f3a\"], [0.8888888888888888, \"#fdca26\"], [1.0, \"#f0f921\"]], \"type\": \"heatmap\"}], \"heatmapgl\": [{\"colorbar\": {\"outlinewidth\": 0, \"ticks\": \"\"}, \"colorscale\": [[0.0, \"#0d0887\"], [0.1111111111111111, \"#46039f\"], [0.2222222222222222, \"#7201a8\"], [0.3333333333333333, \"#9c179e\"], [0.4444444444444444, \"#bd3786\"], [0.5555555555555556, \"#d8576b\"], [0.6666666666666666, \"#ed7953\"], [0.7777777777777778, \"#fb9f3a\"], [0.8888888888888888, \"#fdca26\"], [1.0, \"#f0f921\"]], \"type\": \"heatmapgl\"}], \"histogram\": [{\"marker\": {\"colorbar\": {\"outlinewidth\": 0, \"ticks\": \"\"}}, \"type\": \"histogram\"}], \"histogram2d\": [{\"colorbar\": {\"outlinewidth\": 0, \"ticks\": \"\"}, \"colorscale\": [[0.0, \"#0d0887\"], [0.1111111111111111, \"#46039f\"], [0.2222222222222222, \"#7201a8\"], [0.3333333333333333, \"#9c179e\"], [0.4444444444444444, \"#bd3786\"], [0.5555555555555556, \"#d8576b\"], [0.6666666666666666, \"#ed7953\"], [0.7777777777777778, \"#fb9f3a\"], [0.8888888888888888, \"#fdca26\"], [1.0, \"#f0f921\"]], \"type\": \"histogram2d\"}], \"histogram2dcontour\": [{\"colorbar\": {\"outlinewidth\": 0, \"ticks\": \"\"}, \"colorscale\": [[0.0, \"#0d0887\"], [0.1111111111111111, \"#46039f\"], [0.2222222222222222, \"#7201a8\"], [0.3333333333333333, \"#9c179e\"], [0.4444444444444444, \"#bd3786\"], [0.5555555555555556, \"#d8576b\"], [0.6666666666666666, \"#ed7953\"], [0.7777777777777778, \"#fb9f3a\"], [0.8888888888888888, \"#fdca26\"], [1.0, \"#f0f921\"]], \"type\": \"histogram2dcontour\"}], \"mesh3d\": [{\"colorbar\": {\"outlinewidth\": 0, \"ticks\": \"\"}, \"type\": \"mesh3d\"}], \"parcoords\": [{\"line\": {\"colorbar\": {\"outlinewidth\": 0, \"ticks\": \"\"}}, \"type\": \"parcoords\"}], \"pie\": [{\"automargin\": true, \"type\": \"pie\"}], \"scatter\": [{\"marker\": {\"colorbar\": {\"outlinewidth\": 0, \"ticks\": \"\"}}, \"type\": \"scatter\"}], \"scatter3d\": [{\"line\": {\"colorbar\": {\"outlinewidth\": 0, \"ticks\": \"\"}}, \"marker\": {\"colorbar\": {\"outlinewidth\": 0, \"ticks\": \"\"}}, \"type\": \"scatter3d\"}], \"scattercarpet\": [{\"marker\": {\"colorbar\": {\"outlinewidth\": 0, \"ticks\": \"\"}}, \"type\": \"scattercarpet\"}], \"scattergeo\": [{\"marker\": {\"colorbar\": {\"outlinewidth\": 0, \"ticks\": \"\"}}, \"type\": \"scattergeo\"}], \"scattergl\": [{\"marker\": {\"colorbar\": {\"outlinewidth\": 0, \"ticks\": \"\"}}, \"type\": \"scattergl\"}], \"scattermapbox\": [{\"marker\": {\"colorbar\": {\"outlinewidth\": 0, \"ticks\": \"\"}}, \"type\": \"scattermapbox\"}], \"scatterpolar\": [{\"marker\": {\"colorbar\": {\"outlinewidth\": 0, \"ticks\": \"\"}}, \"type\": \"scatterpolar\"}], \"scatterpolargl\": [{\"marker\": {\"colorbar\": {\"outlinewidth\": 0, \"ticks\": \"\"}}, \"type\": \"scatterpolargl\"}], \"scatterternary\": [{\"marker\": {\"colorbar\": {\"outlinewidth\": 0, \"ticks\": \"\"}}, \"type\": \"scatterternary\"}], \"surface\": [{\"colorbar\": {\"outlinewidth\": 0, \"ticks\": \"\"}, \"colorscale\": [[0.0, \"#0d0887\"], [0.1111111111111111, \"#46039f\"], [0.2222222222222222, \"#7201a8\"], [0.3333333333333333, \"#9c179e\"], [0.4444444444444444, \"#bd3786\"], [0.5555555555555556, \"#d8576b\"], [0.6666666666666666, \"#ed7953\"], [0.7777777777777778, \"#fb9f3a\"], [0.8888888888888888, \"#fdca26\"], [1.0, \"#f0f921\"]], \"type\": \"surface\"}], \"table\": [{\"cells\": {\"fill\": {\"color\": \"#EBF0F8\"}, \"line\": {\"color\": \"white\"}}, \"header\": {\"fill\": {\"color\": \"#C8D4E3\"}, \"line\": {\"color\": \"white\"}}, \"type\": \"table\"}]}, \"layout\": {\"annotationdefaults\": {\"arrowcolor\": \"#2a3f5f\", \"arrowhead\": 0, \"arrowwidth\": 1}, \"coloraxis\": {\"colorbar\": {\"outlinewidth\": 0, \"ticks\": \"\"}}, \"colorscale\": {\"diverging\": [[0, \"#8e0152\"], [0.1, \"#c51b7d\"], [0.2, \"#de77ae\"], [0.3, \"#f1b6da\"], [0.4, \"#fde0ef\"], [0.5, \"#f7f7f7\"], [0.6, \"#e6f5d0\"], [0.7, \"#b8e186\"], [0.8, \"#7fbc41\"], [0.9, \"#4d9221\"], [1, \"#276419\"]], \"sequential\": [[0.0, \"#0d0887\"], [0.1111111111111111, \"#46039f\"], [0.2222222222222222, \"#7201a8\"], [0.3333333333333333, \"#9c179e\"], [0.4444444444444444, \"#bd3786\"], [0.5555555555555556, \"#d8576b\"], [0.6666666666666666, \"#ed7953\"], [0.7777777777777778, \"#fb9f3a\"], [0.8888888888888888, \"#fdca26\"], [1.0, \"#f0f921\"]], \"sequentialminus\": [[0.0, \"#0d0887\"], [0.1111111111111111, \"#46039f\"], [0.2222222222222222, \"#7201a8\"], [0.3333333333333333, \"#9c179e\"], [0.4444444444444444, \"#bd3786\"], [0.5555555555555556, \"#d8576b\"], [0.6666666666666666, \"#ed7953\"], [0.7777777777777778, \"#fb9f3a\"], [0.8888888888888888, \"#fdca26\"], [1.0, \"#f0f921\"]]}, \"colorway\": [\"#636efa\", \"#EF553B\", \"#00cc96\", \"#ab63fa\", \"#FFA15A\", \"#19d3f3\", \"#FF6692\", \"#B6E880\", \"#FF97FF\", \"#FECB52\"], \"font\": {\"color\": \"#2a3f5f\"}, \"geo\": {\"bgcolor\": \"white\", \"lakecolor\": \"white\", \"landcolor\": \"#E5ECF6\", \"showlakes\": true, \"showland\": true, \"subunitcolor\": \"white\"}, \"hoverlabel\": {\"align\": \"left\"}, \"hovermode\": \"closest\", \"mapbox\": {\"style\": \"light\"}, \"paper_bgcolor\": \"white\", \"plot_bgcolor\": \"#E5ECF6\", \"polar\": {\"angularaxis\": {\"gridcolor\": \"white\", \"linecolor\": \"white\", \"ticks\": \"\"}, \"bgcolor\": \"#E5ECF6\", \"radialaxis\": {\"gridcolor\": \"white\", \"linecolor\": \"white\", \"ticks\": \"\"}}, \"scene\": {\"xaxis\": {\"backgroundcolor\": \"#E5ECF6\", \"gridcolor\": \"white\", \"gridwidth\": 2, \"linecolor\": \"white\", \"showbackground\": true, \"ticks\": \"\", \"zerolinecolor\": \"white\"}, \"yaxis\": {\"backgroundcolor\": \"#E5ECF6\", \"gridcolor\": \"white\", \"gridwidth\": 2, \"linecolor\": \"white\", \"showbackground\": true, \"ticks\": \"\", \"zerolinecolor\": \"white\"}, \"zaxis\": {\"backgroundcolor\": \"#E5ECF6\", \"gridcolor\": \"white\", \"gridwidth\": 2, \"linecolor\": \"white\", \"showbackground\": true, \"ticks\": \"\", \"zerolinecolor\": \"white\"}}, \"shapedefaults\": {\"line\": {\"color\": \"#2a3f5f\"}}, \"ternary\": {\"aaxis\": {\"gridcolor\": \"white\", \"linecolor\": \"white\", \"ticks\": \"\"}, \"baxis\": {\"gridcolor\": \"white\", \"linecolor\": \"white\", \"ticks\": \"\"}, \"bgcolor\": \"#E5ECF6\", \"caxis\": {\"gridcolor\": \"white\", \"linecolor\": \"white\", \"ticks\": \"\"}}, \"title\": {\"x\": 0.05}, \"xaxis\": {\"automargin\": true, \"gridcolor\": \"white\", \"linecolor\": \"white\", \"ticks\": \"\", \"title\": {\"standoff\": 15}, \"zerolinecolor\": \"white\", \"zerolinewidth\": 2}, \"yaxis\": {\"automargin\": true, \"gridcolor\": \"white\", \"linecolor\": \"white\", \"ticks\": \"\", \"title\": {\"standoff\": 15}, \"zerolinecolor\": \"white\", \"zerolinewidth\": 2}}}, \"xaxis\": {\"anchor\": \"y\", \"domain\": [0.0, 1.0], \"title\": {\"text\": \"course_organization\"}}, \"yaxis\": {\"anchor\": \"x\", \"domain\": [0.0, 1.0], \"title\": {\"text\": \"course_rating\"}}},\n",
              "                        {\"responsive\": true}\n",
              "                    ).then(function(){\n",
              "                            \n",
              "var gd = document.getElementById('5a195103-9baf-4691-ab2c-bd88250d5a0c');\n",
              "var x = new MutationObserver(function (mutations, observer) {{\n",
              "        var display = window.getComputedStyle(gd).display;\n",
              "        if (!display || display === 'none') {{\n",
              "            console.log([gd, 'removed!']);\n",
              "            Plotly.purge(gd);\n",
              "            observer.disconnect();\n",
              "        }}\n",
              "}});\n",
              "\n",
              "// Listen for the removal of the full notebook cells\n",
              "var notebookContainer = gd.closest('#notebook-container');\n",
              "if (notebookContainer) {{\n",
              "    x.observe(notebookContainer, {childList: true});\n",
              "}}\n",
              "\n",
              "// Listen for the clearing of the current output cell\n",
              "var outputEl = gd.closest('.output');\n",
              "if (outputEl) {{\n",
              "    x.observe(outputEl, {childList: true});\n",
              "}}\n",
              "\n",
              "                        })\n",
              "                };\n",
              "                \n",
              "            </script>\n",
              "        </div>\n",
              "</body>\n",
              "</html>"
            ]
          },
          "metadata": {
            "tags": []
          }
        }
      ]
    },
    {
      "cell_type": "code",
      "metadata": {
        "id": "CORGG2DfqJKl",
        "colab_type": "code",
        "colab": {
          "base_uri": "https://localhost:8080/",
          "height": 542
        },
        "outputId": "8ee1e9ec-3240-4e52-efe5-1fc5486460a1"
      },
      "source": [
        "import plotly.express as px\n",
        "fig = px.bar(data_science_df, x=\"course_organization\", y=\"Enrolled\",color=\"course_difficulty\")\n",
        "fig.show()"
      ],
      "execution_count": 36,
      "outputs": [
        {
          "output_type": "display_data",
          "data": {
            "text/html": [
              "<html>\n",
              "<head><meta charset=\"utf-8\" /></head>\n",
              "<body>\n",
              "    <div>\n",
              "            <script src=\"https://cdnjs.cloudflare.com/ajax/libs/mathjax/2.7.5/MathJax.js?config=TeX-AMS-MML_SVG\"></script><script type=\"text/javascript\">if (window.MathJax) {MathJax.Hub.Config({SVG: {font: \"STIX-Web\"}});}</script>\n",
              "                <script type=\"text/javascript\">window.PlotlyConfig = {MathJaxConfig: 'local'};</script>\n",
              "        <script src=\"https://cdn.plot.ly/plotly-latest.min.js\"></script>    \n",
              "            <div id=\"3a070f6b-2bb3-4a6b-8e5f-5bcc2d01ec35\" class=\"plotly-graph-div\" style=\"height:525px; width:100%;\"></div>\n",
              "            <script type=\"text/javascript\">\n",
              "                \n",
              "                    window.PLOTLYENV=window.PLOTLYENV || {};\n",
              "                    \n",
              "                if (document.getElementById(\"3a070f6b-2bb3-4a6b-8e5f-5bcc2d01ec35\")) {\n",
              "                    Plotly.newPlot(\n",
              "                        '3a070f6b-2bb3-4a6b-8e5f-5bcc2d01ec35',\n",
              "                        [{\"alignmentgroup\": \"True\", \"hoverlabel\": {\"namelength\": 0}, \"hovertemplate\": \"course_difficulty=Mixed<br>course_organization=%{x}<br>Enrolled=%{y}\", \"legendgroup\": \"course_difficulty=Mixed\", \"marker\": {\"color\": \"#636efa\"}, \"name\": \"course_difficulty=Mixed\", \"offsetgroup\": \"course_difficulty=Mixed\", \"orientation\": \"v\", \"showlegend\": true, \"textposition\": \"auto\", \"type\": \"bar\", \"x\": [\"Johns Hopkins University\", \"University of Pennsylvania\", \"Duke University\", \"Stanford University\", \"University of Washington\", \"University of Pennsylvania\", \"University of Pennsylvania\"], \"xaxis\": \"x\", \"y\": [130000.0, 80000.0, 130000.0, 3200.0, 240000.0, 80000.0, 84000.0], \"yaxis\": \"y\"}, {\"alignmentgroup\": \"True\", \"hoverlabel\": {\"namelength\": 0}, \"hovertemplate\": \"course_difficulty=Beginner<br>course_organization=%{x}<br>Enrolled=%{y}\", \"legendgroup\": \"course_difficulty=Beginner\", \"marker\": {\"color\": \"#EF553B\"}, \"name\": \"course_difficulty=Beginner\", \"offsetgroup\": \"course_difficulty=Beginner\", \"orientation\": \"v\", \"showlegend\": true, \"textposition\": \"auto\", \"type\": \"bar\", \"x\": [\"deeplearning.ai\", \"IBM\", \"IBM\", \"University of Pennsylvania\", \"University of Amsterdam\", \"Johns Hopkins University\", \"Duke University\", \"IBM\", \"Johns Hopkins University\", \"PwC\", \"University of California, Davis\", \"IBM\", \"Johns Hopkins University\", \"IBM\", \"IBM\", \"Automation Anywhere\", \"deeplearning.ai\", \"Universidad Nacional Aut\\u00f3noma de M\\u00e9xico\", \"IBM\", \"IBM\", \"EDHEC Business School\", \"University of California, Davis\", \"University of London\", \"National Research University Higher School of Economics\", \"Imperial College London\", \"Imperial College London\", \"Imperial College London\", \"MathWorks\", \"IBM\", \"SAS\", \"University of California, Davis\", \"deeplearning.ai\", \"Rutgers the State University of New Jersey\", \"University of Maryland, College Park\", \"IBM\", \"IBM\"], \"xaxis\": \"x\", \"y\": [350000.0, 61000.0, 220000.0, 280000.0, 24000.0, 830000.0, 140000.0, 89000.0, 740000.0, 60000.0, 96000.0, 110000.0, 170000.0, 220000.0, 480000.0, 2200.0, 270000.0, 140000.0, 44000.0, 310000.0, 14000.0, 160000.0, 19000.0, 12000.0, 150000.0, 140000.0, 51000.0, 10000.0, 170000.0, 2600.0, 160000.0, 220000.0, 7900.0, 45000.0, 120000.0, 260000.0], \"yaxis\": \"y\"}, {\"alignmentgroup\": \"True\", \"hoverlabel\": {\"namelength\": 0}, \"hovertemplate\": \"course_difficulty=Intermediate<br>course_organization=%{x}<br>Enrolled=%{y}\", \"legendgroup\": \"course_difficulty=Intermediate\", \"marker\": {\"color\": \"#00cc96\"}, \"name\": \"course_difficulty=Intermediate\", \"offsetgroup\": \"course_difficulty=Intermediate\", \"orientation\": \"v\", \"showlegend\": true, \"textposition\": \"auto\", \"type\": \"bar\", \"x\": [\"deeplearning.ai\", \"deeplearning.ai\", \"deeplearning.ai\", \"deeplearning.ai\", \"University of Colorado Boulder\", \"IBM\", \"University of Michigan\", \"University of Michigan\", \"Google Cloud\", \"deeplearning.ai\", \"deeplearning.ai\", \"Google Cloud\", \"Johns Hopkins University\", \"IBM\", \"deeplearning.ai\", \"Emory University\", \"University of Alberta\", \"Johns Hopkins University\", \"Amazon Web Services\", \"Google Cloud\", \"University of California, Davis\", \"IBM\", \"University of Illinois at Urbana-Champaign\", \"University of Michigan\", \"deeplearning.ai\", \"New York Institute of Finance\", \"University of Washington\", \"New York University\", \"Google Cloud\", \"Google Cloud\", \"IBM\", \"Google Cloud\", \"Imperial College London\", \"deeplearning.ai\", \"deeplearning.ai\", \"University of Alberta\"], \"xaxis\": \"x\", \"y\": [2400.0, 12000.0, 4000.0, 13000.0, 78000.0, 42000.0, 480000.0, 150000.0, 5800.0, 240000.0, 46000.0, 120000.0, 210000.0, 66000.0, 690000.0, 27000.0, 22000.0, 80000.0, 73000.0, 120000.0, 5400.0, 140000.0, 14000.0, 390000.0, 150000.0, 13000.0, 290000.0, 29000.0, 58000.0, 15000.0, 120000.0, 72000.0, 33000.0, 40000.0, 630000.0, 23000.0], \"yaxis\": \"y\"}, {\"alignmentgroup\": \"True\", \"hoverlabel\": {\"namelength\": 0}, \"hovertemplate\": \"course_difficulty=Advanced<br>course_organization=%{x}<br>Enrolled=%{y}\", \"legendgroup\": \"course_difficulty=Advanced\", \"marker\": {\"color\": \"#ab63fa\"}, \"name\": \"course_difficulty=Advanced\", \"offsetgroup\": \"course_difficulty=Advanced\", \"orientation\": \"v\", \"showlegend\": true, \"textposition\": \"auto\", \"type\": \"bar\", \"x\": [\"IBM\", \"National Research University Higher School of Economics\", \"Google Cloud\", \"IBM\", \"ESSEC Business School\"], \"xaxis\": \"x\", \"y\": [320000.0, 190000.0, 35000.0, 3500.0, 60000.0], \"yaxis\": \"y\"}],\n",
              "                        {\"barmode\": \"relative\", \"legend\": {\"tracegroupgap\": 0}, \"margin\": {\"t\": 60}, \"template\": {\"data\": {\"bar\": [{\"error_x\": {\"color\": \"#2a3f5f\"}, \"error_y\": {\"color\": \"#2a3f5f\"}, \"marker\": {\"line\": {\"color\": \"#E5ECF6\", \"width\": 0.5}}, \"type\": \"bar\"}], \"barpolar\": [{\"marker\": {\"line\": {\"color\": \"#E5ECF6\", \"width\": 0.5}}, \"type\": \"barpolar\"}], \"carpet\": [{\"aaxis\": {\"endlinecolor\": \"#2a3f5f\", \"gridcolor\": \"white\", \"linecolor\": \"white\", \"minorgridcolor\": \"white\", \"startlinecolor\": \"#2a3f5f\"}, \"baxis\": {\"endlinecolor\": \"#2a3f5f\", \"gridcolor\": \"white\", \"linecolor\": \"white\", \"minorgridcolor\": \"white\", \"startlinecolor\": \"#2a3f5f\"}, \"type\": \"carpet\"}], \"choropleth\": [{\"colorbar\": {\"outlinewidth\": 0, \"ticks\": \"\"}, \"type\": \"choropleth\"}], \"contour\": [{\"colorbar\": {\"outlinewidth\": 0, \"ticks\": \"\"}, \"colorscale\": [[0.0, \"#0d0887\"], [0.1111111111111111, \"#46039f\"], [0.2222222222222222, \"#7201a8\"], [0.3333333333333333, \"#9c179e\"], [0.4444444444444444, \"#bd3786\"], [0.5555555555555556, \"#d8576b\"], [0.6666666666666666, \"#ed7953\"], [0.7777777777777778, \"#fb9f3a\"], [0.8888888888888888, \"#fdca26\"], [1.0, \"#f0f921\"]], \"type\": \"contour\"}], \"contourcarpet\": [{\"colorbar\": {\"outlinewidth\": 0, \"ticks\": \"\"}, \"type\": \"contourcarpet\"}], \"heatmap\": [{\"colorbar\": {\"outlinewidth\": 0, \"ticks\": \"\"}, \"colorscale\": [[0.0, \"#0d0887\"], [0.1111111111111111, \"#46039f\"], [0.2222222222222222, \"#7201a8\"], [0.3333333333333333, \"#9c179e\"], [0.4444444444444444, \"#bd3786\"], [0.5555555555555556, \"#d8576b\"], [0.6666666666666666, \"#ed7953\"], [0.7777777777777778, \"#fb9f3a\"], [0.8888888888888888, \"#fdca26\"], [1.0, \"#f0f921\"]], \"type\": \"heatmap\"}], \"heatmapgl\": [{\"colorbar\": {\"outlinewidth\": 0, \"ticks\": \"\"}, \"colorscale\": [[0.0, \"#0d0887\"], [0.1111111111111111, \"#46039f\"], [0.2222222222222222, \"#7201a8\"], [0.3333333333333333, \"#9c179e\"], [0.4444444444444444, \"#bd3786\"], [0.5555555555555556, \"#d8576b\"], [0.6666666666666666, \"#ed7953\"], [0.7777777777777778, \"#fb9f3a\"], [0.8888888888888888, \"#fdca26\"], [1.0, \"#f0f921\"]], \"type\": \"heatmapgl\"}], \"histogram\": [{\"marker\": {\"colorbar\": {\"outlinewidth\": 0, \"ticks\": \"\"}}, \"type\": \"histogram\"}], \"histogram2d\": [{\"colorbar\": {\"outlinewidth\": 0, \"ticks\": \"\"}, \"colorscale\": [[0.0, \"#0d0887\"], [0.1111111111111111, \"#46039f\"], [0.2222222222222222, \"#7201a8\"], [0.3333333333333333, \"#9c179e\"], [0.4444444444444444, \"#bd3786\"], [0.5555555555555556, \"#d8576b\"], [0.6666666666666666, \"#ed7953\"], [0.7777777777777778, \"#fb9f3a\"], [0.8888888888888888, \"#fdca26\"], [1.0, \"#f0f921\"]], \"type\": \"histogram2d\"}], \"histogram2dcontour\": [{\"colorbar\": {\"outlinewidth\": 0, \"ticks\": \"\"}, \"colorscale\": [[0.0, \"#0d0887\"], [0.1111111111111111, \"#46039f\"], [0.2222222222222222, \"#7201a8\"], [0.3333333333333333, \"#9c179e\"], [0.4444444444444444, \"#bd3786\"], [0.5555555555555556, \"#d8576b\"], [0.6666666666666666, \"#ed7953\"], [0.7777777777777778, \"#fb9f3a\"], [0.8888888888888888, \"#fdca26\"], [1.0, \"#f0f921\"]], \"type\": \"histogram2dcontour\"}], \"mesh3d\": [{\"colorbar\": {\"outlinewidth\": 0, \"ticks\": \"\"}, \"type\": \"mesh3d\"}], \"parcoords\": [{\"line\": {\"colorbar\": {\"outlinewidth\": 0, \"ticks\": \"\"}}, \"type\": \"parcoords\"}], \"pie\": [{\"automargin\": true, \"type\": \"pie\"}], \"scatter\": [{\"marker\": {\"colorbar\": {\"outlinewidth\": 0, \"ticks\": \"\"}}, \"type\": \"scatter\"}], \"scatter3d\": [{\"line\": {\"colorbar\": {\"outlinewidth\": 0, \"ticks\": \"\"}}, \"marker\": {\"colorbar\": {\"outlinewidth\": 0, \"ticks\": \"\"}}, \"type\": \"scatter3d\"}], \"scattercarpet\": [{\"marker\": {\"colorbar\": {\"outlinewidth\": 0, \"ticks\": \"\"}}, \"type\": \"scattercarpet\"}], \"scattergeo\": [{\"marker\": {\"colorbar\": {\"outlinewidth\": 0, \"ticks\": \"\"}}, \"type\": \"scattergeo\"}], \"scattergl\": [{\"marker\": {\"colorbar\": {\"outlinewidth\": 0, \"ticks\": \"\"}}, \"type\": \"scattergl\"}], \"scattermapbox\": [{\"marker\": {\"colorbar\": {\"outlinewidth\": 0, \"ticks\": \"\"}}, \"type\": \"scattermapbox\"}], \"scatterpolar\": [{\"marker\": {\"colorbar\": {\"outlinewidth\": 0, \"ticks\": \"\"}}, \"type\": \"scatterpolar\"}], \"scatterpolargl\": [{\"marker\": {\"colorbar\": {\"outlinewidth\": 0, \"ticks\": \"\"}}, \"type\": \"scatterpolargl\"}], \"scatterternary\": [{\"marker\": {\"colorbar\": {\"outlinewidth\": 0, \"ticks\": \"\"}}, \"type\": \"scatterternary\"}], \"surface\": [{\"colorbar\": {\"outlinewidth\": 0, \"ticks\": \"\"}, \"colorscale\": [[0.0, \"#0d0887\"], [0.1111111111111111, \"#46039f\"], [0.2222222222222222, \"#7201a8\"], [0.3333333333333333, \"#9c179e\"], [0.4444444444444444, \"#bd3786\"], [0.5555555555555556, \"#d8576b\"], [0.6666666666666666, \"#ed7953\"], [0.7777777777777778, \"#fb9f3a\"], [0.8888888888888888, \"#fdca26\"], [1.0, \"#f0f921\"]], \"type\": \"surface\"}], \"table\": [{\"cells\": {\"fill\": {\"color\": \"#EBF0F8\"}, \"line\": {\"color\": \"white\"}}, \"header\": {\"fill\": {\"color\": \"#C8D4E3\"}, \"line\": {\"color\": \"white\"}}, \"type\": \"table\"}]}, \"layout\": {\"annotationdefaults\": {\"arrowcolor\": \"#2a3f5f\", \"arrowhead\": 0, \"arrowwidth\": 1}, \"coloraxis\": {\"colorbar\": {\"outlinewidth\": 0, \"ticks\": \"\"}}, \"colorscale\": {\"diverging\": [[0, \"#8e0152\"], [0.1, \"#c51b7d\"], [0.2, \"#de77ae\"], [0.3, \"#f1b6da\"], [0.4, \"#fde0ef\"], [0.5, \"#f7f7f7\"], [0.6, \"#e6f5d0\"], [0.7, \"#b8e186\"], [0.8, \"#7fbc41\"], [0.9, \"#4d9221\"], [1, \"#276419\"]], \"sequential\": [[0.0, \"#0d0887\"], [0.1111111111111111, \"#46039f\"], [0.2222222222222222, \"#7201a8\"], [0.3333333333333333, \"#9c179e\"], [0.4444444444444444, \"#bd3786\"], [0.5555555555555556, \"#d8576b\"], [0.6666666666666666, \"#ed7953\"], [0.7777777777777778, \"#fb9f3a\"], [0.8888888888888888, \"#fdca26\"], [1.0, \"#f0f921\"]], \"sequentialminus\": [[0.0, \"#0d0887\"], [0.1111111111111111, \"#46039f\"], [0.2222222222222222, \"#7201a8\"], [0.3333333333333333, \"#9c179e\"], [0.4444444444444444, \"#bd3786\"], [0.5555555555555556, \"#d8576b\"], [0.6666666666666666, \"#ed7953\"], [0.7777777777777778, \"#fb9f3a\"], [0.8888888888888888, \"#fdca26\"], [1.0, \"#f0f921\"]]}, \"colorway\": [\"#636efa\", \"#EF553B\", \"#00cc96\", \"#ab63fa\", \"#FFA15A\", \"#19d3f3\", \"#FF6692\", \"#B6E880\", \"#FF97FF\", \"#FECB52\"], \"font\": {\"color\": \"#2a3f5f\"}, \"geo\": {\"bgcolor\": \"white\", \"lakecolor\": \"white\", \"landcolor\": \"#E5ECF6\", \"showlakes\": true, \"showland\": true, \"subunitcolor\": \"white\"}, \"hoverlabel\": {\"align\": \"left\"}, \"hovermode\": \"closest\", \"mapbox\": {\"style\": \"light\"}, \"paper_bgcolor\": \"white\", \"plot_bgcolor\": \"#E5ECF6\", \"polar\": {\"angularaxis\": {\"gridcolor\": \"white\", \"linecolor\": \"white\", \"ticks\": \"\"}, \"bgcolor\": \"#E5ECF6\", \"radialaxis\": {\"gridcolor\": \"white\", \"linecolor\": \"white\", \"ticks\": \"\"}}, \"scene\": {\"xaxis\": {\"backgroundcolor\": \"#E5ECF6\", \"gridcolor\": \"white\", \"gridwidth\": 2, \"linecolor\": \"white\", \"showbackground\": true, \"ticks\": \"\", \"zerolinecolor\": \"white\"}, \"yaxis\": {\"backgroundcolor\": \"#E5ECF6\", \"gridcolor\": \"white\", \"gridwidth\": 2, \"linecolor\": \"white\", \"showbackground\": true, \"ticks\": \"\", \"zerolinecolor\": \"white\"}, \"zaxis\": {\"backgroundcolor\": \"#E5ECF6\", \"gridcolor\": \"white\", \"gridwidth\": 2, \"linecolor\": \"white\", \"showbackground\": true, \"ticks\": \"\", \"zerolinecolor\": \"white\"}}, \"shapedefaults\": {\"line\": {\"color\": \"#2a3f5f\"}}, \"ternary\": {\"aaxis\": {\"gridcolor\": \"white\", \"linecolor\": \"white\", \"ticks\": \"\"}, \"baxis\": {\"gridcolor\": \"white\", \"linecolor\": \"white\", \"ticks\": \"\"}, \"bgcolor\": \"#E5ECF6\", \"caxis\": {\"gridcolor\": \"white\", \"linecolor\": \"white\", \"ticks\": \"\"}}, \"title\": {\"x\": 0.05}, \"xaxis\": {\"automargin\": true, \"gridcolor\": \"white\", \"linecolor\": \"white\", \"ticks\": \"\", \"title\": {\"standoff\": 15}, \"zerolinecolor\": \"white\", \"zerolinewidth\": 2}, \"yaxis\": {\"automargin\": true, \"gridcolor\": \"white\", \"linecolor\": \"white\", \"ticks\": \"\", \"title\": {\"standoff\": 15}, \"zerolinecolor\": \"white\", \"zerolinewidth\": 2}}}, \"xaxis\": {\"anchor\": \"y\", \"domain\": [0.0, 1.0], \"title\": {\"text\": \"course_organization\"}}, \"yaxis\": {\"anchor\": \"x\", \"domain\": [0.0, 1.0], \"title\": {\"text\": \"Enrolled\"}}},\n",
              "                        {\"responsive\": true}\n",
              "                    ).then(function(){\n",
              "                            \n",
              "var gd = document.getElementById('3a070f6b-2bb3-4a6b-8e5f-5bcc2d01ec35');\n",
              "var x = new MutationObserver(function (mutations, observer) {{\n",
              "        var display = window.getComputedStyle(gd).display;\n",
              "        if (!display || display === 'none') {{\n",
              "            console.log([gd, 'removed!']);\n",
              "            Plotly.purge(gd);\n",
              "            observer.disconnect();\n",
              "        }}\n",
              "}});\n",
              "\n",
              "// Listen for the removal of the full notebook cells\n",
              "var notebookContainer = gd.closest('#notebook-container');\n",
              "if (notebookContainer) {{\n",
              "    x.observe(notebookContainer, {childList: true});\n",
              "}}\n",
              "\n",
              "// Listen for the clearing of the current output cell\n",
              "var outputEl = gd.closest('.output');\n",
              "if (outputEl) {{\n",
              "    x.observe(outputEl, {childList: true});\n",
              "}}\n",
              "\n",
              "                        })\n",
              "                };\n",
              "                \n",
              "            </script>\n",
              "        </div>\n",
              "</body>\n",
              "</html>"
            ]
          },
          "metadata": {
            "tags": []
          }
        }
      ]
    },
    {
      "cell_type": "markdown",
      "metadata": {
        "id": "MuWYvlNsZBbU",
        "colab_type": "text"
      },
      "source": [
        "**Top Rated course and specialization**"
      ]
    },
    {
      "cell_type": "code",
      "metadata": {
        "id": "chcGpRX4t-6I",
        "colab_type": "code",
        "colab": {
          "base_uri": "https://localhost:8080/",
          "height": 1000
        },
        "outputId": "3539601d-135e-4771-90d8-3d3820d2d4c9"
      },
      "source": [
        "university_specialization=data_science_df.groupby(['course_organization','course_Certificate_type'],as_index=False).course_rating.mean()\n",
        "university_specialization.sort_values(by='course_rating',ascending=False)"
      ],
      "execution_count": 37,
      "outputs": [
        {
          "output_type": "execute_result",
          "data": {
            "text/html": [
              "<div>\n",
              "<style scoped>\n",
              "    .dataframe tbody tr th:only-of-type {\n",
              "        vertical-align: middle;\n",
              "    }\n",
              "\n",
              "    .dataframe tbody tr th {\n",
              "        vertical-align: top;\n",
              "    }\n",
              "\n",
              "    .dataframe thead th {\n",
              "        text-align: right;\n",
              "    }\n",
              "</style>\n",
              "<table border=\"1\" class=\"dataframe\">\n",
              "  <thead>\n",
              "    <tr style=\"text-align: right;\">\n",
              "      <th></th>\n",
              "      <th>course_organization</th>\n",
              "      <th>course_Certificate_type</th>\n",
              "      <th>course_rating</th>\n",
              "    </tr>\n",
              "  </thead>\n",
              "  <tbody>\n",
              "    <tr>\n",
              "      <th>22</th>\n",
              "      <td>Stanford University</td>\n",
              "      <td>COURSE</td>\n",
              "      <td>4.900000</td>\n",
              "    </tr>\n",
              "    <tr>\n",
              "      <th>26</th>\n",
              "      <td>University of Amsterdam</td>\n",
              "      <td>COURSE</td>\n",
              "      <td>4.800000</td>\n",
              "    </tr>\n",
              "    <tr>\n",
              "      <th>24</th>\n",
              "      <td>University of Alberta</td>\n",
              "      <td>COURSE</td>\n",
              "      <td>4.800000</td>\n",
              "    </tr>\n",
              "    <tr>\n",
              "      <th>19</th>\n",
              "      <td>PwC</td>\n",
              "      <td>COURSE</td>\n",
              "      <td>4.800000</td>\n",
              "    </tr>\n",
              "    <tr>\n",
              "      <th>39</th>\n",
              "      <td>deeplearning.ai</td>\n",
              "      <td>COURSE</td>\n",
              "      <td>4.763636</td>\n",
              "    </tr>\n",
              "    <tr>\n",
              "      <th>40</th>\n",
              "      <td>deeplearning.ai</td>\n",
              "      <td>SPECIALIZATION</td>\n",
              "      <td>4.750000</td>\n",
              "    </tr>\n",
              "    <tr>\n",
              "      <th>15</th>\n",
              "      <td>MathWorks</td>\n",
              "      <td>SPECIALIZATION</td>\n",
              "      <td>4.700000</td>\n",
              "    </tr>\n",
              "    <tr>\n",
              "      <th>30</th>\n",
              "      <td>University of Illinois at Urbana-Champaign</td>\n",
              "      <td>COURSE</td>\n",
              "      <td>4.700000</td>\n",
              "    </tr>\n",
              "    <tr>\n",
              "      <th>25</th>\n",
              "      <td>University of Alberta</td>\n",
              "      <td>SPECIALIZATION</td>\n",
              "      <td>4.700000</td>\n",
              "    </tr>\n",
              "    <tr>\n",
              "      <th>23</th>\n",
              "      <td>Universidad Nacional Autónoma de México</td>\n",
              "      <td>COURSE</td>\n",
              "      <td>4.700000</td>\n",
              "    </tr>\n",
              "    <tr>\n",
              "      <th>20</th>\n",
              "      <td>Rutgers the State University of New Jersey</td>\n",
              "      <td>COURSE</td>\n",
              "      <td>4.700000</td>\n",
              "    </tr>\n",
              "    <tr>\n",
              "      <th>8</th>\n",
              "      <td>IBM</td>\n",
              "      <td>COURSE</td>\n",
              "      <td>4.655556</td>\n",
              "    </tr>\n",
              "    <tr>\n",
              "      <th>36</th>\n",
              "      <td>University of Pennsylvania</td>\n",
              "      <td>SPECIALIZATION</td>\n",
              "      <td>4.600000</td>\n",
              "    </tr>\n",
              "    <tr>\n",
              "      <th>31</th>\n",
              "      <td>University of London</td>\n",
              "      <td>COURSE</td>\n",
              "      <td>4.600000</td>\n",
              "    </tr>\n",
              "    <tr>\n",
              "      <th>3</th>\n",
              "      <td>EDHEC Business School</td>\n",
              "      <td>SPECIALIZATION</td>\n",
              "      <td>4.600000</td>\n",
              "    </tr>\n",
              "    <tr>\n",
              "      <th>27</th>\n",
              "      <td>University of California, Davis</td>\n",
              "      <td>COURSE</td>\n",
              "      <td>4.600000</td>\n",
              "    </tr>\n",
              "    <tr>\n",
              "      <th>2</th>\n",
              "      <td>Duke University</td>\n",
              "      <td>COURSE</td>\n",
              "      <td>4.600000</td>\n",
              "    </tr>\n",
              "    <tr>\n",
              "      <th>38</th>\n",
              "      <td>University of Washington</td>\n",
              "      <td>SPECIALIZATION</td>\n",
              "      <td>4.600000</td>\n",
              "    </tr>\n",
              "    <tr>\n",
              "      <th>9</th>\n",
              "      <td>IBM</td>\n",
              "      <td>PROFESSIONAL CERTIFICATE</td>\n",
              "      <td>4.600000</td>\n",
              "    </tr>\n",
              "    <tr>\n",
              "      <th>1</th>\n",
              "      <td>Automation Anywhere</td>\n",
              "      <td>SPECIALIZATION</td>\n",
              "      <td>4.600000</td>\n",
              "    </tr>\n",
              "    <tr>\n",
              "      <th>21</th>\n",
              "      <td>SAS</td>\n",
              "      <td>PROFESSIONAL CERTIFICATE</td>\n",
              "      <td>4.600000</td>\n",
              "    </tr>\n",
              "    <tr>\n",
              "      <th>12</th>\n",
              "      <td>Imperial College London</td>\n",
              "      <td>SPECIALIZATION</td>\n",
              "      <td>4.600000</td>\n",
              "    </tr>\n",
              "    <tr>\n",
              "      <th>37</th>\n",
              "      <td>University of Washington</td>\n",
              "      <td>COURSE</td>\n",
              "      <td>4.600000</td>\n",
              "    </tr>\n",
              "    <tr>\n",
              "      <th>6</th>\n",
              "      <td>Google Cloud</td>\n",
              "      <td>COURSE</td>\n",
              "      <td>4.600000</td>\n",
              "    </tr>\n",
              "    <tr>\n",
              "      <th>35</th>\n",
              "      <td>University of Pennsylvania</td>\n",
              "      <td>COURSE</td>\n",
              "      <td>4.566667</td>\n",
              "    </tr>\n",
              "    <tr>\n",
              "      <th>33</th>\n",
              "      <td>University of Michigan</td>\n",
              "      <td>COURSE</td>\n",
              "      <td>4.550000</td>\n",
              "    </tr>\n",
              "    <tr>\n",
              "      <th>10</th>\n",
              "      <td>IBM</td>\n",
              "      <td>SPECIALIZATION</td>\n",
              "      <td>4.540000</td>\n",
              "    </tr>\n",
              "    <tr>\n",
              "      <th>28</th>\n",
              "      <td>University of California, Davis</td>\n",
              "      <td>SPECIALIZATION</td>\n",
              "      <td>4.533333</td>\n",
              "    </tr>\n",
              "    <tr>\n",
              "      <th>34</th>\n",
              "      <td>University of Michigan</td>\n",
              "      <td>SPECIALIZATION</td>\n",
              "      <td>4.500000</td>\n",
              "    </tr>\n",
              "    <tr>\n",
              "      <th>16</th>\n",
              "      <td>National Research University Higher School of ...</td>\n",
              "      <td>SPECIALIZATION</td>\n",
              "      <td>4.500000</td>\n",
              "    </tr>\n",
              "    <tr>\n",
              "      <th>29</th>\n",
              "      <td>University of Colorado Boulder</td>\n",
              "      <td>SPECIALIZATION</td>\n",
              "      <td>4.500000</td>\n",
              "    </tr>\n",
              "    <tr>\n",
              "      <th>13</th>\n",
              "      <td>Johns Hopkins University</td>\n",
              "      <td>COURSE</td>\n",
              "      <td>4.500000</td>\n",
              "    </tr>\n",
              "    <tr>\n",
              "      <th>0</th>\n",
              "      <td>Amazon Web Services</td>\n",
              "      <td>COURSE</td>\n",
              "      <td>4.500000</td>\n",
              "    </tr>\n",
              "    <tr>\n",
              "      <th>14</th>\n",
              "      <td>Johns Hopkins University</td>\n",
              "      <td>SPECIALIZATION</td>\n",
              "      <td>4.480000</td>\n",
              "    </tr>\n",
              "    <tr>\n",
              "      <th>11</th>\n",
              "      <td>Imperial College London</td>\n",
              "      <td>COURSE</td>\n",
              "      <td>4.466667</td>\n",
              "    </tr>\n",
              "    <tr>\n",
              "      <th>7</th>\n",
              "      <td>Google Cloud</td>\n",
              "      <td>SPECIALIZATION</td>\n",
              "      <td>4.375000</td>\n",
              "    </tr>\n",
              "    <tr>\n",
              "      <th>32</th>\n",
              "      <td>University of Maryland, College Park</td>\n",
              "      <td>SPECIALIZATION</td>\n",
              "      <td>4.300000</td>\n",
              "    </tr>\n",
              "    <tr>\n",
              "      <th>4</th>\n",
              "      <td>ESSEC Business School</td>\n",
              "      <td>SPECIALIZATION</td>\n",
              "      <td>4.300000</td>\n",
              "    </tr>\n",
              "    <tr>\n",
              "      <th>5</th>\n",
              "      <td>Emory University</td>\n",
              "      <td>SPECIALIZATION</td>\n",
              "      <td>4.200000</td>\n",
              "    </tr>\n",
              "    <tr>\n",
              "      <th>17</th>\n",
              "      <td>New York Institute of Finance</td>\n",
              "      <td>COURSE</td>\n",
              "      <td>4.000000</td>\n",
              "    </tr>\n",
              "    <tr>\n",
              "      <th>18</th>\n",
              "      <td>New York University</td>\n",
              "      <td>SPECIALIZATION</td>\n",
              "      <td>3.700000</td>\n",
              "    </tr>\n",
              "  </tbody>\n",
              "</table>\n",
              "</div>"
            ],
            "text/plain": [
              "                                  course_organization  ... course_rating\n",
              "22                                Stanford University  ...      4.900000\n",
              "26                            University of Amsterdam  ...      4.800000\n",
              "24                              University of Alberta  ...      4.800000\n",
              "19                                                PwC  ...      4.800000\n",
              "39                                    deeplearning.ai  ...      4.763636\n",
              "40                                    deeplearning.ai  ...      4.750000\n",
              "15                                          MathWorks  ...      4.700000\n",
              "30         University of Illinois at Urbana-Champaign  ...      4.700000\n",
              "25                              University of Alberta  ...      4.700000\n",
              "23            Universidad Nacional Autónoma de México  ...      4.700000\n",
              "20         Rutgers the State University of New Jersey  ...      4.700000\n",
              "8                                                 IBM  ...      4.655556\n",
              "36                         University of Pennsylvania  ...      4.600000\n",
              "31                               University of London  ...      4.600000\n",
              "3                               EDHEC Business School  ...      4.600000\n",
              "27                    University of California, Davis  ...      4.600000\n",
              "2                                     Duke University  ...      4.600000\n",
              "38                           University of Washington  ...      4.600000\n",
              "9                                                 IBM  ...      4.600000\n",
              "1                                 Automation Anywhere  ...      4.600000\n",
              "21                                                SAS  ...      4.600000\n",
              "12                            Imperial College London  ...      4.600000\n",
              "37                           University of Washington  ...      4.600000\n",
              "6                                        Google Cloud  ...      4.600000\n",
              "35                         University of Pennsylvania  ...      4.566667\n",
              "33                             University of Michigan  ...      4.550000\n",
              "10                                                IBM  ...      4.540000\n",
              "28                    University of California, Davis  ...      4.533333\n",
              "34                             University of Michigan  ...      4.500000\n",
              "16  National Research University Higher School of ...  ...      4.500000\n",
              "29                     University of Colorado Boulder  ...      4.500000\n",
              "13                           Johns Hopkins University  ...      4.500000\n",
              "0                                 Amazon Web Services  ...      4.500000\n",
              "14                           Johns Hopkins University  ...      4.480000\n",
              "11                            Imperial College London  ...      4.466667\n",
              "7                                        Google Cloud  ...      4.375000\n",
              "32               University of Maryland, College Park  ...      4.300000\n",
              "4                               ESSEC Business School  ...      4.300000\n",
              "5                                    Emory University  ...      4.200000\n",
              "17                      New York Institute of Finance  ...      4.000000\n",
              "18                                New York University  ...      3.700000\n",
              "\n",
              "[41 rows x 3 columns]"
            ]
          },
          "metadata": {
            "tags": []
          },
          "execution_count": 37
        }
      ]
    },
    {
      "cell_type": "markdown",
      "metadata": {
        "id": "ZqiahTQ7Z9kC",
        "colab_type": "text"
      },
      "source": [
        "This current pandemic forced us to remain indoors and motivated us to come up with new skills and depth of knowledge. Here, Coursera comes up with all these under same roof giving us the wonderful opportunity to boost our skills in this developing World and many renouned Institutes and Organisations (such as Google,Amazon,deeplearning.ai,Stanford University,John Hopkins University and many more) comes up with various specific courses and specializations.So basically our first experiences with this courses/specializations and organizations/institutes kickstarts here. I have analysed the data on the basis of course title, course organization, course rating,course difficulty and the no. of students enrolled. This data analysis will highlight the fact that how various Coursera Courses/Specializations from various Institutions and Organizations helped innumerous students in this pandemic with their good content as their individual ratings got reflected and helped more upcoming students to choose those courses more wisely. Some Exploratory Data Analysis (EDA) helped us to play with the data and come up with important conclusions, various plots and visualizations.\n",
        "\n",
        "Hope it helps:)\n",
        "\n",
        "Thank You"
      ]
    }
  ]
}